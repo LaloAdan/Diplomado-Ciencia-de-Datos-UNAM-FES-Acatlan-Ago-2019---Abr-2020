{
 "cells": [
  {
   "cell_type": "code",
   "execution_count": 105,
   "metadata": {},
   "outputs": [],
   "source": [
    "%config IPCompleter.greedy=True\n",
    "import os\n",
    "import pygal\n",
    "import numpy as np\n",
    "import pandas as pd\n",
    "import cairosvg\n",
    "import datetime\n",
    "import matplotlib.pyplot as plt\n",
    "from scipy.stats import ks_2samp\n",
    "from scipy.stats import chisquare\n",
    "path_datos = \"/home/lalo/Documentos/Diplomado Ciencia de Datos/Modulo 1/Examen 2/\"\n",
    "\n",
    "tabla = pd.read_csv(path_datos + \"movies.csv\")"
   ]
  },
  {
   "cell_type": "code",
   "execution_count": 2,
   "metadata": {},
   "outputs": [
    {
     "data": {
      "text/plain": [
       "(5043, 16)"
      ]
     },
     "execution_count": 2,
     "metadata": {},
     "output_type": "execute_result"
    }
   ],
   "source": [
    "tabla.shape"
   ]
  },
  {
   "cell_type": "markdown",
   "metadata": {},
   "source": [
    "# 1. Analisis Exploratorio de Datos"
   ]
  },
  {
   "cell_type": "markdown",
   "metadata": {},
   "source": [
    "## 1.1 Indique cuales de las variables presentadas son discretas y cuales continuas."
   ]
  },
  {
   "cell_type": "code",
   "execution_count": 3,
   "metadata": {},
   "outputs": [
    {
     "data": {
      "text/plain": [
       "Index(['movie_title', 'movie_imdb_link', 'color', 'genre_4', 'duration',\n",
       "       'gross', 'genre_1', 'genre_2', 'genre_3', 'num_voted_users',\n",
       "       'facenumber_in_poster', 'language', 'country', 'content_rating',\n",
       "       'title_year', 'imdb_score'],\n",
       "      dtype='object')"
      ]
     },
     "execution_count": 3,
     "metadata": {},
     "output_type": "execute_result"
    }
   ],
   "source": [
    "tabla.columns\n",
    "# Discretas. 'color', 'genre_4', 'genre_1', 'genre_2', 'genre_3', 'language','content_rating',\n",
    "#           'facenumber_in_poster','movie_title', 'movie_imdb_link','title_year','imdb_score','country'\n",
    "# Continuas.''gross', 'duration','num_voted_users'"
   ]
  },
  {
   "cell_type": "markdown",
   "metadata": {},
   "source": [
    "## 1.2 Realice una exploración visual ligera de los datos"
   ]
  },
  {
   "cell_type": "code",
   "execution_count": 4,
   "metadata": {},
   "outputs": [],
   "source": [
    "ls_dis = ['color', 'genre_4', 'genre_1', 'genre_2', 'genre_3', 'language','content_rating',\n",
    "          'facenumber_in_poster','movie_title', 'movie_imdb_link','title_year','imdb_score','country']\n",
    "\n",
    "ls_cont = ['gross', 'duration','num_voted_users']\n",
    "tabla_aux =  pd.DataFrame(tabla)"
   ]
  },
  {
   "cell_type": "code",
   "execution_count": 5,
   "metadata": {},
   "outputs": [],
   "source": [
    "def Explo_light_Dis(var):\n",
    "    path_img_hist = \"/home/lalo/Documentos/Diplomado Ciencia de Datos/Modulo 1/Examen 2/Analisis exploratorio. Exploracion ligera/\"\n",
    "    tabla_aux[var] = tabla_aux[var].fillna('Sin '+ var)\n",
    "       \n",
    "    table_freq = pd.value_counts(tabla_aux[var]).to_frame().reset_index()\n",
    "    table_freq.columns = ['Unicos','Conteo']\n",
    "\n",
    "    line_chart = pygal.Bar()\n",
    "    line_chart.title = 'grafica ' + var\n",
    "    line_chart.x_labels = map(str, table_freq['Unicos'])\n",
    "    line_chart.add( var,table_freq['Conteo'])\n",
    "    \n",
    "    nombre_grafica =  \"Analisis_exploratorio_\" + var\n",
    "    line_chart.render_to_png(path_img_hist + nombre_grafica)"
   ]
  },
  {
   "cell_type": "code",
   "execution_count": 6,
   "metadata": {},
   "outputs": [],
   "source": [
    "for var_dis in ls_dis:\n",
    "    Explo_light_Dis(var_dis)"
   ]
  },
  {
   "cell_type": "code",
   "execution_count": 7,
   "metadata": {},
   "outputs": [
    {
     "name": "stderr",
     "output_type": "stream",
     "text": [
      "/home/lalo/anaconda3/lib/python3.7/site-packages/ipykernel_launcher.py:1: FutureWarning: convert_objects is deprecated.  To re-infer data dtypes for object columns, use Series.infer_objects()\n",
      "For all other conversions use the data-type specific converters pd.to_datetime, pd.to_timedelta and pd.to_numeric.\n",
      "  \"\"\"Entry point for launching an IPython kernel.\n"
     ]
    }
   ],
   "source": [
    "tabla_aux['num_voted_users'] = tabla_aux['num_voted_users'].convert_objects(convert_numeric=True)"
   ]
  },
  {
   "cell_type": "code",
   "execution_count": 8,
   "metadata": {},
   "outputs": [],
   "source": [
    "tabla_aux['num_voted_users'] = tabla_aux['num_voted_users'].fillna(0)"
   ]
  },
  {
   "cell_type": "code",
   "execution_count": 9,
   "metadata": {},
   "outputs": [
    {
     "data": {
      "text/plain": [
       "count    5,028.0\n",
       "mean       107.2\n",
       "std         25.2\n",
       "min          7.0\n",
       "0%           7.0\n",
       "1%          43.0\n",
       "5%          81.0\n",
       "10%         86.0\n",
       "20%         91.0\n",
       "30%         95.0\n",
       "40%         99.0\n",
       "50%        103.0\n",
       "60%        108.0\n",
       "70%        114.0\n",
       "80%        122.0\n",
       "90%        134.0\n",
       "95%        146.0\n",
       "99%        189.0\n",
       "max        511.0\n",
       "Name: duration, dtype: object"
      ]
     },
     "execution_count": 9,
     "metadata": {},
     "output_type": "execute_result"
    }
   ],
   "source": [
    "tabla_aux['duration'].describe(percentiles = [x/10 for x in range(10)]+[0.01, 0.05, 0.95, 0.99]).apply(\"{0:,.1f}\".format)\n",
    "# 'gross', 'duration','num_voted_users'"
   ]
  },
  {
   "cell_type": "code",
   "execution_count": 10,
   "metadata": {},
   "outputs": [],
   "source": [
    "def Explo_light_Cont(var):\n",
    "    path_img_hist = \"/home/lalo/Documentos/Diplomado Ciencia de Datos/Modulo 1/Examen 2/Analisis exploratorio. Exploracion ligera/\"\n",
    "\n",
    "    fig = plt.hist(tabla_aux[var])\n",
    "    nombre_grafica =  \"Analisis_exploratorio_\" + var\n",
    "    plt.savefig(path_img_hist + nombre_grafica)\n",
    "    "
   ]
  },
  {
   "cell_type": "code",
   "execution_count": 13,
   "metadata": {},
   "outputs": [
    {
     "data": {
      "image/png": "[encoded data removed]",
      "text/plain": [
       "<Figure size 432x288 with 1 Axes>"
      ]
     },
     "metadata": {
      "needs_background": "light"
     },
     "output_type": "display_data"
    }
   ],
   "source": [
    "Explo_light_Cont('num_voted_users')"
   ]
  },
  {
   "cell_type": "code",
   "execution_count": 12,
   "metadata": {},
   "outputs": [
    {
     "name": "stderr",
     "output_type": "stream",
     "text": [
      "/home/lalo/anaconda3/lib/python3.7/site-packages/numpy/lib/histograms.py:824: RuntimeWarning: invalid value encountered in greater_equal\n",
      "  keep = (tmp_a >= first_edge)\n",
      "/home/lalo/anaconda3/lib/python3.7/site-packages/numpy/lib/histograms.py:825: RuntimeWarning: invalid value encountered in less_equal\n",
      "  keep &= (tmp_a <= last_edge)\n"
     ]
    },
    {
     "data": {
      "image/png": "[encoded data removed]",
      "text/plain": [
       "<Figure size 432x288 with 1 Axes>"
      ]
     },
     "metadata": {
      "needs_background": "light"
     },
     "output_type": "display_data"
    }
   ],
   "source": [
    "for var_cont in ls_cont:\n",
    "    Explo_light_Cont(var_cont)"
   ]
  },
  {
   "cell_type": "markdown",
   "metadata": {},
   "source": [
    "## 1.3 Remueva outliers de aquellas variables que los presenten."
   ]
  },
  {
   "cell_type": "code",
   "execution_count": 14,
   "metadata": {},
   "outputs": [
    {
     "data": {
      "text/plain": [
       "(5043, 16)"
      ]
     },
     "execution_count": 14,
     "metadata": {},
     "output_type": "execute_result"
    }
   ],
   "source": [
    "# Solo aplica para continuas, entonces...\n",
    "ls_cont = ['gross', 'duration','num_voted_users']\n",
    "tabla_aux.shape"
   ]
  },
  {
   "cell_type": "code",
   "execution_count": 15,
   "metadata": {},
   "outputs": [],
   "source": [
    "def New_poblacion_Met_2(data_origen, var, enes=3):\n",
    "    data = pd.DataFrame(data_origen)\n",
    "    registros_originales = 5043\n",
    "    \n",
    "    sigma = data[var].std()\n",
    "    media = data[var].mean()\n",
    "    lim_inf  = media - enes*sigma\n",
    "    lim_sup = media + enes*sigma\n",
    "    data = data[(lim_inf <= data[var])  & (data[var] <= lim_sup)]\n",
    "    Nuevos_registros, Nuevas_columnas = data.shape\n",
    "    \n",
    "    return registros_originales, Nuevos_registros"
   ]
  },
  {
   "cell_type": "code",
   "execution_count": 16,
   "metadata": {},
   "outputs": [
    {
     "data": {
      "text/plain": [
       "{'gross': [(5043, 1472)],\n",
       " 'duration': [(5043, 4930)],\n",
       " 'num_voted_users': [(5043, 4932)]}"
      ]
     },
     "execution_count": 16,
     "metadata": {},
     "output_type": "execute_result"
    }
   ],
   "source": [
    "Nuevos_universos_met_2 = {}\n",
    "for var_cont in ls_cont:\n",
    "    Nuevos_universos_met_2[var_cont] = [New_poblacion_Met_2(tabla_aux,var_cont,3)]\n",
    "    \n",
    "Nuevos_universos_met_2"
   ]
  },
  {
   "cell_type": "markdown",
   "metadata": {},
   "source": [
    "## 1.4 Normalice las variables discretas que lo requieran."
   ]
  },
  {
   "cell_type": "code",
   "execution_count": 17,
   "metadata": {},
   "outputs": [],
   "source": [
    "ls_dis = ['color', 'genre_4', 'genre_1', 'genre_2', 'genre_3', 'language','content_rating',\n",
    "          'facenumber_in_poster','movie_title', 'movie_imdb_link','title_year','imdb_score','country']"
   ]
  },
  {
   "cell_type": "code",
   "execution_count": 56,
   "metadata": {},
   "outputs": [],
   "source": [
    "def Freq_para_norm(var):\n",
    "      \n",
    "    table_freq = pd.value_counts(tabla_aux[var]).to_frame().reset_index()\n",
    "    table_freq.columns = [var,'Conteo']\n",
    "\n",
    "    table_porc = pd.value_counts(tabla_aux[var],normalize = True).to_frame().reset_index()\n",
    "    table_porc.columns = [var,'Percent']\n",
    "\n",
    "    table_salida = pd.merge(table_freq, table_porc, on=var)\n",
    "    return table_salida"
   ]
  },
  {
   "cell_type": "code",
   "execution_count": 110,
   "metadata": {
    "scrolled": true
   },
   "outputs": [
    {
     "data": {
      "text/html": [
       "<div>\n",
       "<style scoped>\n",
       "    .dataframe tbody tr th:only-of-type {\n",
       "        vertical-align: middle;\n",
       "    }\n",
       "\n",
       "    .dataframe tbody tr th {\n",
       "        vertical-align: top;\n",
       "    }\n",
       "\n",
       "    .dataframe thead th {\n",
       "        text-align: right;\n",
       "    }\n",
       "</style>\n",
       "<table border=\"1\" class=\"dataframe\">\n",
       "  <thead>\n",
       "    <tr style=\"text-align: right;\">\n",
       "      <th></th>\n",
       "      <th>Variable</th>\n",
       "      <th>Conteo</th>\n",
       "      <th>Percent</th>\n",
       "    </tr>\n",
       "  </thead>\n",
       "  <tbody>\n",
       "    <tr>\n",
       "      <th>0</th>\n",
       "      <td>Color</td>\n",
       "      <td>4815</td>\n",
       "      <td>0.954789</td>\n",
       "    </tr>\n",
       "    <tr>\n",
       "      <th>1</th>\n",
       "      <td>Black and White</td>\n",
       "      <td>209</td>\n",
       "      <td>0.041444</td>\n",
       "    </tr>\n",
       "    <tr>\n",
       "      <th>2</th>\n",
       "      <td>Sin color</td>\n",
       "      <td>19</td>\n",
       "      <td>0.003768</td>\n",
       "    </tr>\n",
       "  </tbody>\n",
       "</table>\n",
       "</div>"
      ],
      "text/plain": [
       "           Variable  Conteo   Percent\n",
       "0             Color    4815  0.954789\n",
       "1   Black and White     209  0.041444\n",
       "2         Sin color      19  0.003768"
      ]
     },
     "execution_count": 110,
     "metadata": {},
     "output_type": "execute_result"
    }
   ],
   "source": [
    "Freq_para_norm('color')\n",
    "# No se normaliza"
   ]
  },
  {
   "cell_type": "code",
   "execution_count": null,
   "metadata": {},
   "outputs": [],
   "source": [
    "# 'language'(0.003569),\n",
    "# 'content_rating'(0.059885), \n",
    "# 'facenumber_in_poster'(0.022606),\n",
    "# 'title_year', SAS\n",
    "# 'imdb_score',SAS\n",
    "# 'movie_imdb_link' SAS\n",
    "# 'country'(0.010906),\n",
    "# 'genre_1'(046004),\n",
    "# 'genre_2'(0.042435),\n",
    "# 'genre_3'(0.042435),\n",
    "# 'genre_4'(0.042435)\n",
    "Freq_para_norm('genre_4')"
   ]
  },
  {
   "cell_type": "code",
   "execution_count": 162,
   "metadata": {},
   "outputs": [
    {
     "data": {
      "text/html": [
       "<div>\n",
       "<style scoped>\n",
       "    .dataframe tbody tr th:only-of-type {\n",
       "        vertical-align: middle;\n",
       "    }\n",
       "\n",
       "    .dataframe tbody tr th {\n",
       "        vertical-align: top;\n",
       "    }\n",
       "\n",
       "    .dataframe thead th {\n",
       "        text-align: right;\n",
       "    }\n",
       "</style>\n",
       "<table border=\"1\" class=\"dataframe\">\n",
       "  <thead>\n",
       "    <tr style=\"text-align: right;\">\n",
       "      <th></th>\n",
       "      <th>Variable</th>\n",
       "      <th>Bondades</th>\n",
       "    </tr>\n",
       "  </thead>\n",
       "  <tbody>\n",
       "    <tr>\n",
       "      <th>0</th>\n",
       "      <td>language</td>\n",
       "      <td>0.003569</td>\n",
       "    </tr>\n",
       "    <tr>\n",
       "      <th>1</th>\n",
       "      <td>content_rating</td>\n",
       "      <td>0.059885</td>\n",
       "    </tr>\n",
       "    <tr>\n",
       "      <th>2</th>\n",
       "      <td>facenumber_in_poster</td>\n",
       "      <td>0.022606</td>\n",
       "    </tr>\n",
       "    <tr>\n",
       "      <th>3</th>\n",
       "      <td>title_year</td>\n",
       "      <td>0.010906</td>\n",
       "    </tr>\n",
       "    <tr>\n",
       "      <th>4</th>\n",
       "      <td>country</td>\n",
       "      <td>0.046004</td>\n",
       "    </tr>\n",
       "    <tr>\n",
       "      <th>5</th>\n",
       "      <td>genre_1</td>\n",
       "      <td>0.042435</td>\n",
       "    </tr>\n",
       "    <tr>\n",
       "      <th>6</th>\n",
       "      <td>genre_2</td>\n",
       "      <td>0.042435</td>\n",
       "    </tr>\n",
       "    <tr>\n",
       "      <th>7</th>\n",
       "      <td>genre_3</td>\n",
       "      <td>0.042435</td>\n",
       "    </tr>\n",
       "    <tr>\n",
       "      <th>8</th>\n",
       "      <td>genre_4</td>\n",
       "      <td>0.042435</td>\n",
       "    </tr>\n",
       "  </tbody>\n",
       "</table>\n",
       "</div>"
      ],
      "text/plain": [
       "               Variable  Bondades\n",
       "0              language  0.003569\n",
       "1        content_rating  0.059885\n",
       "2  facenumber_in_poster  0.022606\n",
       "3            title_year  0.010906\n",
       "4               country  0.046004\n",
       "5               genre_1  0.042435\n",
       "6               genre_2  0.042435\n",
       "7               genre_3  0.042435\n",
       "8               genre_4  0.042435"
      ]
     },
     "execution_count": 162,
     "metadata": {},
     "output_type": "execute_result"
    }
   ],
   "source": [
    " Var_Dis_Normalizar = pd.DataFrame({'Variable':['language','content_rating','facenumber_in_poster','title_year','country','genre_1','genre_2','genre_3','genre_4'],\n",
    "                                    'Bondades':[0.003569  ,0.059885        ,0.022606              ,0.010906    ,0.046004 ,0.042435 ,0.042435 ,0.042435 ,0.042435]})\n",
    "\n",
    "# ls_Var_Dis_Normalizar = ['language','content_rating','facenumber_in_poster','title_year','country','genre_1','genre_2','genre_3','genre_4']\n",
    "# ls_Bon_Dis_Normalizar = [0.003569  ,0.059885        ,0.022606              ,0.010906    ,0.046004 ,0.042435 ,0.042435 ,0.042435 ,0.042435]\n",
    "\n",
    "Var_Dis_Normalizar"
   ]
  },
  {
   "cell_type": "code",
   "execution_count": null,
   "metadata": {},
   "outputs": [],
   "source": [
    "ls_disc_normalizar = ['genre_1','genre_2','genre_3','genre_4','language','content_rating',\n",
    "                      'facenumber_in_poster','title_year','imdb_score','country']\n",
    "\n",
    " \n",
    "ls_disc_NO_normalizar = ['color']\n",
    "Freq_para_norm()"
   ]
  },
  {
   "cell_type": "code",
   "execution_count": null,
   "metadata": {},
   "outputs": [],
   "source": []
  },
  {
   "cell_type": "code",
   "execution_count": 41,
   "metadata": {},
   "outputs": [],
   "source": [
    "def Normalizar_Bondad(data):\n",
    "    if data['Percent'] < Bondad:\n",
    "        Normaliza = 'Otros'\n",
    "    else: \n",
    "        Normaliza = data[var]\n",
    "    return Normaliza"
   ]
  },
  {
   "cell_type": "code",
   "execution_count": 43,
   "metadata": {},
   "outputs": [
    {
     "data": {
      "text/plain": [
       "Index(['movie_title', 'movie_imdb_link', 'color', 'genre_4', 'duration',\n",
       "       'gross', 'genre_1', 'genre_2', 'genre_3', 'num_voted_users',\n",
       "       'facenumber_in_poster', 'language', 'country', 'content_rating',\n",
       "       'title_year', 'imdb_score', 'language_Norm'],\n",
       "      dtype='object')"
      ]
     },
     "execution_count": 43,
     "metadata": {},
     "output_type": "execute_result"
    }
   ],
   "source": [
    "var = 'language'\n",
    "Bondad = 0.003569\n",
    "\n",
    "# def Normalizar(var,Bondad_var):\n",
    "#     Bondad = Bondad_var\n",
    "#     table_freq = pd.value_counts(tabla_aux[var]).to_frame().reset_index()\n",
    "#     table_freq.columns = [var,'Conteo']\n",
    "\n",
    "table_salida = pd.value_counts(tabla_aux[var],normalize = True).to_frame().reset_index()\n",
    "table_salida.columns = [var,'Percent']    \n",
    "table_salida[var + '_Norm'] = table_salida.apply(Normalizar_Bondad,axis=1)\n",
    "Tabla_normalizada = pd.DataFrame(table_salida, columns = [var,var + '_Norm'])\n",
    "tabla_aux = pd.merge(tabla_aux, Tabla_normalizada, on=var)\n",
    "tabla_aux.columns"
   ]
  },
  {
   "cell_type": "code",
   "execution_count": 45,
   "metadata": {},
   "outputs": [
    {
     "data": {
      "text/plain": [
       "Index(['movie_title', 'movie_imdb_link', 'color', 'genre_4', 'duration',\n",
       "       'gross', 'genre_1', 'genre_2', 'genre_3', 'num_voted_users',\n",
       "       'facenumber_in_poster', 'language', 'country', 'content_rating',\n",
       "       'title_year', 'imdb_score', 'language_Norm', 'content_rating_Norm'],\n",
       "      dtype='object')"
      ]
     },
     "execution_count": 45,
     "metadata": {},
     "output_type": "execute_result"
    }
   ],
   "source": [
    "# Normalizar('content_rating',0.059885)\n",
    "var = 'content_rating'\n",
    "Bondad = 0.059885\n",
    "\n",
    "table_salida = pd.value_counts(tabla_aux[var],normalize = True).to_frame().reset_index()\n",
    "table_salida.columns = [var,'Percent']    \n",
    "table_salida[var + '_Norm'] = table_salida.apply(Normalizar_Bondad,axis=1)\n",
    "Tabla_normalizada = pd.DataFrame(table_salida, columns = [var,var + '_Norm'])\n",
    "tabla_aux = pd.merge(tabla_aux, Tabla_normalizada, on=var)\n",
    "tabla_aux.columns"
   ]
  },
  {
   "cell_type": "code",
   "execution_count": 46,
   "metadata": {},
   "outputs": [
    {
     "data": {
      "text/plain": [
       "Index(['movie_title', 'movie_imdb_link', 'color', 'genre_4', 'duration',\n",
       "       'gross', 'genre_1', 'genre_2', 'genre_3', 'num_voted_users',\n",
       "       'facenumber_in_poster', 'language', 'country', 'content_rating',\n",
       "       'title_year', 'imdb_score', 'language_Norm', 'content_rating_Norm',\n",
       "       'facenumber_in_poster_Norm'],\n",
       "      dtype='object')"
      ]
     },
     "execution_count": 46,
     "metadata": {},
     "output_type": "execute_result"
    }
   ],
   "source": [
    "# Normalizar('facenumber_in_poster',0.022606)\n",
    "var = 'facenumber_in_poster'\n",
    "Bondad = 0.022606\n",
    "\n",
    "table_salida = pd.value_counts(tabla_aux[var],normalize = True).to_frame().reset_index()\n",
    "table_salida.columns = [var,'Percent']    \n",
    "table_salida[var + '_Norm'] = table_salida.apply(Normalizar_Bondad,axis=1)\n",
    "Tabla_normalizada = pd.DataFrame(table_salida, columns = [var,var + '_Norm'])\n",
    "tabla_aux = pd.merge(tabla_aux, Tabla_normalizada, on=var)\n",
    "tabla_aux.columns"
   ]
  },
  {
   "cell_type": "code",
   "execution_count": 47,
   "metadata": {},
   "outputs": [
    {
     "data": {
      "text/plain": [
       "Index(['movie_title', 'movie_imdb_link', 'color', 'genre_4', 'duration',\n",
       "       'gross', 'genre_1', 'genre_2', 'genre_3', 'num_voted_users',\n",
       "       'facenumber_in_poster', 'language', 'country', 'content_rating',\n",
       "       'title_year', 'imdb_score', 'language_Norm', 'content_rating_Norm',\n",
       "       'facenumber_in_poster_Norm', 'title_year_Norm'],\n",
       "      dtype='object')"
      ]
     },
     "execution_count": 47,
     "metadata": {},
     "output_type": "execute_result"
    }
   ],
   "source": [
    "# Normalizar('title_year',0.010906)\n",
    "var = 'title_year'\n",
    "Bondad = 0.010906\n",
    "\n",
    "table_salida = pd.value_counts(tabla_aux[var],normalize = True).to_frame().reset_index()\n",
    "table_salida.columns = [var,'Percent']    \n",
    "table_salida[var + '_Norm'] = table_salida.apply(Normalizar_Bondad,axis=1)\n",
    "Tabla_normalizada = pd.DataFrame(table_salida, columns = [var,var + '_Norm'])\n",
    "tabla_aux = pd.merge(tabla_aux, Tabla_normalizada, on=var)\n",
    "tabla_aux.columns\n"
   ]
  },
  {
   "cell_type": "code",
   "execution_count": 48,
   "metadata": {},
   "outputs": [
    {
     "data": {
      "text/plain": [
       "Index(['movie_title', 'movie_imdb_link', 'color', 'genre_4', 'duration',\n",
       "       'gross', 'genre_1', 'genre_2', 'genre_3', 'num_voted_users',\n",
       "       'facenumber_in_poster', 'language', 'country', 'content_rating',\n",
       "       'title_year', 'imdb_score', 'language_Norm', 'content_rating_Norm',\n",
       "       'facenumber_in_poster_Norm', 'title_year_Norm', 'country_Norm'],\n",
       "      dtype='object')"
      ]
     },
     "execution_count": 48,
     "metadata": {},
     "output_type": "execute_result"
    }
   ],
   "source": [
    "# Normalizar('country',0.046004)\n",
    "var = 'country'\n",
    "Bondad = 0.046004\n",
    "\n",
    "table_salida = pd.value_counts(tabla_aux[var],normalize = True).to_frame().reset_index()\n",
    "table_salida.columns = [var,'Percent']    \n",
    "table_salida[var + '_Norm'] = table_salida.apply(Normalizar_Bondad,axis=1)\n",
    "Tabla_normalizada = pd.DataFrame(table_salida, columns = [var,var + '_Norm'])\n",
    "tabla_aux = pd.merge(tabla_aux, Tabla_normalizada, on=var)\n",
    "tabla_aux.columns"
   ]
  },
  {
   "cell_type": "code",
   "execution_count": 49,
   "metadata": {},
   "outputs": [
    {
     "data": {
      "text/plain": [
       "Index(['movie_title', 'movie_imdb_link', 'color', 'genre_4', 'duration',\n",
       "       'gross', 'genre_1', 'genre_2', 'genre_3', 'num_voted_users',\n",
       "       'facenumber_in_poster', 'language', 'country', 'content_rating',\n",
       "       'title_year', 'imdb_score', 'language_Norm', 'content_rating_Norm',\n",
       "       'facenumber_in_poster_Norm', 'title_year_Norm', 'country_Norm',\n",
       "       'genre_1_Norm'],\n",
       "      dtype='object')"
      ]
     },
     "execution_count": 49,
     "metadata": {},
     "output_type": "execute_result"
    }
   ],
   "source": [
    "# Normalizar('genre_1',0.042435)\n",
    "var = 'genre_1'\n",
    "Bondad = 0.042435\n",
    "\n",
    "table_salida = pd.value_counts(tabla_aux[var],normalize = True).to_frame().reset_index()\n",
    "table_salida.columns = [var,'Percent']    \n",
    "table_salida[var + '_Norm'] = table_salida.apply(Normalizar_Bondad,axis=1)\n",
    "Tabla_normalizada = pd.DataFrame(table_salida, columns = [var,var + '_Norm'])\n",
    "tabla_aux = pd.merge(tabla_aux, Tabla_normalizada, on=var)\n",
    "tabla_aux.columns"
   ]
  },
  {
   "cell_type": "code",
   "execution_count": 50,
   "metadata": {},
   "outputs": [
    {
     "data": {
      "text/plain": [
       "Index(['movie_title', 'movie_imdb_link', 'color', 'genre_4', 'duration',\n",
       "       'gross', 'genre_1', 'genre_2', 'genre_3', 'num_voted_users',\n",
       "       'facenumber_in_poster', 'language', 'country', 'content_rating',\n",
       "       'title_year', 'imdb_score', 'language_Norm', 'content_rating_Norm',\n",
       "       'facenumber_in_poster_Norm', 'title_year_Norm', 'country_Norm',\n",
       "       'genre_1_Norm', 'genre_2_Norm'],\n",
       "      dtype='object')"
      ]
     },
     "execution_count": 50,
     "metadata": {},
     "output_type": "execute_result"
    }
   ],
   "source": [
    "# Normalizar('genre_2',0.042435)\n",
    "var = 'genre_2'\n",
    "Bondad = 0.042435\n",
    "\n",
    "table_salida = pd.value_counts(tabla_aux[var],normalize = True).to_frame().reset_index()\n",
    "table_salida.columns = [var,'Percent']    \n",
    "table_salida[var + '_Norm'] = table_salida.apply(Normalizar_Bondad,axis=1)\n",
    "Tabla_normalizada = pd.DataFrame(table_salida, columns = [var,var + '_Norm'])\n",
    "tabla_aux = pd.merge(tabla_aux, Tabla_normalizada, on=var)\n",
    "tabla_aux.columns"
   ]
  },
  {
   "cell_type": "code",
   "execution_count": 51,
   "metadata": {},
   "outputs": [
    {
     "data": {
      "text/plain": [
       "Index(['movie_title', 'movie_imdb_link', 'color', 'genre_4', 'duration',\n",
       "       'gross', 'genre_1', 'genre_2', 'genre_3', 'num_voted_users',\n",
       "       'facenumber_in_poster', 'language', 'country', 'content_rating',\n",
       "       'title_year', 'imdb_score', 'language_Norm', 'content_rating_Norm',\n",
       "       'facenumber_in_poster_Norm', 'title_year_Norm', 'country_Norm',\n",
       "       'genre_1_Norm', 'genre_2_Norm', 'genre_3_Norm'],\n",
       "      dtype='object')"
      ]
     },
     "execution_count": 51,
     "metadata": {},
     "output_type": "execute_result"
    }
   ],
   "source": [
    "# Normalizar('genre_3',0.042435)\n",
    "var = 'genre_3'\n",
    "Bondad = 0.042435\n",
    "\n",
    "table_salida = pd.value_counts(tabla_aux[var],normalize = True).to_frame().reset_index()\n",
    "table_salida.columns = [var,'Percent']    \n",
    "table_salida[var + '_Norm'] = table_salida.apply(Normalizar_Bondad,axis=1)\n",
    "Tabla_normalizada = pd.DataFrame(table_salida, columns = [var,var + '_Norm'])\n",
    "tabla_aux = pd.merge(tabla_aux, Tabla_normalizada, on=var)\n",
    "tabla_aux.columns"
   ]
  },
  {
   "cell_type": "code",
   "execution_count": 52,
   "metadata": {},
   "outputs": [
    {
     "data": {
      "text/plain": [
       "Index(['movie_title', 'movie_imdb_link', 'color', 'genre_4', 'duration',\n",
       "       'gross', 'genre_1', 'genre_2', 'genre_3', 'num_voted_users',\n",
       "       'facenumber_in_poster', 'language', 'country', 'content_rating',\n",
       "       'title_year', 'imdb_score', 'language_Norm', 'content_rating_Norm',\n",
       "       'facenumber_in_poster_Norm', 'title_year_Norm', 'country_Norm',\n",
       "       'genre_1_Norm', 'genre_2_Norm', 'genre_3_Norm', 'genre_4_Norm'],\n",
       "      dtype='object')"
      ]
     },
     "execution_count": 52,
     "metadata": {},
     "output_type": "execute_result"
    }
   ],
   "source": [
    "# Normalizar('genre_4',0.042435)\n",
    "var = 'genre_4'\n",
    "Bondad = 0.042435\n",
    "\n",
    "table_salida = pd.value_counts(tabla_aux[var],normalize = True).to_frame().reset_index()\n",
    "table_salida.columns = [var,'Percent']    \n",
    "table_salida[var + '_Norm'] = table_salida.apply(Normalizar_Bondad,axis=1)\n",
    "Tabla_normalizada = pd.DataFrame(table_salida, columns = [var,var + '_Norm'])\n",
    "tabla_aux = pd.merge(tabla_aux, Tabla_normalizada, on=var)\n",
    "tabla_aux.columns"
   ]
  },
  {
   "cell_type": "code",
   "execution_count": 57,
   "metadata": {},
   "outputs": [
    {
     "data": {
      "text/html": [
       "<div>\n",
       "<style scoped>\n",
       "    .dataframe tbody tr th:only-of-type {\n",
       "        vertical-align: middle;\n",
       "    }\n",
       "\n",
       "    .dataframe tbody tr th {\n",
       "        vertical-align: top;\n",
       "    }\n",
       "\n",
       "    .dataframe thead th {\n",
       "        text-align: right;\n",
       "    }\n",
       "</style>\n",
       "<table border=\"1\" class=\"dataframe\">\n",
       "  <thead>\n",
       "    <tr style=\"text-align: right;\">\n",
       "      <th></th>\n",
       "      <th>language_Norm</th>\n",
       "      <th>Conteo</th>\n",
       "      <th>Percent</th>\n",
       "    </tr>\n",
       "  </thead>\n",
       "  <tbody>\n",
       "    <tr>\n",
       "      <th>0</th>\n",
       "      <td>English</td>\n",
       "      <td>4703</td>\n",
       "      <td>0.932580</td>\n",
       "    </tr>\n",
       "    <tr>\n",
       "      <th>1</th>\n",
       "      <td>Otros</td>\n",
       "      <td>136</td>\n",
       "      <td>0.026968</td>\n",
       "    </tr>\n",
       "    <tr>\n",
       "      <th>2</th>\n",
       "      <td>French</td>\n",
       "      <td>73</td>\n",
       "      <td>0.014476</td>\n",
       "    </tr>\n",
       "    <tr>\n",
       "      <th>3</th>\n",
       "      <td>Spanish</td>\n",
       "      <td>40</td>\n",
       "      <td>0.007932</td>\n",
       "    </tr>\n",
       "    <tr>\n",
       "      <th>4</th>\n",
       "      <td>Hindi</td>\n",
       "      <td>28</td>\n",
       "      <td>0.005552</td>\n",
       "    </tr>\n",
       "    <tr>\n",
       "      <th>5</th>\n",
       "      <td>Mandarin</td>\n",
       "      <td>26</td>\n",
       "      <td>0.005156</td>\n",
       "    </tr>\n",
       "    <tr>\n",
       "      <th>6</th>\n",
       "      <td>German</td>\n",
       "      <td>19</td>\n",
       "      <td>0.003768</td>\n",
       "    </tr>\n",
       "    <tr>\n",
       "      <th>7</th>\n",
       "      <td>Japanese</td>\n",
       "      <td>18</td>\n",
       "      <td>0.003569</td>\n",
       "    </tr>\n",
       "  </tbody>\n",
       "</table>\n",
       "</div>"
      ],
      "text/plain": [
       "  language_Norm  Conteo   Percent\n",
       "0       English    4703  0.932580\n",
       "1         Otros     136  0.026968\n",
       "2        French      73  0.014476\n",
       "3       Spanish      40  0.007932\n",
       "4         Hindi      28  0.005552\n",
       "5      Mandarin      26  0.005156\n",
       "6        German      19  0.003768\n",
       "7      Japanese      18  0.003569"
      ]
     },
     "execution_count": 57,
     "metadata": {},
     "output_type": "execute_result"
    }
   ],
   "source": [
    "var = 'language'\n",
    "var_norm = var + '_Norm'\n",
    "Freq_para_norm(var_norm)"
   ]
  },
  {
   "cell_type": "code",
   "execution_count": 58,
   "metadata": {},
   "outputs": [
    {
     "data": {
      "text/html": [
       "<div>\n",
       "<style scoped>\n",
       "    .dataframe tbody tr th:only-of-type {\n",
       "        vertical-align: middle;\n",
       "    }\n",
       "\n",
       "    .dataframe tbody tr th {\n",
       "        vertical-align: top;\n",
       "    }\n",
       "\n",
       "    .dataframe thead th {\n",
       "        text-align: right;\n",
       "    }\n",
       "</style>\n",
       "<table border=\"1\" class=\"dataframe\">\n",
       "  <thead>\n",
       "    <tr style=\"text-align: right;\">\n",
       "      <th></th>\n",
       "      <th>content_rating_Norm</th>\n",
       "      <th>Conteo</th>\n",
       "      <th>Percent</th>\n",
       "    </tr>\n",
       "  </thead>\n",
       "  <tbody>\n",
       "    <tr>\n",
       "      <th>0</th>\n",
       "      <td>R</td>\n",
       "      <td>2118</td>\n",
       "      <td>0.419988</td>\n",
       "    </tr>\n",
       "    <tr>\n",
       "      <th>1</th>\n",
       "      <td>PG-13</td>\n",
       "      <td>1461</td>\n",
       "      <td>0.289709</td>\n",
       "    </tr>\n",
       "    <tr>\n",
       "      <th>2</th>\n",
       "      <td>Otros</td>\n",
       "      <td>763</td>\n",
       "      <td>0.151299</td>\n",
       "    </tr>\n",
       "    <tr>\n",
       "      <th>3</th>\n",
       "      <td>PG</td>\n",
       "      <td>701</td>\n",
       "      <td>0.139005</td>\n",
       "    </tr>\n",
       "  </tbody>\n",
       "</table>\n",
       "</div>"
      ],
      "text/plain": [
       "  content_rating_Norm  Conteo   Percent\n",
       "0                   R    2118  0.419988\n",
       "1               PG-13    1461  0.289709\n",
       "2               Otros     763  0.151299\n",
       "3                  PG     701  0.139005"
      ]
     },
     "execution_count": 58,
     "metadata": {},
     "output_type": "execute_result"
    }
   ],
   "source": [
    "var = 'content_rating'\n",
    "var_norm = var + '_Norm'\n",
    "Freq_para_norm(var_norm)"
   ]
  },
  {
   "cell_type": "code",
   "execution_count": 59,
   "metadata": {},
   "outputs": [
    {
     "data": {
      "text/html": [
       "<div>\n",
       "<style scoped>\n",
       "    .dataframe tbody tr th:only-of-type {\n",
       "        vertical-align: middle;\n",
       "    }\n",
       "\n",
       "    .dataframe tbody tr th {\n",
       "        vertical-align: top;\n",
       "    }\n",
       "\n",
       "    .dataframe thead th {\n",
       "        text-align: right;\n",
       "    }\n",
       "</style>\n",
       "<table border=\"1\" class=\"dataframe\">\n",
       "  <thead>\n",
       "    <tr style=\"text-align: right;\">\n",
       "      <th></th>\n",
       "      <th>language_Norm</th>\n",
       "      <th>Conteo</th>\n",
       "      <th>Percent</th>\n",
       "    </tr>\n",
       "  </thead>\n",
       "  <tbody>\n",
       "    <tr>\n",
       "      <th>0</th>\n",
       "      <td>English</td>\n",
       "      <td>4703</td>\n",
       "      <td>0.932580</td>\n",
       "    </tr>\n",
       "    <tr>\n",
       "      <th>1</th>\n",
       "      <td>Otros</td>\n",
       "      <td>136</td>\n",
       "      <td>0.026968</td>\n",
       "    </tr>\n",
       "    <tr>\n",
       "      <th>2</th>\n",
       "      <td>French</td>\n",
       "      <td>73</td>\n",
       "      <td>0.014476</td>\n",
       "    </tr>\n",
       "    <tr>\n",
       "      <th>3</th>\n",
       "      <td>Spanish</td>\n",
       "      <td>40</td>\n",
       "      <td>0.007932</td>\n",
       "    </tr>\n",
       "    <tr>\n",
       "      <th>4</th>\n",
       "      <td>Hindi</td>\n",
       "      <td>28</td>\n",
       "      <td>0.005552</td>\n",
       "    </tr>\n",
       "    <tr>\n",
       "      <th>5</th>\n",
       "      <td>Mandarin</td>\n",
       "      <td>26</td>\n",
       "      <td>0.005156</td>\n",
       "    </tr>\n",
       "    <tr>\n",
       "      <th>6</th>\n",
       "      <td>German</td>\n",
       "      <td>19</td>\n",
       "      <td>0.003768</td>\n",
       "    </tr>\n",
       "    <tr>\n",
       "      <th>7</th>\n",
       "      <td>Japanese</td>\n",
       "      <td>18</td>\n",
       "      <td>0.003569</td>\n",
       "    </tr>\n",
       "  </tbody>\n",
       "</table>\n",
       "</div>"
      ],
      "text/plain": [
       "  language_Norm  Conteo   Percent\n",
       "0       English    4703  0.932580\n",
       "1         Otros     136  0.026968\n",
       "2        French      73  0.014476\n",
       "3       Spanish      40  0.007932\n",
       "4         Hindi      28  0.005552\n",
       "5      Mandarin      26  0.005156\n",
       "6        German      19  0.003768\n",
       "7      Japanese      18  0.003569"
      ]
     },
     "execution_count": 59,
     "metadata": {},
     "output_type": "execute_result"
    }
   ],
   "source": [
    "var = 'language'\n",
    "var_norm = var + '_Norm'\n",
    "Freq_para_norm(var_norm)\n"
   ]
  },
  {
   "cell_type": "code",
   "execution_count": 60,
   "metadata": {},
   "outputs": [
    {
     "data": {
      "text/html": [
       "<div>\n",
       "<style scoped>\n",
       "    .dataframe tbody tr th:only-of-type {\n",
       "        vertical-align: middle;\n",
       "    }\n",
       "\n",
       "    .dataframe tbody tr th {\n",
       "        vertical-align: top;\n",
       "    }\n",
       "\n",
       "    .dataframe thead th {\n",
       "        text-align: right;\n",
       "    }\n",
       "</style>\n",
       "<table border=\"1\" class=\"dataframe\">\n",
       "  <thead>\n",
       "    <tr style=\"text-align: right;\">\n",
       "      <th></th>\n",
       "      <th>facenumber_in_poster_Norm</th>\n",
       "      <th>Conteo</th>\n",
       "      <th>Percent</th>\n",
       "    </tr>\n",
       "  </thead>\n",
       "  <tbody>\n",
       "    <tr>\n",
       "      <th>0</th>\n",
       "      <td>0</td>\n",
       "      <td>2152</td>\n",
       "      <td>0.426730</td>\n",
       "    </tr>\n",
       "    <tr>\n",
       "      <th>1</th>\n",
       "      <td>1</td>\n",
       "      <td>1251</td>\n",
       "      <td>0.248067</td>\n",
       "    </tr>\n",
       "    <tr>\n",
       "      <th>2</th>\n",
       "      <td>2</td>\n",
       "      <td>716</td>\n",
       "      <td>0.141979</td>\n",
       "    </tr>\n",
       "    <tr>\n",
       "      <th>3</th>\n",
       "      <td>3</td>\n",
       "      <td>380</td>\n",
       "      <td>0.075352</td>\n",
       "    </tr>\n",
       "    <tr>\n",
       "      <th>4</th>\n",
       "      <td>Otros</td>\n",
       "      <td>337</td>\n",
       "      <td>0.066825</td>\n",
       "    </tr>\n",
       "    <tr>\n",
       "      <th>5</th>\n",
       "      <td>4</td>\n",
       "      <td>207</td>\n",
       "      <td>0.041047</td>\n",
       "    </tr>\n",
       "  </tbody>\n",
       "</table>\n",
       "</div>"
      ],
      "text/plain": [
       "  facenumber_in_poster_Norm  Conteo   Percent\n",
       "0                         0    2152  0.426730\n",
       "1                         1    1251  0.248067\n",
       "2                         2     716  0.141979\n",
       "3                         3     380  0.075352\n",
       "4                     Otros     337  0.066825\n",
       "5                         4     207  0.041047"
      ]
     },
     "execution_count": 60,
     "metadata": {},
     "output_type": "execute_result"
    }
   ],
   "source": [
    "var = 'facenumber_in_poster'\n",
    "var_norm = var + '_Norm'\n",
    "Freq_para_norm(var_norm)"
   ]
  },
  {
   "cell_type": "code",
   "execution_count": 62,
   "metadata": {},
   "outputs": [
    {
     "data": {
      "text/html": [
       "<div>\n",
       "<style scoped>\n",
       "    .dataframe tbody tr th:only-of-type {\n",
       "        vertical-align: middle;\n",
       "    }\n",
       "\n",
       "    .dataframe tbody tr th {\n",
       "        vertical-align: top;\n",
       "    }\n",
       "\n",
       "    .dataframe thead th {\n",
       "        text-align: right;\n",
       "    }\n",
       "</style>\n",
       "<table border=\"1\" class=\"dataframe\">\n",
       "  <thead>\n",
       "    <tr style=\"text-align: right;\">\n",
       "      <th></th>\n",
       "      <th>country_Norm</th>\n",
       "      <th>Conteo</th>\n",
       "      <th>Percent</th>\n",
       "    </tr>\n",
       "  </thead>\n",
       "  <tbody>\n",
       "    <tr>\n",
       "      <th>0</th>\n",
       "      <td>USA</td>\n",
       "      <td>3806</td>\n",
       "      <td>0.754709</td>\n",
       "    </tr>\n",
       "    <tr>\n",
       "      <th>1</th>\n",
       "      <td>Otros</td>\n",
       "      <td>789</td>\n",
       "      <td>0.156454</td>\n",
       "    </tr>\n",
       "    <tr>\n",
       "      <th>2</th>\n",
       "      <td>UK</td>\n",
       "      <td>448</td>\n",
       "      <td>0.088836</td>\n",
       "    </tr>\n",
       "  </tbody>\n",
       "</table>\n",
       "</div>"
      ],
      "text/plain": [
       "  country_Norm  Conteo   Percent\n",
       "0          USA    3806  0.754709\n",
       "1        Otros     789  0.156454\n",
       "2           UK     448  0.088836"
      ]
     },
     "execution_count": 62,
     "metadata": {},
     "output_type": "execute_result"
    }
   ],
   "source": [
    "var = 'country'\n",
    "var_norm = var + '_Norm'\n",
    "Freq_para_norm(var_norm)"
   ]
  },
  {
   "cell_type": "code",
   "execution_count": 63,
   "metadata": {},
   "outputs": [
    {
     "data": {
      "text/html": [
       "<div>\n",
       "<style scoped>\n",
       "    .dataframe tbody tr th:only-of-type {\n",
       "        vertical-align: middle;\n",
       "    }\n",
       "\n",
       "    .dataframe tbody tr th {\n",
       "        vertical-align: top;\n",
       "    }\n",
       "\n",
       "    .dataframe thead th {\n",
       "        text-align: right;\n",
       "    }\n",
       "</style>\n",
       "<table border=\"1\" class=\"dataframe\">\n",
       "  <thead>\n",
       "    <tr style=\"text-align: right;\">\n",
       "      <th></th>\n",
       "      <th>genre_1_Norm</th>\n",
       "      <th>Conteo</th>\n",
       "      <th>Percent</th>\n",
       "    </tr>\n",
       "  </thead>\n",
       "  <tbody>\n",
       "    <tr>\n",
       "      <th>0</th>\n",
       "      <td>Comedy</td>\n",
       "      <td>1329</td>\n",
       "      <td>0.263534</td>\n",
       "    </tr>\n",
       "    <tr>\n",
       "      <th>1</th>\n",
       "      <td>Action</td>\n",
       "      <td>1153</td>\n",
       "      <td>0.228634</td>\n",
       "    </tr>\n",
       "    <tr>\n",
       "      <th>2</th>\n",
       "      <td>Drama</td>\n",
       "      <td>972</td>\n",
       "      <td>0.192742</td>\n",
       "    </tr>\n",
       "    <tr>\n",
       "      <th>3</th>\n",
       "      <td>Adventure</td>\n",
       "      <td>453</td>\n",
       "      <td>0.089827</td>\n",
       "    </tr>\n",
       "    <tr>\n",
       "      <th>4</th>\n",
       "      <td>Crime</td>\n",
       "      <td>349</td>\n",
       "      <td>0.069205</td>\n",
       "    </tr>\n",
       "    <tr>\n",
       "      <th>5</th>\n",
       "      <td>Otros</td>\n",
       "      <td>303</td>\n",
       "      <td>0.060083</td>\n",
       "    </tr>\n",
       "    <tr>\n",
       "      <th>6</th>\n",
       "      <td>Biography</td>\n",
       "      <td>252</td>\n",
       "      <td>0.049970</td>\n",
       "    </tr>\n",
       "    <tr>\n",
       "      <th>7</th>\n",
       "      <td>Horror</td>\n",
       "      <td>232</td>\n",
       "      <td>0.046004</td>\n",
       "    </tr>\n",
       "  </tbody>\n",
       "</table>\n",
       "</div>"
      ],
      "text/plain": [
       "  genre_1_Norm  Conteo   Percent\n",
       "0       Comedy    1329  0.263534\n",
       "1       Action    1153  0.228634\n",
       "2        Drama     972  0.192742\n",
       "3    Adventure     453  0.089827\n",
       "4        Crime     349  0.069205\n",
       "5        Otros     303  0.060083\n",
       "6    Biography     252  0.049970\n",
       "7       Horror     232  0.046004"
      ]
     },
     "execution_count": 63,
     "metadata": {},
     "output_type": "execute_result"
    }
   ],
   "source": [
    "var = 'genre_1'\n",
    "var_norm = var + '_Norm'\n",
    "Freq_para_norm(var_norm)"
   ]
  },
  {
   "cell_type": "code",
   "execution_count": 64,
   "metadata": {},
   "outputs": [
    {
     "data": {
      "text/html": [
       "<div>\n",
       "<style scoped>\n",
       "    .dataframe tbody tr th:only-of-type {\n",
       "        vertical-align: middle;\n",
       "    }\n",
       "\n",
       "    .dataframe tbody tr th {\n",
       "        vertical-align: top;\n",
       "    }\n",
       "\n",
       "    .dataframe thead th {\n",
       "        text-align: right;\n",
       "    }\n",
       "</style>\n",
       "<table border=\"1\" class=\"dataframe\">\n",
       "  <thead>\n",
       "    <tr style=\"text-align: right;\">\n",
       "      <th></th>\n",
       "      <th>genre_2_Norm</th>\n",
       "      <th>Conteo</th>\n",
       "      <th>Percent</th>\n",
       "    </tr>\n",
       "  </thead>\n",
       "  <tbody>\n",
       "    <tr>\n",
       "      <th>0</th>\n",
       "      <td>Otros</td>\n",
       "      <td>1381</td>\n",
       "      <td>0.273845</td>\n",
       "    </tr>\n",
       "    <tr>\n",
       "      <th>1</th>\n",
       "      <td>Drama</td>\n",
       "      <td>1204</td>\n",
       "      <td>0.238747</td>\n",
       "    </tr>\n",
       "    <tr>\n",
       "      <th>2</th>\n",
       "      <td>Sin genre_2</td>\n",
       "      <td>633</td>\n",
       "      <td>0.125521</td>\n",
       "    </tr>\n",
       "    <tr>\n",
       "      <th>3</th>\n",
       "      <td>Adventure</td>\n",
       "      <td>470</td>\n",
       "      <td>0.093198</td>\n",
       "    </tr>\n",
       "    <tr>\n",
       "      <th>4</th>\n",
       "      <td>Crime</td>\n",
       "      <td>410</td>\n",
       "      <td>0.081301</td>\n",
       "    </tr>\n",
       "    <tr>\n",
       "      <th>5</th>\n",
       "      <td>Romance</td>\n",
       "      <td>390</td>\n",
       "      <td>0.077335</td>\n",
       "    </tr>\n",
       "    <tr>\n",
       "      <th>6</th>\n",
       "      <td>Comedy</td>\n",
       "      <td>341</td>\n",
       "      <td>0.067618</td>\n",
       "    </tr>\n",
       "    <tr>\n",
       "      <th>7</th>\n",
       "      <td>Horror</td>\n",
       "      <td>214</td>\n",
       "      <td>0.042435</td>\n",
       "    </tr>\n",
       "  </tbody>\n",
       "</table>\n",
       "</div>"
      ],
      "text/plain": [
       "  genre_2_Norm  Conteo   Percent\n",
       "0        Otros    1381  0.273845\n",
       "1        Drama    1204  0.238747\n",
       "2  Sin genre_2     633  0.125521\n",
       "3    Adventure     470  0.093198\n",
       "4        Crime     410  0.081301\n",
       "5      Romance     390  0.077335\n",
       "6       Comedy     341  0.067618\n",
       "7       Horror     214  0.042435"
      ]
     },
     "execution_count": 64,
     "metadata": {},
     "output_type": "execute_result"
    }
   ],
   "source": [
    "var = 'genre_2'\n",
    "var_norm = var + '_Norm'\n",
    "Freq_para_norm(var_norm)"
   ]
  },
  {
   "cell_type": "code",
   "execution_count": 65,
   "metadata": {},
   "outputs": [
    {
     "data": {
      "text/html": [
       "<div>\n",
       "<style scoped>\n",
       "    .dataframe tbody tr th:only-of-type {\n",
       "        vertical-align: middle;\n",
       "    }\n",
       "\n",
       "    .dataframe tbody tr th {\n",
       "        vertical-align: top;\n",
       "    }\n",
       "\n",
       "    .dataframe thead th {\n",
       "        text-align: right;\n",
       "    }\n",
       "</style>\n",
       "<table border=\"1\" class=\"dataframe\">\n",
       "  <thead>\n",
       "    <tr style=\"text-align: right;\">\n",
       "      <th></th>\n",
       "      <th>genre_3_Norm</th>\n",
       "      <th>Conteo</th>\n",
       "      <th>Percent</th>\n",
       "    </tr>\n",
       "  </thead>\n",
       "  <tbody>\n",
       "    <tr>\n",
       "      <th>0</th>\n",
       "      <td>Sin genre_3</td>\n",
       "      <td>1988</td>\n",
       "      <td>0.394210</td>\n",
       "    </tr>\n",
       "    <tr>\n",
       "      <th>1</th>\n",
       "      <td>Otros</td>\n",
       "      <td>1192</td>\n",
       "      <td>0.236367</td>\n",
       "    </tr>\n",
       "    <tr>\n",
       "      <th>2</th>\n",
       "      <td>Thriller</td>\n",
       "      <td>539</td>\n",
       "      <td>0.106881</td>\n",
       "    </tr>\n",
       "    <tr>\n",
       "      <th>3</th>\n",
       "      <td>Romance</td>\n",
       "      <td>468</td>\n",
       "      <td>0.092802</td>\n",
       "    </tr>\n",
       "    <tr>\n",
       "      <th>4</th>\n",
       "      <td>Drama</td>\n",
       "      <td>365</td>\n",
       "      <td>0.072378</td>\n",
       "    </tr>\n",
       "    <tr>\n",
       "      <th>5</th>\n",
       "      <td>Sci-Fi</td>\n",
       "      <td>275</td>\n",
       "      <td>0.054531</td>\n",
       "    </tr>\n",
       "    <tr>\n",
       "      <th>6</th>\n",
       "      <td>Fantasy</td>\n",
       "      <td>216</td>\n",
       "      <td>0.042832</td>\n",
       "    </tr>\n",
       "  </tbody>\n",
       "</table>\n",
       "</div>"
      ],
      "text/plain": [
       "  genre_3_Norm  Conteo   Percent\n",
       "0  Sin genre_3    1988  0.394210\n",
       "1        Otros    1192  0.236367\n",
       "2     Thriller     539  0.106881\n",
       "3      Romance     468  0.092802\n",
       "4        Drama     365  0.072378\n",
       "5       Sci-Fi     275  0.054531\n",
       "6      Fantasy     216  0.042832"
      ]
     },
     "execution_count": 65,
     "metadata": {},
     "output_type": "execute_result"
    }
   ],
   "source": [
    "var = 'genre_3'\n",
    "var_norm = var + '_Norm'\n",
    "Freq_para_norm(var_norm)"
   ]
  },
  {
   "cell_type": "code",
   "execution_count": 66,
   "metadata": {},
   "outputs": [
    {
     "data": {
      "text/html": [
       "<div>\n",
       "<style scoped>\n",
       "    .dataframe tbody tr th:only-of-type {\n",
       "        vertical-align: middle;\n",
       "    }\n",
       "\n",
       "    .dataframe tbody tr th {\n",
       "        vertical-align: top;\n",
       "    }\n",
       "\n",
       "    .dataframe thead th {\n",
       "        text-align: right;\n",
       "    }\n",
       "</style>\n",
       "<table border=\"1\" class=\"dataframe\">\n",
       "  <thead>\n",
       "    <tr style=\"text-align: right;\">\n",
       "      <th></th>\n",
       "      <th>genre_4_Norm</th>\n",
       "      <th>Conteo</th>\n",
       "      <th>Percent</th>\n",
       "    </tr>\n",
       "  </thead>\n",
       "  <tbody>\n",
       "    <tr>\n",
       "      <th>0</th>\n",
       "      <td>Sin genre_4</td>\n",
       "      <td>3616</td>\n",
       "      <td>0.717034</td>\n",
       "    </tr>\n",
       "    <tr>\n",
       "      <th>1</th>\n",
       "      <td>Otros</td>\n",
       "      <td>946</td>\n",
       "      <td>0.187587</td>\n",
       "    </tr>\n",
       "    <tr>\n",
       "      <th>2</th>\n",
       "      <td>Thriller</td>\n",
       "      <td>481</td>\n",
       "      <td>0.095380</td>\n",
       "    </tr>\n",
       "  </tbody>\n",
       "</table>\n",
       "</div>"
      ],
      "text/plain": [
       "  genre_4_Norm  Conteo   Percent\n",
       "0  Sin genre_4    3616  0.717034\n",
       "1        Otros     946  0.187587\n",
       "2     Thriller     481  0.095380"
      ]
     },
     "execution_count": 66,
     "metadata": {},
     "output_type": "execute_result"
    }
   ],
   "source": [
    "var = 'genre_4'\n",
    "var_norm = var + '_Norm'\n",
    "Freq_para_norm(var_norm)"
   ]
  },
  {
   "cell_type": "markdown",
   "metadata": {},
   "source": [
    "## 1.5 Realice una nueva exploración visual, esta vez con el objetivo de ver los efectos de los tratamientos realizados. De igual modo, agregue las imágenes correspondientes."
   ]
  },
  {
   "cell_type": "code",
   "execution_count": 68,
   "metadata": {},
   "outputs": [],
   "source": [
    "ls_disc_normalizar = ['genre_1','genre_2','genre_3','genre_4','language','content_rating',\n",
    "                      'facenumber_in_poster','country']"
   ]
  },
  {
   "cell_type": "code",
   "execution_count": 72,
   "metadata": {},
   "outputs": [],
   "source": [
    "def Explo_light_Dis2(var):\n",
    "    path_img_hist = \"/home/lalo/Documentos/Diplomado Ciencia de Datos/Modulo 1/Examen 2/Analisis exploratorio. Exploracion ligera/\"\n",
    "       \n",
    "    table_freq = pd.value_counts(tabla_aux[var]).to_frame().reset_index()\n",
    "    table_freq.columns = ['Unicos','Conteo']\n",
    "\n",
    "    line_chart = pygal.Bar()\n",
    "    line_chart.title = 'grafica ' + var\n",
    "    line_chart.x_labels = map(str, table_freq['Unicos'])\n",
    "    line_chart.add(var,table_freq['Conteo'])\n",
    "    \n",
    "    nombre_grafica =  \"Analisis_exploratorio_\" + var\n",
    "    line_chart.render_to_png(path_img_hist + nombre_grafica)\n",
    "\n"
   ]
  },
  {
   "cell_type": "code",
   "execution_count": 73,
   "metadata": {},
   "outputs": [],
   "source": [
    "for var_dis in ls_disc_normalizar:\n",
    "    var_norm = var_dis + '_Norm'\n",
    "    Explo_light_Dis2(var_norm)"
   ]
  },
  {
   "cell_type": "markdown",
   "metadata": {},
   "source": [
    "# 2. Ingenierìa de Datos"
   ]
  },
  {
   "cell_type": "markdown",
   "metadata": {},
   "source": [
    "## 2.1 Cree una variable binaria que indique sı́ el score de la pelı́cula es mayor al promedio. Analice gráficamente la frecuencia de los valores generados."
   ]
  },
  {
   "cell_type": "code",
   "execution_count": 74,
   "metadata": {},
   "outputs": [],
   "source": [
    "tabla = pd.read_csv(path_datos + \"movies.csv\")"
   ]
  },
  {
   "cell_type": "code",
   "execution_count": 77,
   "metadata": {},
   "outputs": [
    {
     "ename": "NameError",
     "evalue": "name 'SAS' is not defined",
     "output_type": "error",
     "traceback": [
      "\u001b[0;31m---------------------------------------------------------------------------\u001b[0m",
      "\u001b[0;31mNameError\u001b[0m                                 Traceback (most recent call last)",
      "\u001b[0;32m<ipython-input-77-02e70347f24f>\u001b[0m in \u001b[0;36m<module>\u001b[0;34m\u001b[0m\n\u001b[0;32m----> 1\u001b[0;31m \u001b[0mSAS\u001b[0m\u001b[0;34m\u001b[0m\u001b[0;34m\u001b[0m\u001b[0m\n\u001b[0m",
      "\u001b[0;31mNameError\u001b[0m: name 'SAS' is not defined"
     ]
    }
   ],
   "source": [
    "SAS"
   ]
  },
  {
   "cell_type": "markdown",
   "metadata": {},
   "source": [
    "# 3. Tratamiento de valores ausentes"
   ]
  },
  {
   "cell_type": "markdown",
   "metadata": {},
   "source": [
    "## 3.1 Elimine aquellas columnas que superen el umbral de 70% o más de presencia de valores ausentes. Indique que columnas fueron eliminadas."
   ]
  },
  {
   "cell_type": "code",
   "execution_count": 134,
   "metadata": {},
   "outputs": [],
   "source": [
    "ls_dis = ['color', 'genre_4', 'genre_1', 'genre_2', 'genre_3', 'language','content_rating',\n",
    "          'facenumber_in_poster','movie_title', 'movie_imdb_link','title_year','imdb_score','country']\n",
    "\n",
    "ls_cont = ['gross', 'duration','num_voted_users']\n",
    "\n",
    "tabla = pd.read_csv(path_datos + \"movies.csv\")\n",
    "tabla_aux =  pd.DataFrame(tabla)\n"
   ]
  },
  {
   "cell_type": "code",
   "execution_count": 129,
   "metadata": {},
   "outputs": [
    {
     "data": {
      "text/plain": [
       "movie_title             0.000000\n",
       "movie_imdb_link         0.000000\n",
       "color                   0.003768\n",
       "genre_4                 0.717034\n",
       "duration                0.002974\n",
       "gross                   0.701567\n",
       "genre_1                 0.000000\n",
       "genre_2                 0.125521\n",
       "genre_3                 0.394210\n",
       "num_voted_users         0.000000\n",
       "facenumber_in_poster    0.002380\n",
       "language                0.002380\n",
       "country                 0.000991\n",
       "content_rating          0.059885\n",
       "title_year              0.021416\n",
       "imdb_score              0.000000\n",
       "dtype: float64"
      ]
     },
     "execution_count": 129,
     "metadata": {},
     "output_type": "execute_result"
    }
   ],
   "source": [
    "var_elimi = tabla_aux.isnull().sum() / len(tabla_aux)\n",
    "var_elimi"
   ]
  },
  {
   "cell_type": "code",
   "execution_count": 135,
   "metadata": {},
   "outputs": [
    {
     "data": {
      "text/plain": [
       "movie_title             0.000000\n",
       "movie_imdb_link         0.000000\n",
       "color                   0.003768\n",
       "duration                0.002974\n",
       "genre_1                 0.000000\n",
       "genre_2                 0.125521\n",
       "genre_3                 0.394210\n",
       "num_voted_users         0.000000\n",
       "facenumber_in_poster    0.002380\n",
       "language                0.002380\n",
       "country                 0.000991\n",
       "content_rating          0.059885\n",
       "title_year              0.021416\n",
       "imdb_score              0.000000\n",
       "dtype: float64"
      ]
     },
     "execution_count": 135,
     "metadata": {},
     "output_type": "execute_result"
    }
   ],
   "source": [
    "# Las variables eliminadas son: genre_4 y gross\n",
    "tabla_aux = tabla_aux.drop(columns = ['genre_4', 'gross'])\n",
    "var_elimi = tabla_aux.isnull().sum() / len(tabla_aux)\n",
    "var_elimi"
   ]
  },
  {
   "cell_type": "markdown",
   "metadata": {},
   "source": [
    "## 3.2 Impute las variables discretas que lo requieran mediante el uso de la moda. La variable imputada debe almacenarse en una variable nueva, dejando a la original intacta. "
   ]
  },
  {
   "cell_type": "code",
   "execution_count": 101,
   "metadata": {},
   "outputs": [],
   "source": [
    "ls_dis_new = ['color', 'genre_1', 'genre_2', 'genre_3', 'language','content_rating',\n",
    "          'facenumber_in_poster','movie_title', 'movie_imdb_link','title_year','imdb_score','country']"
   ]
  },
  {
   "cell_type": "code",
   "execution_count": 136,
   "metadata": {},
   "outputs": [
    {
     "data": {
      "text/plain": [
       "Index(['movie_title', 'movie_imdb_link', 'color', 'duration', 'genre_1',\n",
       "       'genre_2', 'genre_3', 'num_voted_users', 'facenumber_in_poster',\n",
       "       'language', 'country', 'content_rating', 'title_year', 'imdb_score',\n",
       "       'Moda_color', 'Moda_genre_1', 'Moda_genre_2', 'Moda_genre_3',\n",
       "       'Moda_language', 'Moda_content_rating', 'Moda_facenumber_in_poster',\n",
       "       'Moda_movie_title', 'Moda_movie_imdb_link', 'Moda_title_year',\n",
       "       'Moda_imdb_score', 'Moda_country'],\n",
       "      dtype='object')"
      ]
     },
     "execution_count": 136,
     "metadata": {},
     "output_type": "execute_result"
    }
   ],
   "source": [
    "for var_input_moda in ls_dis_new:\n",
    "    tabla_aux['Moda_'+var_input_moda] = tabla_aux[var_input_moda].fillna(tabla_aux[var_input_moda].mode()[0])\n",
    "    \n",
    "tabla_aux.columns"
   ]
  },
  {
   "cell_type": "markdown",
   "metadata": {},
   "source": [
    "## 3.3 Impute las variables continuas que lo requieran mediante el uso de la mediana. La variable imputada debe almacenarse en una variable nueva, dejando a la original intacta. "
   ]
  },
  {
   "cell_type": "code",
   "execution_count": 118,
   "metadata": {},
   "outputs": [
    {
     "data": {
      "text/plain": [
       "(5043, 28)"
      ]
     },
     "execution_count": 118,
     "metadata": {},
     "output_type": "execute_result"
    }
   ],
   "source": [
    "ls_cont_new = ['duration','num_voted_users']\n",
    "tabla_aux.shape"
   ]
  },
  {
   "cell_type": "code",
   "execution_count": 138,
   "metadata": {},
   "outputs": [
    {
     "name": "stderr",
     "output_type": "stream",
     "text": [
      "/home/lalo/anaconda3/lib/python3.7/site-packages/ipykernel_launcher.py:1: FutureWarning: convert_objects is deprecated.  To re-infer data dtypes for object columns, use Series.infer_objects()\n",
      "For all other conversions use the data-type specific converters pd.to_datetime, pd.to_timedelta and pd.to_numeric.\n",
      "  \"\"\"Entry point for launching an IPython kernel.\n"
     ]
    }
   ],
   "source": [
    "tabla_aux['num_voted_users'] = tabla_aux['num_voted_users'].convert_objects(convert_numeric=True)"
   ]
  },
  {
   "cell_type": "code",
   "execution_count": 139,
   "metadata": {
    "collapsed": true
   },
   "outputs": [
    {
     "data": {
      "text/plain": [
       "count        5,042.0\n",
       "mean        83,684.7\n",
       "std        138,494.0\n",
       "min              5.0\n",
       "0%               5.0\n",
       "1%              54.2\n",
       "5%             520.1\n",
       "10%          1,649.7\n",
       "20%          5,637.4\n",
       "30%         12,241.9\n",
       "40%         21,491.0\n",
       "50%         34,371.0\n",
       "60%         53,214.6\n",
       "70%         78,001.7\n",
       "80%        124,136.0\n",
       "90%        216,571.5\n",
       "95%        332,265.4\n",
       "99%        681,112.4\n",
       "max      1,689,764.0\n",
       "Name: num_voted_users, dtype: object"
      ]
     },
     "execution_count": 139,
     "metadata": {},
     "output_type": "execute_result"
    }
   ],
   "source": [
    "tabla_aux['num_voted_users'].describe(percentiles = [x/10 for x in range(10)]+[0.01, 0.05, 0.95, 0.99]).apply(\"{0:,.1f}\".format)"
   ]
  },
  {
   "cell_type": "code",
   "execution_count": 122,
   "metadata": {
    "collapsed": true
   },
   "outputs": [
    {
     "name": "stderr",
     "output_type": "stream",
     "text": [
      "/home/lalo/anaconda3/lib/python3.7/site-packages/ipykernel_launcher.py:1: FutureWarning: convert_objects is deprecated.  To re-infer data dtypes for object columns, use Series.infer_objects()\n",
      "For all other conversions use the data-type specific converters pd.to_datetime, pd.to_timedelta and pd.to_numeric.\n",
      "  \"\"\"Entry point for launching an IPython kernel.\n"
     ]
    },
    {
     "data": {
      "text/plain": [
       "<bound method NDFrame.describe of 0       114.0\n",
       "1       108.0\n",
       "2        96.0\n",
       "3       100.0\n",
       "4       132.0\n",
       "5        86.0\n",
       "6        99.0\n",
       "7       113.0\n",
       "8       104.0\n",
       "9        42.0\n",
       "10       97.0\n",
       "11      112.0\n",
       "12      101.0\n",
       "13      106.0\n",
       "14       90.0\n",
       "15       60.0\n",
       "16      108.0\n",
       "17       94.0\n",
       "18       94.0\n",
       "19      101.0\n",
       "20       89.0\n",
       "21      109.0\n",
       "22       93.0\n",
       "23       90.0\n",
       "24      135.0\n",
       "25      103.0\n",
       "26      140.0\n",
       "27       97.0\n",
       "28      194.0\n",
       "29      104.0\n",
       "        ...  \n",
       "5013    116.0\n",
       "5014     83.0\n",
       "5015     82.0\n",
       "5016     99.0\n",
       "5017     90.0\n",
       "5018     96.0\n",
       "5019     95.0\n",
       "5020    106.0\n",
       "5021     99.0\n",
       "5022     90.0\n",
       "5023     90.0\n",
       "5024     92.0\n",
       "5025    135.0\n",
       "5026     88.0\n",
       "5027    144.0\n",
       "5028     87.0\n",
       "5029    109.0\n",
       "5030    128.0\n",
       "5031     22.0\n",
       "5032    121.0\n",
       "5033    100.0\n",
       "5034    119.0\n",
       "5035    118.0\n",
       "5036    186.0\n",
       "5037    109.0\n",
       "5038     44.0\n",
       "5039    118.0\n",
       "5040    103.0\n",
       "5041     98.0\n",
       "5042    101.0\n",
       "Name: duration, Length: 5043, dtype: float64>"
      ]
     },
     "execution_count": 122,
     "metadata": {},
     "output_type": "execute_result"
    }
   ],
   "source": [
    "tabla_aux['duration'] = tabla_aux['duration'].convert_objects(convert_numeric=True)\n",
    "tabla_aux['duration'].describe"
   ]
  },
  {
   "cell_type": "code",
   "execution_count": 116,
   "metadata": {
    "collapsed": true
   },
   "outputs": [
    {
     "data": {
      "text/plain": [
       "count    5,028.0\n",
       "mean       107.2\n",
       "std         25.2\n",
       "min          7.0\n",
       "0%           7.0\n",
       "1%          43.0\n",
       "5%          81.0\n",
       "10%         86.0\n",
       "20%         91.0\n",
       "30%         95.0\n",
       "40%         99.0\n",
       "50%        103.0\n",
       "60%        108.0\n",
       "70%        114.0\n",
       "80%        122.0\n",
       "90%        134.0\n",
       "95%        146.0\n",
       "99%        189.0\n",
       "max        511.0\n",
       "Name: duration, dtype: object"
      ]
     },
     "execution_count": 116,
     "metadata": {},
     "output_type": "execute_result"
    }
   ],
   "source": [
    "tabla_aux['duration'].describe(percentiles = [x/10 for x in range(10)]+[0.01, 0.05, 0.95, 0.99]).apply(\"{0:,.1f}\".format)"
   ]
  },
  {
   "cell_type": "code",
   "execution_count": null,
   "metadata": {},
   "outputs": [],
   "source": [
    "# Si se van a imputar los missings, entonces seràn muy pocos:\n",
    "# 'num_voted_users' solo serà 1 valor inputado \n",
    "# 'duration' 15\n",
    "# Entonces:"
   ]
  },
  {
   "cell_type": "code",
   "execution_count": 146,
   "metadata": {},
   "outputs": [
    {
     "data": {
      "text/plain": [
       "34371.0"
      ]
     },
     "execution_count": 146,
     "metadata": {},
     "output_type": "execute_result"
    }
   ],
   "source": [
    "tabla_aux['num_voted_users'].median()"
   ]
  },
  {
   "cell_type": "code",
   "execution_count": 147,
   "metadata": {},
   "outputs": [],
   "source": [
    "tabla_aux['Med_num_voted_users'] = tabla_aux['num_voted_users'].fillna(tabla_aux['num_voted_users'].median())"
   ]
  },
  {
   "cell_type": "code",
   "execution_count": 148,
   "metadata": {},
   "outputs": [
    {
     "data": {
      "text/plain": [
       "Index(['movie_title', 'movie_imdb_link', 'color', 'duration', 'genre_1',\n",
       "       'genre_2', 'genre_3', 'num_voted_users', 'facenumber_in_poster',\n",
       "       'language', 'country', 'content_rating', 'title_year', 'imdb_score',\n",
       "       'Moda_color', 'Moda_genre_1', 'Moda_genre_2', 'Moda_genre_3',\n",
       "       'Moda_language', 'Moda_content_rating', 'Moda_facenumber_in_poster',\n",
       "       'Moda_movie_title', 'Moda_movie_imdb_link', 'Moda_title_year',\n",
       "       'Moda_imdb_score', 'Moda_country', 'Med_duration',\n",
       "       'Med_num_voted_users'],\n",
       "      dtype='object')"
      ]
     },
     "execution_count": 148,
     "metadata": {},
     "output_type": "execute_result"
    }
   ],
   "source": [
    "tabla_aux['Med_duration'] = tabla_aux['duration']\n",
    "tabla_aux['Med_duration'] = tabla_aux['Med_duration'].fillna(tabla_aux['Med_duration'].median())\n",
    "\n",
    "tabla_aux.columns"
   ]
  },
  {
   "cell_type": "markdown",
   "metadata": {},
   "source": [
    "## 3.4 Impute las variables continuas que lo requieran mediante el uso de la media. La variable imputada debe almacenarse en una variable nueva, dejando a la original intacta. "
   ]
  },
  {
   "cell_type": "code",
   "execution_count": 153,
   "metadata": {},
   "outputs": [
    {
     "data": {
      "text/plain": [
       "83684.7286790956"
      ]
     },
     "execution_count": 153,
     "metadata": {},
     "output_type": "execute_result"
    }
   ],
   "source": [
    "tabla_aux['num_voted_users'].mean()"
   ]
  },
  {
   "cell_type": "code",
   "execution_count": 154,
   "metadata": {},
   "outputs": [
    {
     "data": {
      "text/plain": [
       "Index(['movie_title', 'movie_imdb_link', 'color', 'duration', 'genre_1',\n",
       "       'genre_2', 'genre_3', 'num_voted_users', 'facenumber_in_poster',\n",
       "       'language', 'country', 'content_rating', 'title_year', 'imdb_score',\n",
       "       'Moda_color', 'Moda_genre_1', 'Moda_genre_2', 'Moda_genre_3',\n",
       "       'Moda_language', 'Moda_content_rating', 'Moda_facenumber_in_poster',\n",
       "       'Moda_movie_title', 'Moda_movie_imdb_link', 'Moda_title_year',\n",
       "       'Moda_imdb_score', 'Moda_country', 'Med_duration',\n",
       "       'Med_num_voted_users', 'Media_num_voted_users', 'Media_duration'],\n",
       "      dtype='object')"
      ]
     },
     "execution_count": 154,
     "metadata": {},
     "output_type": "execute_result"
    }
   ],
   "source": [
    "tabla_aux['Media_num_voted_users'] = tabla_aux['num_voted_users'].fillna(tabla_aux['num_voted_users'].mean())\n",
    "tabla_aux['Media_duration'] = tabla_aux['duration'].fillna(tabla_aux['duration'].mean())\n",
    "tabla_aux.columns"
   ]
  },
  {
   "cell_type": "markdown",
   "metadata": {},
   "source": [
    "# 4 Reducciòn de Dimensiones"
   ]
  },
  {
   "cell_type": "markdown",
   "metadata": {},
   "source": [
    "## 4.1 A partir de las variables continuas, reduzca el dimensiones y visualice los datos en un gráfico de 2D"
   ]
  },
  {
   "cell_type": "code",
   "execution_count": null,
   "metadata": {},
   "outputs": [],
   "source": []
  },
  {
   "cell_type": "markdown",
   "metadata": {},
   "source": [
    "##  4.2 Mediante el uso de pruebas de poder predictivo, ordene las variables continuas contra el score de la pelı́cula."
   ]
  },
  {
   "cell_type": "code",
   "execution_count": null,
   "metadata": {},
   "outputs": [],
   "source": []
  },
  {
   "cell_type": "markdown",
   "metadata": {},
   "source": [
    "## 4.3 Mediante el uso de transformación entrópica, seleccione las 5 variables más potentes contra la variable binaria creada previamente. Considere las variables con el siguiente tratamiento: sin valores atı́picos, normalizadas y con missings. Muestre un cuadro con el poder predictivo de las variables."
   ]
  },
  {
   "cell_type": "code",
   "execution_count": null,
   "metadata": {},
   "outputs": [],
   "source": []
  },
  {
   "cell_type": "code",
   "execution_count": null,
   "metadata": {},
   "outputs": [],
   "source": [
    "Feedback:\n",
    "En lo personal, la segunda parte del mòdulo, no me gusto mucho, creo que bajaste mucho el ritmo y por lo mismo,\n",
    "no vimos los temas que nos hubiera encantado a todos ver. La ùltima clase te fuiste muy ràpido, me hubiera\n",
    "encantado hacer un ejercicio sobre la reducciòn de dimensiones ya que creo que es un tema muy tocado \n",
    "en el mercado laboral.\n",
    "\n"
   ]
  }
 ],
 "metadata": {
  "kernelspec": {
   "display_name": "Python 3",
   "language": "python",
   "name": "python3"
  },
  "language_info": {
   "codemirror_mode": {
    "name": "ipython",
    "version": 3
   },
   "file_extension": ".py",
   "mimetype": "text/x-python",
   "name": "python",
   "nbconvert_exporter": "python",
   "pygments_lexer": "ipython3",
   "version": "3.7.3"
  }
 },
 "nbformat": 4,
 "nbformat_minor": 2
}
