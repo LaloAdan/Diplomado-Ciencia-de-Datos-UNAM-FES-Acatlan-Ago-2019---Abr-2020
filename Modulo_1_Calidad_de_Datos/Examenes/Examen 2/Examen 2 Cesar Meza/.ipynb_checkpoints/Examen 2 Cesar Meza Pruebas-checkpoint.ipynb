{
 "cells": [
  {
   "cell_type": "code",
   "execution_count": 1,
   "metadata": {},
   "outputs": [],
   "source": [
    "%config IPCompleter.greedy=True\n",
    "import os\n",
    "import pygal\n",
    "import numpy as np\n",
    "import pandas as pd\n",
    "import cairosvg\n",
    "import datetime\n",
    "import matplotlib.pyplot as plt\n",
    "from scipy.stats import ks_2samp\n",
    "from scipy.stats import chisquare"
   ]
  },
  {
   "cell_type": "code",
   "execution_count": 20,
   "metadata": {},
   "outputs": [
    {
     "data": {
      "text/plain": [
       "(5043, 16)"
      ]
     },
     "execution_count": 20,
     "metadata": {},
     "output_type": "execute_result"
    }
   ],
   "source": [
    "path_datos = \"/home/lalo/Documentos/Diplomado Ciencia de Datos/Modulo 1/Examen 2/\"\n",
    "\n",
    "tabla = pd.read_csv(path_datos + \"movies.csv\")\n",
    "tabla.head(5)\n",
    "tabla.shape"
   ]
  },
  {
   "cell_type": "markdown",
   "metadata": {},
   "source": [
    "# Analisis Exploratorio de Datos "
   ]
  },
  {
   "cell_type": "markdown",
   "metadata": {},
   "source": [
    "## 1. Indique cuales de las variables presentadas son discretas y cuales continuas."
   ]
  },
  {
   "cell_type": "code",
   "execution_count": 3,
   "metadata": {},
   "outputs": [
    {
     "data": {
      "text/plain": [
       "Index(['movie_title', 'movie_imdb_link', 'color', 'genre_4', 'duration',\n",
       "       'gross', 'genre_1', 'genre_2', 'genre_3', 'num_voted_users',\n",
       "       'facenumber_in_poster', 'language', 'country', 'content_rating',\n",
       "       'title_year', 'imdb_score'],\n",
       "      dtype='object')"
      ]
     },
     "execution_count": 3,
     "metadata": {},
     "output_type": "execute_result"
    }
   ],
   "source": [
    "tabla.columns"
   ]
  },
  {
   "cell_type": "code",
   "execution_count": null,
   "metadata": {},
   "outputs": [],
   "source": [
    "# Discretas. 'color', 'genre_4', 'genre_1', 'genre_2', 'genre_3', 'language','content_rating',\n",
    "#           'facenumber_in_poster','movie_title', 'movie_imdb_link','title_year','imdb_score','country'\n",
    "# Continuas.''gross', 'duration','num_voted_users'"
   ]
  },
  {
   "cell_type": "markdown",
   "metadata": {},
   "source": [
    "## 2. Realice una exploración visual ligera de los datos     "
   ]
  },
  {
   "cell_type": "code",
   "execution_count": 37,
   "metadata": {},
   "outputs": [],
   "source": [
    "ls_cont = ['gross', 'duration','num_voted_users']\n",
    "\n",
    "\n",
    "ls_dis_0 = ['color', 'genre_4', 'genre_1', 'genre_2', 'genre_3', 'language','content_rating',\n",
    "          'facenumber_in_poster']\n",
    "\n",
    "ls_var_to_convert_dis = ['movie_title', 'movie_imdb_link','title_year','imdb_score','country']\n",
    "\n",
    "\n",
    "ls_dis = ['color', 'genre_4', 'genre_1', 'genre_2', 'genre_3', 'language','content_rating',\n",
    "          'facenumber_in_poster','movie_title', 'movie_imdb_link','title_year','imdb_score','country']\n"
   ]
  },
  {
   "cell_type": "code",
   "execution_count": 36,
   "metadata": {
    "collapsed": true
   },
   "outputs": [
    {
     "data": {
      "text/plain": [
       "R                     2118\n",
       "PG-13                 1461\n",
       "PG                     701\n",
       "Sin content_rating     302\n",
       "Not Rated              116\n",
       "G                      112\n",
       "Unrated                 62\n",
       "Approved                55\n",
       "TV-14                   30\n",
       "TV-MA                   20\n",
       "X                       13\n",
       "TV-PG                   13\n",
       "TV-G                    10\n",
       "Passed                   9\n",
       "NC-17                    7\n",
       "GP                       6\n",
       "M                        5\n",
       "TV-Y                     1\n",
       "TV-Y7                    1\n",
       "USA                      1\n",
       "Name: content_rating, dtype: int64"
      ]
     },
     "execution_count": 36,
     "metadata": {},
     "output_type": "execute_result"
    }
   ],
   "source": [
    "algo =  pd.DataFrame(tabla)\n",
    "\n",
    "var_name = 'content_rating'\n",
    "\n",
    "tipo_var = algo[var_name].dtype\n",
    "algo[var_name] = algo[var_name].fillna('Sin '+ var_name)\n",
    "algo[var_name].value_counts()"
   ]
  },
  {
   "cell_type": "code",
   "execution_count": 38,
   "metadata": {},
   "outputs": [],
   "source": [
    "\n",
    "for var_dis in ls_dis:\n",
    "    algo[var_dis] = algo[var_dis].fillna('Sin '+ var_dis)\n",
    "    "
   ]
  },
  {
   "cell_type": "code",
   "execution_count": 78,
   "metadata": {},
   "outputs": [
    {
     "data": {
      "image/png": "[encoded data removed]",
      "image/svg+xml": [
       "<svg xmlns:xlink=\"http://www.w3.org/1999/xlink\" xmlns=\"http://www.w3.org/2000/svg\" id=\"chart-9708906f-9555-41c7-bc4c-e4ae6d7dc479\" class=\"pygal-chart\" viewBox=\"0 0 800 600\"><!--Generated with pygal 2.4.0 (lxml) ©Kozea 2012-2016 on 2019-09-29--><!--http://pygal.org--><!--http://github.com/Kozea/pygal--><defs><style type=\"text/css\">#chart-9708906f-9555-41c7-bc4c-e4ae6d7dc479{-webkit-user-select:none;-webkit-font-smoothing:antialiased;font-family:Consolas,\"Liberation Mono\",Menlo,Courier,monospace}#chart-9708906f-9555-41c7-bc4c-e4ae6d7dc479 .title{font-family:Consolas,\"Liberation Mono\",Menlo,Courier,monospace;font-size:16px}#chart-9708906f-9555-41c7-bc4c-e4ae6d7dc479 .legends .legend text{font-family:Consolas,\"Liberation Mono\",Menlo,Courier,monospace;font-size:14px}#chart-9708906f-9555-41c7-bc4c-e4ae6d7dc479 .axis text{font-family:Consolas,\"Liberation Mono\",Menlo,Courier,monospace;font-size:10px}#chart-9708906f-9555-41c7-bc4c-e4ae6d7dc479 .axis text.major{font-family:Consolas,\"Liberation Mono\",Menlo,Courier,monospace;font-size:10px}#chart-9708906f-9555-41c7-bc4c-e4ae6d7dc479 .text-overlay text.value{font-family:Consolas,\"Liberation Mono\",Menlo,Courier,monospace;font-size:16px}#chart-9708906f-9555-41c7-bc4c-e4ae6d7dc479 .text-overlay text.label{font-family:Consolas,\"Liberation Mono\",Menlo,Courier,monospace;font-size:10px}#chart-9708906f-9555-41c7-bc4c-e4ae6d7dc479 .tooltip{font-family:Consolas,\"Liberation Mono\",Menlo,Courier,monospace;font-size:14px}#chart-9708906f-9555-41c7-bc4c-e4ae6d7dc479 text.no_data{font-family:Consolas,\"Liberation Mono\",Menlo,Courier,monospace;font-size:64px}\n",
       "#chart-9708906f-9555-41c7-bc4c-e4ae6d7dc479{background-color:rgba(249,249,249,1)}#chart-9708906f-9555-41c7-bc4c-e4ae6d7dc479 path,#chart-9708906f-9555-41c7-bc4c-e4ae6d7dc479 line,#chart-9708906f-9555-41c7-bc4c-e4ae6d7dc479 rect,#chart-9708906f-9555-41c7-bc4c-e4ae6d7dc479 circle{-webkit-transition:150ms;-moz-transition:150ms;transition:150ms}#chart-9708906f-9555-41c7-bc4c-e4ae6d7dc479 .graph &gt; .background{fill:rgba(249,249,249,1)}#chart-9708906f-9555-41c7-bc4c-e4ae6d7dc479 .plot &gt; .background{fill:rgba(255,255,255,1)}#chart-9708906f-9555-41c7-bc4c-e4ae6d7dc479 .graph{fill:rgba(0,0,0,.87)}#chart-9708906f-9555-41c7-bc4c-e4ae6d7dc479 text.no_data{fill:rgba(0,0,0,1)}#chart-9708906f-9555-41c7-bc4c-e4ae6d7dc479 .title{fill:rgba(0,0,0,1)}#chart-9708906f-9555-41c7-bc4c-e4ae6d7dc479 .legends .legend text{fill:rgba(0,0,0,.87)}#chart-9708906f-9555-41c7-bc4c-e4ae6d7dc479 .legends .legend:hover text{fill:rgba(0,0,0,1)}#chart-9708906f-9555-41c7-bc4c-e4ae6d7dc479 .axis .line{stroke:rgba(0,0,0,1)}#chart-9708906f-9555-41c7-bc4c-e4ae6d7dc479 .axis .guide.line{stroke:rgba(0,0,0,.54)}#chart-9708906f-9555-41c7-bc4c-e4ae6d7dc479 .axis .major.line{stroke:rgba(0,0,0,.87)}#chart-9708906f-9555-41c7-bc4c-e4ae6d7dc479 .axis text.major{fill:rgba(0,0,0,1)}#chart-9708906f-9555-41c7-bc4c-e4ae6d7dc479 .axis.y .guides:hover .guide.line,#chart-9708906f-9555-41c7-bc4c-e4ae6d7dc479 .line-graph .axis.x .guides:hover .guide.line,#chart-9708906f-9555-41c7-bc4c-e4ae6d7dc479 .stackedline-graph .axis.x .guides:hover .guide.line,#chart-9708906f-9555-41c7-bc4c-e4ae6d7dc479 .xy-graph .axis.x .guides:hover .guide.line{stroke:rgba(0,0,0,1)}#chart-9708906f-9555-41c7-bc4c-e4ae6d7dc479 .axis .guides:hover text{fill:rgba(0,0,0,1)}#chart-9708906f-9555-41c7-bc4c-e4ae6d7dc479 .reactive{fill-opacity:.7;stroke-opacity:.8}#chart-9708906f-9555-41c7-bc4c-e4ae6d7dc479 .ci{stroke:rgba(0,0,0,.87)}#chart-9708906f-9555-41c7-bc4c-e4ae6d7dc479 .reactive.active,#chart-9708906f-9555-41c7-bc4c-e4ae6d7dc479 .active .reactive{fill-opacity:.8;stroke-opacity:.9;stroke-width:4}#chart-9708906f-9555-41c7-bc4c-e4ae6d7dc479 .ci .reactive.active{stroke-width:1.5}#chart-9708906f-9555-41c7-bc4c-e4ae6d7dc479 .series text{fill:rgba(0,0,0,1)}#chart-9708906f-9555-41c7-bc4c-e4ae6d7dc479 .tooltip rect{fill:rgba(255,255,255,1);stroke:rgba(0,0,0,1);-webkit-transition:opacity 150ms;-moz-transition:opacity 150ms;transition:opacity 150ms}#chart-9708906f-9555-41c7-bc4c-e4ae6d7dc479 .tooltip .label{fill:rgba(0,0,0,.87)}#chart-9708906f-9555-41c7-bc4c-e4ae6d7dc479 .tooltip .label{fill:rgba(0,0,0,.87)}#chart-9708906f-9555-41c7-bc4c-e4ae6d7dc479 .tooltip .legend{font-size:.8em;fill:rgba(0,0,0,.54)}#chart-9708906f-9555-41c7-bc4c-e4ae6d7dc479 .tooltip .x_label{font-size:.6em;fill:rgba(0,0,0,1)}#chart-9708906f-9555-41c7-bc4c-e4ae6d7dc479 .tooltip .xlink{font-size:.5em;text-decoration:underline}#chart-9708906f-9555-41c7-bc4c-e4ae6d7dc479 .tooltip .value{font-size:1.5em}#chart-9708906f-9555-41c7-bc4c-e4ae6d7dc479 .bound{font-size:.5em}#chart-9708906f-9555-41c7-bc4c-e4ae6d7dc479 .max-value{font-size:.75em;fill:rgba(0,0,0,.54)}#chart-9708906f-9555-41c7-bc4c-e4ae6d7dc479 .map-element{fill:rgba(255,255,255,1);stroke:rgba(0,0,0,.54) !important}#chart-9708906f-9555-41c7-bc4c-e4ae6d7dc479 .map-element .reactive{fill-opacity:inherit;stroke-opacity:inherit}#chart-9708906f-9555-41c7-bc4c-e4ae6d7dc479 .color-0,#chart-9708906f-9555-41c7-bc4c-e4ae6d7dc479 .color-0 a:visited{stroke:#F44336;fill:#F44336}#chart-9708906f-9555-41c7-bc4c-e4ae6d7dc479 .text-overlay .color-0 text{fill:black}\n",
       "#chart-9708906f-9555-41c7-bc4c-e4ae6d7dc479 text.no_data{text-anchor:middle}#chart-9708906f-9555-41c7-bc4c-e4ae6d7dc479 .guide.line{fill:none}#chart-9708906f-9555-41c7-bc4c-e4ae6d7dc479 .centered{text-anchor:middle}#chart-9708906f-9555-41c7-bc4c-e4ae6d7dc479 .title{text-anchor:middle}#chart-9708906f-9555-41c7-bc4c-e4ae6d7dc479 .legends .legend text{fill-opacity:1}#chart-9708906f-9555-41c7-bc4c-e4ae6d7dc479 .axis.x text{text-anchor:middle}#chart-9708906f-9555-41c7-bc4c-e4ae6d7dc479 .axis.x:not(.web) text[transform]{text-anchor:start}#chart-9708906f-9555-41c7-bc4c-e4ae6d7dc479 .axis.x:not(.web) text[transform].backwards{text-anchor:end}#chart-9708906f-9555-41c7-bc4c-e4ae6d7dc479 .axis.y text{text-anchor:end}#chart-9708906f-9555-41c7-bc4c-e4ae6d7dc479 .axis.y text[transform].backwards{text-anchor:start}#chart-9708906f-9555-41c7-bc4c-e4ae6d7dc479 .axis.y2 text{text-anchor:start}#chart-9708906f-9555-41c7-bc4c-e4ae6d7dc479 .axis.y2 text[transform].backwards{text-anchor:end}#chart-9708906f-9555-41c7-bc4c-e4ae6d7dc479 .axis .guide.line{stroke-dasharray:4,4}#chart-9708906f-9555-41c7-bc4c-e4ae6d7dc479 .axis .major.guide.line{stroke-dasharray:6,6}#chart-9708906f-9555-41c7-bc4c-e4ae6d7dc479 .horizontal .axis.y .guide.line,#chart-9708906f-9555-41c7-bc4c-e4ae6d7dc479 .horizontal .axis.y2 .guide.line,#chart-9708906f-9555-41c7-bc4c-e4ae6d7dc479 .vertical .axis.x .guide.line{opacity:0}#chart-9708906f-9555-41c7-bc4c-e4ae6d7dc479 .horizontal .axis.always_show .guide.line,#chart-9708906f-9555-41c7-bc4c-e4ae6d7dc479 .vertical .axis.always_show .guide.line{opacity:1 !important}#chart-9708906f-9555-41c7-bc4c-e4ae6d7dc479 .axis.y .guides:hover .guide.line,#chart-9708906f-9555-41c7-bc4c-e4ae6d7dc479 .axis.y2 .guides:hover .guide.line,#chart-9708906f-9555-41c7-bc4c-e4ae6d7dc479 .axis.x .guides:hover .guide.line{opacity:1}#chart-9708906f-9555-41c7-bc4c-e4ae6d7dc479 .axis .guides:hover text{opacity:1}#chart-9708906f-9555-41c7-bc4c-e4ae6d7dc479 .nofill{fill:none}#chart-9708906f-9555-41c7-bc4c-e4ae6d7dc479 .subtle-fill{fill-opacity:.2}#chart-9708906f-9555-41c7-bc4c-e4ae6d7dc479 .dot{stroke-width:1px;fill-opacity:1}#chart-9708906f-9555-41c7-bc4c-e4ae6d7dc479 .dot.active{stroke-width:5px}#chart-9708906f-9555-41c7-bc4c-e4ae6d7dc479 .dot.negative{fill:transparent}#chart-9708906f-9555-41c7-bc4c-e4ae6d7dc479 text,#chart-9708906f-9555-41c7-bc4c-e4ae6d7dc479 tspan{stroke:none !important}#chart-9708906f-9555-41c7-bc4c-e4ae6d7dc479 .series text.active{opacity:1}#chart-9708906f-9555-41c7-bc4c-e4ae6d7dc479 .tooltip rect{fill-opacity:.95;stroke-width:.5}#chart-9708906f-9555-41c7-bc4c-e4ae6d7dc479 .tooltip text{fill-opacity:1}#chart-9708906f-9555-41c7-bc4c-e4ae6d7dc479 .showable{visibility:hidden}#chart-9708906f-9555-41c7-bc4c-e4ae6d7dc479 .showable.shown{visibility:visible}#chart-9708906f-9555-41c7-bc4c-e4ae6d7dc479 .gauge-background{fill:rgba(229,229,229,1);stroke:none}#chart-9708906f-9555-41c7-bc4c-e4ae6d7dc479 .bg-lines{stroke:rgba(249,249,249,1);stroke-width:2px}</style><script type=\"text/javascript\">window.pygal = window.pygal || {};window.pygal.config = window.pygal.config || {};window.pygal.config['9708906f-9555-41c7-bc4c-e4ae6d7dc479'] = {\"allow_interruptions\": false, \"box_mode\": \"extremes\", \"classes\": [\"pygal-chart\"], \"css\": [\"file://style.css\", \"file://graph.css\"], \"defs\": [], \"disable_xml_declaration\": true, \"dots_size\": 2.5, \"dynamic_print_values\": false, \"explicit_size\": false, \"fill\": false, \"force_uri_protocol\": \"https\", \"formatter\": null, \"half_pie\": false, \"height\": 600, \"include_x_axis\": false, \"inner_radius\": 0, \"interpolate\": null, \"interpolation_parameters\": {}, \"interpolation_precision\": 250, \"inverse_y_axis\": false, \"js\": [\"//kozea.github.io/pygal.js/2.0.x/pygal-tooltips.min.js\"], \"legend_at_bottom\": false, \"legend_at_bottom_columns\": null, \"legend_box_size\": 12, \"logarithmic\": false, \"margin\": 20, \"margin_bottom\": null, \"margin_left\": null, \"margin_right\": null, \"margin_top\": null, \"max_scale\": 16, \"min_scale\": 4, \"missing_value_fill_truncation\": \"x\", \"no_data_text\": \"No data\", \"no_prefix\": false, \"order_min\": null, \"pretty_print\": false, \"print_labels\": false, \"print_values\": false, \"print_values_position\": \"center\", \"print_zeroes\": true, \"range\": null, \"rounded_bars\": null, \"secondary_range\": null, \"show_dots\": true, \"show_legend\": true, \"show_minor_x_labels\": true, \"show_minor_y_labels\": true, \"show_only_major_dots\": false, \"show_x_guides\": false, \"show_x_labels\": true, \"show_y_guides\": true, \"show_y_labels\": true, \"spacing\": 10, \"stack_from_top\": false, \"strict\": false, \"stroke\": true, \"stroke_style\": null, \"style\": {\"background\": \"rgba(249, 249, 249, 1)\", \"ci_colors\": [], \"colors\": [\"#F44336\", \"#3F51B5\", \"#009688\", \"#FFC107\", \"#FF5722\", \"#9C27B0\", \"#03A9F4\", \"#8BC34A\", \"#FF9800\", \"#E91E63\", \"#2196F3\", \"#4CAF50\", \"#FFEB3B\", \"#673AB7\", \"#00BCD4\", \"#CDDC39\", \"#9E9E9E\", \"#607D8B\"], \"font_family\": \"Consolas, \\\"Liberation Mono\\\", Menlo, Courier, monospace\", \"foreground\": \"rgba(0, 0, 0, .87)\", \"foreground_strong\": \"rgba(0, 0, 0, 1)\", \"foreground_subtle\": \"rgba(0, 0, 0, .54)\", \"guide_stroke_dasharray\": \"4,4\", \"label_font_family\": \"Consolas, \\\"Liberation Mono\\\", Menlo, Courier, monospace\", \"label_font_size\": 10, \"legend_font_family\": \"Consolas, \\\"Liberation Mono\\\", Menlo, Courier, monospace\", \"legend_font_size\": 14, \"major_guide_stroke_dasharray\": \"6,6\", \"major_label_font_family\": \"Consolas, \\\"Liberation Mono\\\", Menlo, Courier, monospace\", \"major_label_font_size\": 10, \"no_data_font_family\": \"Consolas, \\\"Liberation Mono\\\", Menlo, Courier, monospace\", \"no_data_font_size\": 64, \"opacity\": \".7\", \"opacity_hover\": \".8\", \"plot_background\": \"rgba(255, 255, 255, 1)\", \"stroke_opacity\": \".8\", \"stroke_opacity_hover\": \".9\", \"title_font_family\": \"Consolas, \\\"Liberation Mono\\\", Menlo, Courier, monospace\", \"title_font_size\": 16, \"tooltip_font_family\": \"Consolas, \\\"Liberation Mono\\\", Menlo, Courier, monospace\", \"tooltip_font_size\": 14, \"transition\": \"150ms\", \"value_background\": \"rgba(229, 229, 229, 1)\", \"value_colors\": [], \"value_font_family\": \"Consolas, \\\"Liberation Mono\\\", Menlo, Courier, monospace\", \"value_font_size\": 16, \"value_label_font_family\": \"Consolas, \\\"Liberation Mono\\\", Menlo, Courier, monospace\", \"value_label_font_size\": 10}, \"title\": \"grafica content_rating\", \"tooltip_border_radius\": 0, \"tooltip_fancy_mode\": true, \"truncate_label\": null, \"truncate_legend\": null, \"width\": 800, \"x_label_rotation\": 0, \"x_labels\": [\"R\", \"PG-13\", \"PG\", \"Sin content_rating\", \"Not Rated\", \"G\", \"Unrated\", \"Approved\", \"TV-14\", \"TV-MA\", \"X\", \"TV-PG\", \"TV-G\", \"Passed\", \"NC-17\", \"GP\", \"M\", \"TV-Y\", \"TV-Y7\", \"USA\"], \"x_labels_major\": null, \"x_labels_major_count\": null, \"x_labels_major_every\": null, \"x_title\": null, \"xrange\": null, \"y_label_rotation\": 0, \"y_labels\": null, \"y_labels_major\": null, \"y_labels_major_count\": null, \"y_labels_major_every\": null, \"y_title\": null, \"zero\": 0, \"legends\": [\"content_rating\"]}</script><script type=\"text/javascript\" xlink:href=\"https://kozea.github.io/pygal.js/2.0.x/pygal-tooltips.min.js\"/></defs><title>grafica content_rating</title><g class=\"graph bar-graph vertical\"><rect class=\"background\" height=\"600\" width=\"800\" x=\"0\" y=\"0\"/><g class=\"plot\" transform=\"translate(193, 46)\"><rect class=\"background\" height=\"514\" width=\"586.4\" x=\"0\" y=\"0\"/><g class=\"axis y always_show\"><g class=\"guides\"><path class=\"axis major line\" d=\"M0.000000 504.115385 h586.400000\"/><text class=\"major\" x=\"-5\" y=\"507.61538461538464\">0</text><title>0</title></g><g class=\"guides\"><path class=\"guide line\" d=\"M0.000000 457.445812 h586.400000\"/><text class=\"\" x=\"-5\" y=\"460.94581245006174\">200</text><title>200</title></g><g class=\"guides\"><path class=\"guide line\" d=\"M0.000000 410.776240 h586.400000\"/><text class=\"\" x=\"-5\" y=\"414.2762402847389\">400</text><title>400</title></g><g class=\"guides\"><path class=\"guide line\" d=\"M0.000000 364.106668 h586.400000\"/><text class=\"\" x=\"-5\" y=\"367.606668119416\">600</text><title>600</title></g><g class=\"guides\"><path class=\"guide line\" d=\"M0.000000 317.437096 h586.400000\"/><text class=\"\" x=\"-5\" y=\"320.93709595409314\">800</text><title>800</title></g><g class=\"guides\"><path class=\"major guide line\" d=\"M0.000000 270.767524 h586.400000\"/><text class=\"major\" x=\"-5\" y=\"274.2675237887703\">1000</text><title>1000</title></g><g class=\"guides\"><path class=\"guide line\" d=\"M0.000000 224.097952 h586.400000\"/><text class=\"\" x=\"-5\" y=\"227.59795162344744\">1200</text><title>1200</title></g><g class=\"guides\"><path class=\"guide line\" d=\"M0.000000 177.428379 h586.400000\"/><text class=\"\" x=\"-5\" y=\"180.9283794581246\">1400</text><title>1400</title></g><g class=\"guides\"><path class=\"guide line\" d=\"M0.000000 130.758807 h586.400000\"/><text class=\"\" x=\"-5\" y=\"134.2588072928017\">1600</text><title>1600</title></g><g class=\"guides\"><path class=\"guide line\" d=\"M0.000000 84.089235 h586.400000\"/><text class=\"\" x=\"-5\" y=\"87.58923512747884\">1800</text><title>1800</title></g><g class=\"guides\"><path class=\"major guide line\" d=\"M0.000000 37.419663 h586.400000\"/><text class=\"major\" x=\"-5\" y=\"40.91966296215594\">2000</text><title>2000</title></g></g><g class=\"axis x\"><path class=\"line\" d=\"M0.000000 0.000000 v514.000000\"/><g class=\"guides\"><path class=\"guide line\" d=\"M25.373077 0.000000 v514.000000\"/><text class=\"\" x=\"25.37307692307692\" y=\"529.0\">R</text></g><g class=\"guides\"><path class=\"guide line\" d=\"M53.565385 0.000000 v514.000000\"/><text class=\"\" x=\"53.56538461538461\" y=\"529.0\">PG-…</text><title>PG-13</title></g><g class=\"guides\"><path class=\"guide line\" d=\"M81.757692 0.000000 v514.000000\"/><text class=\"\" x=\"81.7576923076923\" y=\"529.0\">PG</text></g><g class=\"guides\"><path class=\"guide line\" d=\"M109.950000 0.000000 v514.000000\"/><text class=\"\" x=\"109.94999999999999\" y=\"529.0\">Sin…</text><title>Sin content_rating</title></g><g class=\"guides\"><path class=\"guide line\" d=\"M138.142308 0.000000 v514.000000\"/><text class=\"\" x=\"138.14230769230767\" y=\"529.0\">Not…</text><title>Not Rated</title></g><g class=\"guides\"><path class=\"guide line\" d=\"M166.334615 0.000000 v514.000000\"/><text class=\"\" x=\"166.3346153846154\" y=\"529.0\">G</text></g><g class=\"guides\"><path class=\"guide line\" d=\"M194.526923 0.000000 v514.000000\"/><text class=\"\" x=\"194.52692307692308\" y=\"529.0\">Unr…</text><title>Unrated</title></g><g class=\"guides\"><path class=\"guide line\" d=\"M222.719231 0.000000 v514.000000\"/><text class=\"\" x=\"222.71923076923076\" y=\"529.0\">App…</text><title>Approved</title></g><g class=\"guides\"><path class=\"guide line\" d=\"M250.911538 0.000000 v514.000000\"/><text class=\"\" x=\"250.91153846153844\" y=\"529.0\">TV-…</text><title>TV-14</title></g><g class=\"guides\"><path class=\"guide line\" d=\"M279.103846 0.000000 v514.000000\"/><text class=\"\" x=\"279.1038461538461\" y=\"529.0\">TV-…</text><title>TV-MA</title></g><g class=\"guides\"><path class=\"guide line\" d=\"M307.296154 0.000000 v514.000000\"/><text class=\"\" x=\"307.29615384615386\" y=\"529.0\">X</text></g><g class=\"guides\"><path class=\"guide line\" d=\"M335.488462 0.000000 v514.000000\"/><text class=\"\" x=\"335.4884615384615\" y=\"529.0\">TV-…</text><title>TV-PG</title></g><g class=\"guides\"><path class=\"guide line\" d=\"M363.680769 0.000000 v514.000000\"/><text class=\"\" x=\"363.6807692307692\" y=\"529.0\">TV-G</text></g><g class=\"guides\"><path class=\"guide line\" d=\"M391.873077 0.000000 v514.000000\"/><text class=\"\" x=\"391.8730769230769\" y=\"529.0\">Pas…</text><title>Passed</title></g><g class=\"guides\"><path class=\"guide line\" d=\"M420.065385 0.000000 v514.000000\"/><text class=\"\" x=\"420.0653846153846\" y=\"529.0\">NC-…</text><title>NC-17</title></g><g class=\"guides\"><path class=\"guide line\" d=\"M448.257692 0.000000 v514.000000\"/><text class=\"\" x=\"448.25769230769225\" y=\"529.0\">GP</text></g><g class=\"guides\"><path class=\"guide line\" d=\"M476.450000 0.000000 v514.000000\"/><text class=\"\" x=\"476.45\" y=\"529.0\">M</text></g><g class=\"guides\"><path class=\"guide line\" d=\"M504.642308 0.000000 v514.000000\"/><text class=\"\" x=\"504.64230769230767\" y=\"529.0\">TV-Y</text></g><g class=\"guides\"><path class=\"guide line\" d=\"M532.834615 0.000000 v514.000000\"/><text class=\"\" x=\"532.8346153846154\" y=\"529.0\">TV-…</text><title>TV-Y7</title></g><g class=\"guides\"><path class=\"guide line\" d=\"M561.026923 0.000000 v514.000000\"/><text class=\"\" x=\"561.026923076923\" y=\"529.0\">USA</text></g></g><g class=\"series serie-0 color-0\"><g class=\"bars\"><g class=\"bar\"><rect class=\"rect reactive tooltip-trigger\" height=\"494.2307692307692\" rx=\"0\" ry=\"0\" width=\"21.83212307692308\" x=\"14.457015384615385\" y=\"9.884615384615415\"/><desc class=\"value\">2118</desc><desc class=\"x centered\">25.373076923076923</desc><desc class=\"y centered\">257.0</desc><desc class=\"x_label\">R</desc></g><g class=\"bar\"><rect class=\"rect reactive tooltip-trigger\" height=\"340.92122466768353\" rx=\"0\" ry=\"0\" width=\"21.83212307692308\" x=\"42.64932307692308\" y=\"163.1941599477011\"/><desc class=\"value\">1461</desc><desc class=\"x centered\">53.56538461538462</desc><desc class=\"y centered\">333.6547722815429</desc><desc class=\"x_label\">PG-13</desc></g><g class=\"bar\"><rect class=\"rect reactive tooltip-trigger\" height=\"163.57685043945668\" rx=\"0\" ry=\"0\" width=\"21.83212307692308\" x=\"70.84163076923078\" y=\"340.53853417592796\"/><desc class=\"value\">701</desc><desc class=\"x centered\">81.75769230769231</desc><desc class=\"y centered\">422.32695939565633</desc><desc class=\"x_label\">PG</desc></g><g class=\"bar\"><rect class=\"rect reactive tooltip-trigger\" height=\"70.47105396963758\" rx=\"0\" ry=\"0\" width=\"21.83212307692308\" x=\"99.03393846153844\" y=\"433.64433064574706\"/><desc class=\"value\">302</desc><desc class=\"x centered\">109.94999999999997</desc><desc class=\"y centered\">468.8798576305659</desc><desc class=\"x_label\">Sin content_rating</desc></g><g class=\"bar\"><rect class=\"rect reactive tooltip-trigger\" height=\"27.068351855887272\" rx=\"0\" ry=\"0\" width=\"21.83212307692308\" x=\"127.22624615384616\" y=\"477.04703275949737\"/><desc class=\"value\">116</desc><desc class=\"x centered\">138.1423076923077</desc><desc class=\"y centered\">490.581208687441</desc><desc class=\"x_label\">Not Rated</desc></g><g class=\"bar\"><rect class=\"rect reactive tooltip-trigger\" height=\"26.134960412580824\" rx=\"0\" ry=\"0\" width=\"21.83212307692308\" x=\"155.41855384615386\" y=\"477.9804242028038\"/><desc class=\"value\">112</desc><desc class=\"x centered\">166.3346153846154</desc><desc class=\"y centered\">491.04790440909426</desc><desc class=\"x_label\">G</desc></g><g class=\"bar\"><rect class=\"rect reactive tooltip-trigger\" height=\"14.46756737125014\" rx=\"0\" ry=\"0\" width=\"21.83212307692308\" x=\"183.61086153846153\" y=\"489.6478172441345\"/><desc class=\"value\">62</desc><desc class=\"x centered\">194.52692307692308</desc><desc class=\"y centered\">496.88160092975954</desc><desc class=\"x_label\">Unrated</desc></g><g class=\"bar\"><rect class=\"rect reactive tooltip-trigger\" height=\"12.834132345463786\" rx=\"0\" ry=\"0\" width=\"21.83212307692308\" x=\"211.8031692307692\" y=\"491.28125226992086\"/><desc class=\"value\">55</desc><desc class=\"x centered\">222.71923076923076</desc><desc class=\"y centered\">497.69831844265275</desc><desc class=\"x_label\">Approved</desc></g><g class=\"bar\"><rect class=\"rect reactive tooltip-trigger\" height=\"7.000435824798444\" rx=\"0\" ry=\"0\" width=\"21.83212307692308\" x=\"239.99547692307695\" y=\"497.1149487905862\"/><desc class=\"value\">30</desc><desc class=\"x centered\">250.9115384615385</desc><desc class=\"y centered\">500.61516670298545</desc><desc class=\"x_label\">TV-14</desc></g><g class=\"bar\"><rect class=\"rect reactive tooltip-trigger\" height=\"4.666957216532296\" rx=\"0\" ry=\"0\" width=\"21.83212307692308\" x=\"268.1877846153846\" y=\"499.44842739885235\"/><desc class=\"value\">20</desc><desc class=\"x centered\">279.1038461538461</desc><desc class=\"y centered\">501.7819060071185</desc><desc class=\"x_label\">TV-MA</desc></g><g class=\"bar\"><rect class=\"rect reactive tooltip-trigger\" height=\"3.033522190745998\" rx=\"0\" ry=\"0\" width=\"21.83212307692308\" x=\"296.3800923076923\" y=\"501.08186242463864\"/><desc class=\"value\">13</desc><desc class=\"x centered\">307.2961538461538</desc><desc class=\"y centered\">502.59862352001164</desc><desc class=\"x_label\">X</desc></g><g class=\"bar\"><rect class=\"rect reactive tooltip-trigger\" height=\"3.033522190745998\" rx=\"0\" ry=\"0\" width=\"21.83212307692308\" x=\"324.5724\" y=\"501.08186242463864\"/><desc class=\"value\">13</desc><desc class=\"x centered\">335.48846153846154</desc><desc class=\"y centered\">502.59862352001164</desc><desc class=\"x_label\">TV-PG</desc></g><g class=\"bar\"><rect class=\"rect reactive tooltip-trigger\" height=\"2.333478608266148\" rx=\"0\" ry=\"0\" width=\"21.83212307692308\" x=\"352.76470769230764\" y=\"501.7819060071185\"/><desc class=\"value\">10</desc><desc class=\"x centered\">363.68076923076916</desc><desc class=\"y centered\">502.94864531125154</desc><desc class=\"x_label\">TV-G</desc></g><g class=\"bar\"><rect class=\"rect reactive tooltip-trigger\" height=\"2.1001307474395503\" rx=\"0\" ry=\"0\" width=\"21.83212307692308\" x=\"380.9570153846154\" y=\"502.0152538679451\"/><desc class=\"value\">9</desc><desc class=\"x centered\">391.8730769230769</desc><desc class=\"y centered\">503.06531924166484</desc><desc class=\"x_label\">Passed</desc></g><g class=\"bar\"><rect class=\"rect reactive tooltip-trigger\" height=\"1.633435025786298\" rx=\"0\" ry=\"0\" width=\"21.83212307692308\" x=\"409.149323076923\" y=\"502.48194958959834\"/><desc class=\"value\">7</desc><desc class=\"x centered\">420.0653846153845</desc><desc class=\"y centered\">503.2986671024915</desc><desc class=\"x_label\">NC-17</desc></g><g class=\"bar\"><rect class=\"rect reactive tooltip-trigger\" height=\"1.4000871649597002\" rx=\"0\" ry=\"0\" width=\"21.83212307692308\" x=\"437.34163076923073\" y=\"502.71529745042494\"/><desc class=\"value\">6</desc><desc class=\"x centered\">448.25769230769225</desc><desc class=\"y centered\">503.4153410329048</desc><desc class=\"x_label\">GP</desc></g><g class=\"bar\"><rect class=\"rect reactive tooltip-trigger\" height=\"1.1667393041331025\" rx=\"0\" ry=\"0\" width=\"21.83212307692308\" x=\"465.53393846153847\" y=\"502.94864531125154\"/><desc class=\"value\">5</desc><desc class=\"x centered\">476.45</desc><desc class=\"y centered\">503.5320149633181</desc><desc class=\"x_label\">M</desc></g><g class=\"bar\"><rect class=\"rect reactive tooltip-trigger\" height=\"0.2333478608266546\" rx=\"0\" ry=\"0\" width=\"21.83212307692308\" x=\"493.7262461538461\" y=\"503.882036754558\"/><desc class=\"value\">1</desc><desc class=\"x centered\">504.6423076923076</desc><desc class=\"y centered\">503.99871068497134</desc><desc class=\"x_label\">TV-Y</desc></g><g class=\"bar\"><rect class=\"rect reactive tooltip-trigger\" height=\"0.2333478608266546\" rx=\"0\" ry=\"0\" width=\"21.83212307692308\" x=\"521.9185538461539\" y=\"503.882036754558\"/><desc class=\"value\">1</desc><desc class=\"x centered\">532.8346153846155</desc><desc class=\"y centered\">503.99871068497134</desc><desc class=\"x_label\">TV-Y7</desc></g><g class=\"bar\"><rect class=\"rect reactive tooltip-trigger\" height=\"0.2333478608266546\" rx=\"0\" ry=\"0\" width=\"21.83212307692308\" x=\"550.1108615384616\" y=\"503.882036754558\"/><desc class=\"value\">1</desc><desc class=\"x centered\">561.0269230769231</desc><desc class=\"y centered\">503.99871068497134</desc><desc class=\"x_label\">USA</desc></g></g></g></g><g class=\"titles\"><text class=\"title plot_title\" x=\"400.0\" y=\"26\">grafica content_rating</text></g><g class=\"plot overlay\" transform=\"translate(193, 46)\"><g class=\"series serie-0 color-0\"/></g><g class=\"plot text-overlay\" transform=\"translate(193, 46)\"><g class=\"series serie-0 color-0\"/></g><g class=\"plot tooltip-overlay\" transform=\"translate(193, 46)\"><g class=\"tooltip\" style=\"opacity: 0\" transform=\"translate(0 0)\"><rect class=\"tooltip-box\" height=\"0\" rx=\"0\" ry=\"0\" width=\"0\"/><g class=\"text\"/></g></g><g class=\"legends\" transform=\"translate(10, 56)\"><g class=\"legend reactive activate-serie\" id=\"activate-serie-0\"><rect class=\"color-0 reactive\" height=\"12\" width=\"12\" x=\"0.0\" y=\"1.0\"/><text x=\"17.0\" y=\"11.2\">content_rating</text></g></g><g class=\"legends\" transform=\"translate(790, 56)\"/></g></svg>"
      ],
      "text/plain": [
       "<pygal.graph.bar.Bar at 0x7fab496b8dd8>"
      ]
     },
     "execution_count": 78,
     "metadata": {},
     "output_type": "execute_result"
    }
   ],
   "source": [
    "var_name = 'content_rating'\n",
    "table_freq = pd.value_counts(algo[var_name]).to_frame().reset_index()\n",
    "table_freq.columns = ['Unicos','Conteo']\n",
    "\n",
    "line_chart = pygal.Bar()\n",
    "line_chart.title = 'grafica ' + var_name\n",
    "line_chart.x_labels = map(str, table_freq['Unicos'])\n",
    "line_chart.add( var_name,table_freq['Conteo'])"
   ]
  },
  {
   "cell_type": "code",
   "execution_count": 84,
   "metadata": {},
   "outputs": [],
   "source": [
    "def Explo_light(data, var):\n",
    "    path_img_hist = \"/home/lalo/Documentos/Diplomado Ciencia de Datos/Modulo 1/Examen 2/Analisis exploratorio. Exploracion ligera/\"\n",
    "    \n",
    "    table_freq = pd.value_counts(data[var]).to_frame().reset_index()\n",
    "    table_freq.columns = ['Unicos','Conteo']\n",
    "\n",
    "    line_chart = pygal.Bar()\n",
    "    line_chart.title = 'grafica ' + var\n",
    "    line_chart.x_labels = map(str, table_freq['Unicos'])\n",
    "    line_chart.add( var,table_freq['Conteo'])\n",
    "    \n",
    "    nombre_grafica =  var + \"_Exploracion_ligera\"\n",
    "    line_chart.render_to_png(path_img_hist + nombre_grafica)"
   ]
  },
  {
   "cell_type": "code",
   "execution_count": 85,
   "metadata": {},
   "outputs": [],
   "source": [
    "Explo_light(algo,\"color\")"
   ]
  },
  {
   "cell_type": "code",
   "execution_count": 86,
   "metadata": {},
   "outputs": [],
   "source": [
    "for var_dis in ls_dis:\n",
    "    Explo_light(algo,var_dis)\n"
   ]
  },
  {
   "cell_type": "markdown",
   "metadata": {},
   "source": [
    "## 3. Remueva outliers de aquellas variables que los presenten. Utilice cualquier método para ello. Muestre un cuadro con el número de registros antes y después de los tratamientos."
   ]
  },
  {
   "cell_type": "code",
   "execution_count": 4,
   "metadata": {},
   "outputs": [],
   "source": [
    "ls_cont = ['color', 'duration', 'gross', 'num voted users', 'facenumber in poster', 'content rating',\n",
    "           'imdb score']\n",
    "\n",
    "ls_dis = ['movie title', 'movie imdb link', 'genre 1', 'genre 2', 'genre 3', 'genre 4', 'language',\n",
    "          'country', 'title year']"
   ]
  },
  {
   "cell_type": "code",
   "execution_count": 5,
   "metadata": {},
   "outputs": [
    {
     "data": {
      "text/plain": [
       "{'movie title': [],\n",
       " 'movie imdb link': [],\n",
       " 'genre 1': [],\n",
       " 'genre 2': [],\n",
       " 'genre 3': [],\n",
       " 'genre 4': [],\n",
       " 'language': [],\n",
       " 'country': [],\n",
       " 'title year': []}"
      ]
     },
     "execution_count": 5,
     "metadata": {},
     "output_type": "execute_result"
    }
   ],
   "source": [
    "Cat_var_dis = {}\n",
    "for var_dis in ls_dis:\n",
    "    Cat_var_dis[var_dis] = []\n",
    "\n",
    "Cat_var_dis"
   ]
  },
  {
   "cell_type": "code",
   "execution_count": 6,
   "metadata": {},
   "outputs": [
    {
     "data": {
      "text/plain": [
       "{'color': [],\n",
       " 'duration': [],\n",
       " 'gross': [],\n",
       " 'num voted users': [],\n",
       " 'facenumber in poster': [],\n",
       " 'content rating': [],\n",
       " 'imdb score': []}"
      ]
     },
     "execution_count": 6,
     "metadata": {},
     "output_type": "execute_result"
    }
   ],
   "source": [
    "Cat_var_cont = {}\n",
    "for var_cont in ls_cont:\n",
    "    Cat_var_cont[var_cont] = []\n",
    "\n",
    "Cat_var_cont"
   ]
  },
  {
   "cell_type": "code",
   "execution_count": 8,
   "metadata": {},
   "outputs": [
    {
     "data": {
      "text/plain": [
       "count      5024\n",
       "unique        2\n",
       "top       Color\n",
       "freq       4815\n",
       "Name: color, dtype: object"
      ]
     },
     "execution_count": 8,
     "metadata": {},
     "output_type": "execute_result"
    }
   ],
   "source": [
    "tabla['color'].describe(percentiles = [x/10 for x in range(10)]+[0.01, 0.05, 0.95, 0.99])"
   ]
  },
  {
   "cell_type": "code",
   "execution_count": 11,
   "metadata": {},
   "outputs": [
    {
     "data": {
      "text/plain": [
       "0                  Color\n",
       "1                  Color\n",
       "2                  Color\n",
       "3                  Color\n",
       "4                  Color\n",
       "5                  Color\n",
       "6                  Color\n",
       "7                  Color\n",
       "8                  Color\n",
       "9                  Color\n",
       "10       Black and White\n",
       "11                 Color\n",
       "12                 Color\n",
       "13                 Color\n",
       "14                 Color\n",
       "15                 Color\n",
       "16                 Color\n",
       "17                 Color\n",
       "18                 Color\n",
       "19                 Color\n",
       "20                 Color\n",
       "21                 Color\n",
       "22                 Color\n",
       "23                 Color\n",
       "24                 Color\n",
       "25                 Color\n",
       "26                 Color\n",
       "27                 Color\n",
       "28                 Color\n",
       "29                 Color\n",
       "              ...       \n",
       "5013               Color\n",
       "5014               Color\n",
       "5015               Color\n",
       "5016               Color\n",
       "5017               Color\n",
       "5018               Color\n",
       "5019               Color\n",
       "5020               Color\n",
       "5021               Color\n",
       "5022               Color\n",
       "5023               Color\n",
       "5024               Color\n",
       "5025               Color\n",
       "5026               Color\n",
       "5027               Color\n",
       "5028               Color\n",
       "5029               Color\n",
       "5030               Color\n",
       "5031               Color\n",
       "5032               Color\n",
       "5033               Color\n",
       "5034               Color\n",
       "5035               Color\n",
       "5036               Color\n",
       "5037               Color\n",
       "5038               Color\n",
       "5039               Color\n",
       "5040               Color\n",
       "5041               Color\n",
       "5042               Color\n",
       "Name: color, Length: 5043, dtype: object"
      ]
     },
     "execution_count": 11,
     "metadata": {},
     "output_type": "execute_result"
    }
   ],
   "source": [
    "Agrup_2 = tabla[[\"anio\", \"Quarter\",\"Prom_diario\"]].groupby([\"anio\", \"Quarter\"]).agg([\"mean\", \"count\"])"
   ]
  },
  {
   "cell_type": "code",
   "execution_count": null,
   "metadata": {},
   "outputs": [],
   "source": []
  }
 ],
 "metadata": {
  "kernelspec": {
   "display_name": "Python 3",
   "language": "python",
   "name": "python3"
  },
  "language_info": {
   "codemirror_mode": {
    "name": "ipython",
    "version": 3
   },
   "file_extension": ".py",
   "mimetype": "text/x-python",
   "name": "python",
   "nbconvert_exporter": "python",
   "pygments_lexer": "ipython3",
   "version": "3.7.3"
  }
 },
 "nbformat": 4,
 "nbformat_minor": 2
}
