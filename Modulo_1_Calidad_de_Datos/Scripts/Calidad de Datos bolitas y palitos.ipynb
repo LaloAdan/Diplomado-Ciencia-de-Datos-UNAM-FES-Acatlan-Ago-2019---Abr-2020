{
 "cells": [
  {
   "cell_type": "code",
   "execution_count": 1,
   "metadata": {},
   "outputs": [],
   "source": [
    "%config IPCompleter.greedy=True\n",
    "import os\n",
    "import pygal\n",
    "import numpy as np\n",
    "import pandas as pd\n",
    "import cairosvg\n",
    "import datetime\n",
    "import matplotlib.pyplot as plt\n",
    "from scipy.stats import ks_2samp\n",
    "from scipy.stats import chisquare"
   ]
  },
  {
   "cell_type": "code",
   "execution_count": 2,
   "metadata": {},
   "outputs": [],
   "source": [
    "path_datos = \"/home/lalo/Documentos/Diplomado Ciencia de Datos/Modulo 1/Calidad de Datos (Primera Parte)/Datos/\"\n",
    "\n",
    "tabla = pd.read_csv(path_datos + \"OnlineNewsPopularity.csv\")\n",
    "test = pd.read_csv(path_datos + \"test.csv\")\n",
    "train = pd.read_csv(path_datos + \"train.csv\")\n",
    "val = pd.read_csv(path_datos + \"val.csv\")\n"
   ]
  },
  {
   "cell_type": "code",
   "execution_count": 3,
   "metadata": {},
   "outputs": [
    {
     "data": {
      "text/plain": [
       "(39644, 61)"
      ]
     },
     "execution_count": 3,
     "metadata": {},
     "output_type": "execute_result"
    }
   ],
   "source": [
    "# Para saber cuantas variables y registros tiene\n",
    "tabla.shape"
   ]
  },
  {
   "cell_type": "code",
   "execution_count": 4,
   "metadata": {},
   "outputs": [
    {
     "data": {
      "text/plain": [
       "Index(['url', ' timedelta', ' n_tokens_title', ' n_tokens_content',\n",
       "       ' n_unique_tokens', ' n_non_stop_words', ' n_non_stop_unique_tokens',\n",
       "       ' num_hrefs', ' num_self_hrefs', ' num_imgs', ' num_videos',\n",
       "       ' average_token_length', ' num_keywords', ' data_channel_is_lifestyle',\n",
       "       ' data_channel_is_entertainment', ' data_channel_is_bus',\n",
       "       ' data_channel_is_socmed', ' data_channel_is_tech',\n",
       "       ' data_channel_is_world', ' kw_min_min', ' kw_max_min', ' kw_avg_min',\n",
       "       ' kw_min_max', ' kw_max_max', ' kw_avg_max', ' kw_min_avg',\n",
       "       ' kw_max_avg', ' kw_avg_avg', ' self_reference_min_shares',\n",
       "       ' self_reference_max_shares', ' self_reference_avg_sharess',\n",
       "       ' weekday_is_monday', ' weekday_is_tuesday', ' weekday_is_wednesday',\n",
       "       ' weekday_is_thursday', ' weekday_is_friday', ' weekday_is_saturday',\n",
       "       ' weekday_is_sunday', ' is_weekend', ' LDA_00', ' LDA_01', ' LDA_02',\n",
       "       ' LDA_03', ' LDA_04', ' global_subjectivity',\n",
       "       ' global_sentiment_polarity', ' global_rate_positive_words',\n",
       "       ' global_rate_negative_words', ' rate_positive_words',\n",
       "       ' rate_negative_words', ' avg_positive_polarity',\n",
       "       ' min_positive_polarity', ' max_positive_polarity',\n",
       "       ' avg_negative_polarity', ' min_negative_polarity',\n",
       "       ' max_negative_polarity', ' title_subjectivity',\n",
       "       ' title_sentiment_polarity', ' abs_title_subjectivity',\n",
       "       ' abs_title_sentiment_polarity', ' shares'],\n",
       "      dtype='object')"
      ]
     },
     "execution_count": 4,
     "metadata": {},
     "output_type": "execute_result"
    }
   ],
   "source": [
    "# Para saber el nombre de las variables de la tabla\n",
    "tabla.columns"
   ]
  },
  {
   "cell_type": "code",
   "execution_count": 8,
   "metadata": {},
   "outputs": [
    {
     "data": {
      "text/plain": [
       "Index(['url', 'timedelta', 'n_tokens_title', 'n_tokens_content',\n",
       "       'n_unique_tokens', 'n_non_stop_words', 'n_non_stop_unique_tokens',\n",
       "       'num_hrefs', 'num_self_hrefs', 'num_imgs', 'num_videos',\n",
       "       'average_token_length', 'num_keywords', 'data_channel_is_lifestyle',\n",
       "       'data_channel_is_entertainment', 'data_channel_is_bus',\n",
       "       'data_channel_is_socmed', 'data_channel_is_tech',\n",
       "       'data_channel_is_world', 'kw_min_min', 'kw_max_min', 'kw_avg_min',\n",
       "       'kw_min_max', 'kw_max_max', 'kw_avg_max', 'kw_min_avg', 'kw_max_avg',\n",
       "       'kw_avg_avg', 'self_reference_min_shares', 'self_reference_max_shares',\n",
       "       'self_reference_avg_sharess', 'weekday_is_monday', 'weekday_is_tuesday',\n",
       "       'weekday_is_wednesday', 'weekday_is_thursday', 'weekday_is_friday',\n",
       "       'weekday_is_saturday', 'weekday_is_sunday', 'is_weekend', 'LDA_00',\n",
       "       'LDA_01', 'LDA_02', 'LDA_03', 'LDA_04', 'global_subjectivity',\n",
       "       'global_sentiment_polarity', 'global_rate_positive_words',\n",
       "       'global_rate_negative_words', 'rate_positive_words',\n",
       "       'rate_negative_words', 'avg_positive_polarity', 'min_positive_polarity',\n",
       "       'max_positive_polarity', 'avg_negative_polarity',\n",
       "       'min_negative_polarity', 'max_negative_polarity', 'title_subjectivity',\n",
       "       'title_sentiment_polarity', 'abs_title_subjectivity',\n",
       "       'abs_title_sentiment_polarity', 'shares'],\n",
       "      dtype='object')"
      ]
     },
     "execution_count": 8,
     "metadata": {},
     "output_type": "execute_result"
    }
   ],
   "source": [
    "# Se notan que tiene vacìos, habrà que quitarlos\n",
    "\n",
    "tabla.columns =[x.strip() for x in tabla.columns]\n",
    "# traducciòn del bucle: para cada x qut toma el nombre de cada una de las columnas en la tabla\n",
    "# x.strip() le quita los vacios de los extremos a la variable x\n",
    "tabla.columns\n"
   ]
  },
  {
   "cell_type": "markdown",
   "metadata": {},
   "source": [
    "# Diferenciar que tipo de variable es: Continua o discreta"
   ]
  },
  {
   "cell_type": "code",
   "execution_count": 9,
   "metadata": {},
   "outputs": [
    {
     "data": {
      "text/plain": [
       "<bound method NDFrame.describe of 0          593\n",
       "1          711\n",
       "2         1500\n",
       "3         1200\n",
       "4          505\n",
       "5          855\n",
       "6          556\n",
       "7          891\n",
       "8         3600\n",
       "9          710\n",
       "10        2200\n",
       "11        1900\n",
       "12         823\n",
       "13       10000\n",
       "14         761\n",
       "15        1600\n",
       "16       13600\n",
       "17        3100\n",
       "18        5700\n",
       "19       17100\n",
       "20        2800\n",
       "21         598\n",
       "22         445\n",
       "23        1500\n",
       "24         852\n",
       "25         783\n",
       "26        1500\n",
       "27        1800\n",
       "28         462\n",
       "29         425\n",
       "         ...  \n",
       "39614     1400\n",
       "39615     5700\n",
       "39616     2100\n",
       "39617      691\n",
       "39618     1400\n",
       "39619     1200\n",
       "39620     2400\n",
       "39621    24300\n",
       "39622     2900\n",
       "39623      947\n",
       "39624     3200\n",
       "39625     1400\n",
       "39626     1100\n",
       "39627     1200\n",
       "39628     1000\n",
       "39629     2400\n",
       "39630     1500\n",
       "39631      914\n",
       "39632     1700\n",
       "39633     1500\n",
       "39634     1000\n",
       "39635     1300\n",
       "39636     1700\n",
       "39637     1400\n",
       "39638     1200\n",
       "39639     1800\n",
       "39640     1900\n",
       "39641     1900\n",
       "39642     1100\n",
       "39643     1300\n",
       "Name: shares, Length: 39644, dtype: int64>"
      ]
     },
     "execution_count": 9,
     "metadata": {},
     "output_type": "execute_result"
    }
   ],
   "source": [
    "# 1ª Forma, se saca que  de datos es la variable. Generalmente, se agrupan de la siguiente manera: \n",
    "# Continuas: Double, Long, Date\n",
    "# Discretas: String, Char, Integer, Date, booleanas (Binaria)\n",
    "tabla[\"shares\"].describe\n",
    "# Se nota que tiene un buen de valores, por lo que no se puede categorizar y aunque sea de tipo integer\n",
    "# por el tipo de valores, es continua"
   ]
  },
  {
   "cell_type": "code",
   "execution_count": 10,
   "metadata": {},
   "outputs": [
    {
     "data": {
      "text/plain": [
       "<matplotlib.axes._subplots.AxesSubplot at 0x7f3183ab86a0>"
      ]
     },
     "execution_count": 10,
     "metadata": {},
     "output_type": "execute_result"
    },
    {
     "data": {
      "image/png": "[encoded data removed]",
      "text/plain": [
       "<Figure size 432x288 with 1 Axes>"
      ]
     },
     "metadata": {
      "needs_background": "light"
     },
     "output_type": "display_data"
    }
   ],
   "source": [
    "# Validaciòn de la distribuciones de las variables continuas\n",
    "# Si tomamos la variable share y su histograma y estadisticas\n",
    "tabla[\"shares\"].hist()\n"
   ]
  },
  {
   "cell_type": "code",
   "execution_count": 12,
   "metadata": {},
   "outputs": [
    {
     "data": {
      "text/plain": [
       "count     39644.000000\n",
       "mean       3395.380184\n",
       "std       11626.950749\n",
       "min           1.000000\n",
       "0%            1.000000\n",
       "1%          381.000000\n",
       "5%          584.000000\n",
       "10%         708.000000\n",
       "20%         870.600000\n",
       "30%        1000.000000\n",
       "40%        1200.000000\n",
       "50%        1400.000000\n",
       "60%        1800.000000\n",
       "70%        2300.000000\n",
       "80%        3400.000000\n",
       "90%        6200.000000\n",
       "95%       10800.000000\n",
       "99%       31657.000000\n",
       "max      843300.000000\n",
       "Name: shares, dtype: float64"
      ]
     },
     "execution_count": 12,
     "metadata": {},
     "output_type": "execute_result"
    }
   ],
   "source": [
    "# Vemos que la gran mayorìa de los valores se concentran, asì que hay que ver sus estadisticas\n",
    "tabla[\"shares\"].describe(percentiles = [x/10 for x in range(10)] + [0.01, 0.05, 0.95, 0.99])"
   ]
  },
  {
   "cell_type": "code",
   "execution_count": 13,
   "metadata": {},
   "outputs": [],
   "source": [
    "# Agarramos el rango (1%, 99%) para la nueva tabla y sobreescribimos\n",
    "tabla = tabla[(tabla[\"shares\"] <= 31657) & (tabla[\"shares\"] >= 381)]"
   ]
  },
  {
   "cell_type": "code",
   "execution_count": 14,
   "metadata": {},
   "outputs": [
    {
     "data": {
      "text/plain": [
       "<matplotlib.axes._subplots.AxesSubplot at 0x7f3181805da0>"
      ]
     },
     "execution_count": 14,
     "metadata": {},
     "output_type": "execute_result"
    },
    {
     "data": {
      "image/png": "[encoded data removed]",
      "text/plain": [
       "<Figure size 432x288 with 1 Axes>"
      ]
     },
     "metadata": {
      "needs_background": "light"
     },
     "output_type": "display_data"
    }
   ],
   "source": [
    "tabla[\"shares\"].hist()"
   ]
  },
  {
   "cell_type": "code",
   "execution_count": 15,
   "metadata": {},
   "outputs": [
    {
     "data": {
      "text/plain": [
       "count    38853.000000\n",
       "mean      2707.845778\n",
       "std       3656.936106\n",
       "min        381.000000\n",
       "0%         381.000000\n",
       "1%         462.000000\n",
       "5%         610.000000\n",
       "10%        722.000000\n",
       "20%        879.000000\n",
       "30%       1000.000000\n",
       "40%       1200.000000\n",
       "50%       1400.000000\n",
       "60%       1800.000000\n",
       "70%       2300.000000\n",
       "80%       3300.000000\n",
       "90%       5800.000000\n",
       "95%       9500.000000\n",
       "99%      20600.000000\n",
       "max      31600.000000\n",
       "Name: shares, dtype: float64"
      ]
     },
     "execution_count": 15,
     "metadata": {},
     "output_type": "execute_result"
    }
   ],
   "source": [
    "tabla[\"shares\"].describe(percentiles = [x/10 for x in range(10)] + [0.01, 0.05, 0.95, 0.99])"
   ]
  },
  {
   "cell_type": "code",
   "execution_count": 12,
   "metadata": {},
   "outputs": [
    {
     "data": {
      "text/plain": [
       "(array([31694,  3930,  1348,   723,   381,   303,   176,   141,    96,\n",
       "           61]),\n",
       " array([  381. ,  3502.9,  6624.8,  9746.7, 12868.6, 15990.5, 19112.4,\n",
       "        22234.3, 25356.2, 28478.1, 31600. ]))"
      ]
     },
     "execution_count": 12,
     "metadata": {},
     "output_type": "execute_result"
    }
   ],
   "source": [
    "# veamos como se distribuye èsta variable con la distribuciòn binomial\n",
    "np.histogram(tabla[\"shares\"])\n",
    "# Nos arroja dos arrays con los puntos donde corta cada barra del histograma,\n",
    "# por lo que podemos meter dos variables que almacenen cada array"
   ]
  },
  {
   "cell_type": "code",
   "execution_count": 13,
   "metadata": {},
   "outputs": [],
   "source": [
    "freq, bins = np.histogram(tabla[\"shares\"])"
   ]
  },
  {
   "cell_type": "code",
   "execution_count": 14,
   "metadata": {},
   "outputs": [
    {
     "data": {
      "text/plain": [
       "array([31694,  3930,  1348,   723,   381,   303,   176,   141,    96,\n",
       "          61])"
      ]
     },
     "execution_count": 14,
     "metadata": {},
     "output_type": "execute_result"
    }
   ],
   "source": [
    "# eje de las y's\n",
    "freq"
   ]
  },
  {
   "cell_type": "code",
   "execution_count": 15,
   "metadata": {},
   "outputs": [
    {
     "data": {
      "text/plain": [
       "array([  381. ,  3502.9,  6624.8,  9746.7, 12868.6, 15990.5, 19112.4,\n",
       "       22234.3, 25356.2, 28478.1, 31600. ])"
      ]
     },
     "execution_count": 15,
     "metadata": {},
     "output_type": "execute_result"
    }
   ],
   "source": [
    "# eje de las x's\n",
    "bins"
   ]
  },
  {
   "cell_type": "code",
   "execution_count": 16,
   "metadata": {},
   "outputs": [],
   "source": [
    "# Hay que hacer la gràfica màs bonita y que se vea donde se concentra la poblaciòn\n",
    "hist = list(zip(freq, bins, bins[1:]))\n",
    "# con zip se hacen pares ordenados con freq como el eje de las x's y \n",
    "# y bins serà para el eje de las y's\n",
    "# \n",
    "hist_plot = pygal.Histogram()"
   ]
  },
  {
   "cell_type": "code",
   "execution_count": 17,
   "metadata": {},
   "outputs": [
    {
     "data": {
      "image/png": "[encoded data removed]",
      "image/svg+xml": [
       "<svg xmlns:xlink=\"http://www.w3.org/1999/xlink\" xmlns=\"http://www.w3.org/2000/svg\" id=\"chart-65aef633-ee48-4efc-ace2-c4f55c9e7472\" class=\"pygal-chart\" viewBox=\"0 0 800 600\"><!--Generated with pygal 2.4.0 (lxml) ©Kozea 2012-2016 on 2019-08-27--><!--http://pygal.org--><!--http://github.com/Kozea/pygal--><defs><style type=\"text/css\">#chart-65aef633-ee48-4efc-ace2-c4f55c9e7472{-webkit-user-select:none;-webkit-font-smoothing:antialiased;font-family:Consolas,\"Liberation Mono\",Menlo,Courier,monospace}#chart-65aef633-ee48-4efc-ace2-c4f55c9e7472 .title{font-family:Consolas,\"Liberation Mono\",Menlo,Courier,monospace;font-size:16px}#chart-65aef633-ee48-4efc-ace2-c4f55c9e7472 .legends .legend text{font-family:Consolas,\"Liberation Mono\",Menlo,Courier,monospace;font-size:14px}#chart-65aef633-ee48-4efc-ace2-c4f55c9e7472 .axis text{font-family:Consolas,\"Liberation Mono\",Menlo,Courier,monospace;font-size:10px}#chart-65aef633-ee48-4efc-ace2-c4f55c9e7472 .axis text.major{font-family:Consolas,\"Liberation Mono\",Menlo,Courier,monospace;font-size:10px}#chart-65aef633-ee48-4efc-ace2-c4f55c9e7472 .text-overlay text.value{font-family:Consolas,\"Liberation Mono\",Menlo,Courier,monospace;font-size:16px}#chart-65aef633-ee48-4efc-ace2-c4f55c9e7472 .text-overlay text.label{font-family:Consolas,\"Liberation Mono\",Menlo,Courier,monospace;font-size:10px}#chart-65aef633-ee48-4efc-ace2-c4f55c9e7472 .tooltip{font-family:Consolas,\"Liberation Mono\",Menlo,Courier,monospace;font-size:14px}#chart-65aef633-ee48-4efc-ace2-c4f55c9e7472 text.no_data{font-family:Consolas,\"Liberation Mono\",Menlo,Courier,monospace;font-size:64px}\n",
       "#chart-65aef633-ee48-4efc-ace2-c4f55c9e7472{background-color:rgba(249,249,249,1)}#chart-65aef633-ee48-4efc-ace2-c4f55c9e7472 path,#chart-65aef633-ee48-4efc-ace2-c4f55c9e7472 line,#chart-65aef633-ee48-4efc-ace2-c4f55c9e7472 rect,#chart-65aef633-ee48-4efc-ace2-c4f55c9e7472 circle{-webkit-transition:150ms;-moz-transition:150ms;transition:150ms}#chart-65aef633-ee48-4efc-ace2-c4f55c9e7472 .graph &gt; .background{fill:rgba(249,249,249,1)}#chart-65aef633-ee48-4efc-ace2-c4f55c9e7472 .plot &gt; .background{fill:rgba(255,255,255,1)}#chart-65aef633-ee48-4efc-ace2-c4f55c9e7472 .graph{fill:rgba(0,0,0,.87)}#chart-65aef633-ee48-4efc-ace2-c4f55c9e7472 text.no_data{fill:rgba(0,0,0,1)}#chart-65aef633-ee48-4efc-ace2-c4f55c9e7472 .title{fill:rgba(0,0,0,1)}#chart-65aef633-ee48-4efc-ace2-c4f55c9e7472 .legends .legend text{fill:rgba(0,0,0,.87)}#chart-65aef633-ee48-4efc-ace2-c4f55c9e7472 .legends .legend:hover text{fill:rgba(0,0,0,1)}#chart-65aef633-ee48-4efc-ace2-c4f55c9e7472 .axis .line{stroke:rgba(0,0,0,1)}#chart-65aef633-ee48-4efc-ace2-c4f55c9e7472 .axis .guide.line{stroke:rgba(0,0,0,.54)}#chart-65aef633-ee48-4efc-ace2-c4f55c9e7472 .axis .major.line{stroke:rgba(0,0,0,.87)}#chart-65aef633-ee48-4efc-ace2-c4f55c9e7472 .axis text.major{fill:rgba(0,0,0,1)}#chart-65aef633-ee48-4efc-ace2-c4f55c9e7472 .axis.y .guides:hover .guide.line,#chart-65aef633-ee48-4efc-ace2-c4f55c9e7472 .line-graph .axis.x .guides:hover .guide.line,#chart-65aef633-ee48-4efc-ace2-c4f55c9e7472 .stackedline-graph .axis.x .guides:hover .guide.line,#chart-65aef633-ee48-4efc-ace2-c4f55c9e7472 .xy-graph .axis.x .guides:hover .guide.line{stroke:rgba(0,0,0,1)}#chart-65aef633-ee48-4efc-ace2-c4f55c9e7472 .axis .guides:hover text{fill:rgba(0,0,0,1)}#chart-65aef633-ee48-4efc-ace2-c4f55c9e7472 .reactive{fill-opacity:.7;stroke-opacity:.8}#chart-65aef633-ee48-4efc-ace2-c4f55c9e7472 .ci{stroke:rgba(0,0,0,.87)}#chart-65aef633-ee48-4efc-ace2-c4f55c9e7472 .reactive.active,#chart-65aef633-ee48-4efc-ace2-c4f55c9e7472 .active .reactive{fill-opacity:.8;stroke-opacity:.9;stroke-width:4}#chart-65aef633-ee48-4efc-ace2-c4f55c9e7472 .ci .reactive.active{stroke-width:1.5}#chart-65aef633-ee48-4efc-ace2-c4f55c9e7472 .series text{fill:rgba(0,0,0,1)}#chart-65aef633-ee48-4efc-ace2-c4f55c9e7472 .tooltip rect{fill:rgba(255,255,255,1);stroke:rgba(0,0,0,1);-webkit-transition:opacity 150ms;-moz-transition:opacity 150ms;transition:opacity 150ms}#chart-65aef633-ee48-4efc-ace2-c4f55c9e7472 .tooltip .label{fill:rgba(0,0,0,.87)}#chart-65aef633-ee48-4efc-ace2-c4f55c9e7472 .tooltip .label{fill:rgba(0,0,0,.87)}#chart-65aef633-ee48-4efc-ace2-c4f55c9e7472 .tooltip .legend{font-size:.8em;fill:rgba(0,0,0,.54)}#chart-65aef633-ee48-4efc-ace2-c4f55c9e7472 .tooltip .x_label{font-size:.6em;fill:rgba(0,0,0,1)}#chart-65aef633-ee48-4efc-ace2-c4f55c9e7472 .tooltip .xlink{font-size:.5em;text-decoration:underline}#chart-65aef633-ee48-4efc-ace2-c4f55c9e7472 .tooltip .value{font-size:1.5em}#chart-65aef633-ee48-4efc-ace2-c4f55c9e7472 .bound{font-size:.5em}#chart-65aef633-ee48-4efc-ace2-c4f55c9e7472 .max-value{font-size:.75em;fill:rgba(0,0,0,.54)}#chart-65aef633-ee48-4efc-ace2-c4f55c9e7472 .map-element{fill:rgba(255,255,255,1);stroke:rgba(0,0,0,.54) !important}#chart-65aef633-ee48-4efc-ace2-c4f55c9e7472 .map-element .reactive{fill-opacity:inherit;stroke-opacity:inherit}#chart-65aef633-ee48-4efc-ace2-c4f55c9e7472 .color-0,#chart-65aef633-ee48-4efc-ace2-c4f55c9e7472 .color-0 a:visited{stroke:#F44336;fill:#F44336}#chart-65aef633-ee48-4efc-ace2-c4f55c9e7472 .text-overlay .color-0 text{fill:black}\n",
       "#chart-65aef633-ee48-4efc-ace2-c4f55c9e7472 text.no_data{text-anchor:middle}#chart-65aef633-ee48-4efc-ace2-c4f55c9e7472 .guide.line{fill:none}#chart-65aef633-ee48-4efc-ace2-c4f55c9e7472 .centered{text-anchor:middle}#chart-65aef633-ee48-4efc-ace2-c4f55c9e7472 .title{text-anchor:middle}#chart-65aef633-ee48-4efc-ace2-c4f55c9e7472 .legends .legend text{fill-opacity:1}#chart-65aef633-ee48-4efc-ace2-c4f55c9e7472 .axis.x text{text-anchor:middle}#chart-65aef633-ee48-4efc-ace2-c4f55c9e7472 .axis.x:not(.web) text[transform]{text-anchor:start}#chart-65aef633-ee48-4efc-ace2-c4f55c9e7472 .axis.x:not(.web) text[transform].backwards{text-anchor:end}#chart-65aef633-ee48-4efc-ace2-c4f55c9e7472 .axis.y text{text-anchor:end}#chart-65aef633-ee48-4efc-ace2-c4f55c9e7472 .axis.y text[transform].backwards{text-anchor:start}#chart-65aef633-ee48-4efc-ace2-c4f55c9e7472 .axis.y2 text{text-anchor:start}#chart-65aef633-ee48-4efc-ace2-c4f55c9e7472 .axis.y2 text[transform].backwards{text-anchor:end}#chart-65aef633-ee48-4efc-ace2-c4f55c9e7472 .axis .guide.line{stroke-dasharray:4,4}#chart-65aef633-ee48-4efc-ace2-c4f55c9e7472 .axis .major.guide.line{stroke-dasharray:6,6}#chart-65aef633-ee48-4efc-ace2-c4f55c9e7472 .horizontal .axis.y .guide.line,#chart-65aef633-ee48-4efc-ace2-c4f55c9e7472 .horizontal .axis.y2 .guide.line,#chart-65aef633-ee48-4efc-ace2-c4f55c9e7472 .vertical .axis.x .guide.line{opacity:0}#chart-65aef633-ee48-4efc-ace2-c4f55c9e7472 .horizontal .axis.always_show .guide.line,#chart-65aef633-ee48-4efc-ace2-c4f55c9e7472 .vertical .axis.always_show .guide.line{opacity:1 !important}#chart-65aef633-ee48-4efc-ace2-c4f55c9e7472 .axis.y .guides:hover .guide.line,#chart-65aef633-ee48-4efc-ace2-c4f55c9e7472 .axis.y2 .guides:hover .guide.line,#chart-65aef633-ee48-4efc-ace2-c4f55c9e7472 .axis.x .guides:hover .guide.line{opacity:1}#chart-65aef633-ee48-4efc-ace2-c4f55c9e7472 .axis .guides:hover text{opacity:1}#chart-65aef633-ee48-4efc-ace2-c4f55c9e7472 .nofill{fill:none}#chart-65aef633-ee48-4efc-ace2-c4f55c9e7472 .subtle-fill{fill-opacity:.2}#chart-65aef633-ee48-4efc-ace2-c4f55c9e7472 .dot{stroke-width:1px;fill-opacity:1}#chart-65aef633-ee48-4efc-ace2-c4f55c9e7472 .dot.active{stroke-width:5px}#chart-65aef633-ee48-4efc-ace2-c4f55c9e7472 .dot.negative{fill:transparent}#chart-65aef633-ee48-4efc-ace2-c4f55c9e7472 text,#chart-65aef633-ee48-4efc-ace2-c4f55c9e7472 tspan{stroke:none !important}#chart-65aef633-ee48-4efc-ace2-c4f55c9e7472 .series text.active{opacity:1}#chart-65aef633-ee48-4efc-ace2-c4f55c9e7472 .tooltip rect{fill-opacity:.95;stroke-width:.5}#chart-65aef633-ee48-4efc-ace2-c4f55c9e7472 .tooltip text{fill-opacity:1}#chart-65aef633-ee48-4efc-ace2-c4f55c9e7472 .showable{visibility:hidden}#chart-65aef633-ee48-4efc-ace2-c4f55c9e7472 .showable.shown{visibility:visible}#chart-65aef633-ee48-4efc-ace2-c4f55c9e7472 .gauge-background{fill:rgba(229,229,229,1);stroke:none}#chart-65aef633-ee48-4efc-ace2-c4f55c9e7472 .bg-lines{stroke:rgba(249,249,249,1);stroke-width:2px}</style><script type=\"text/javascript\">window.pygal = window.pygal || {};window.pygal.config = window.pygal.config || {};window.pygal.config['65aef633-ee48-4efc-ace2-c4f55c9e7472'] = {\"allow_interruptions\": false, \"box_mode\": \"extremes\", \"classes\": [\"pygal-chart\"], \"css\": [\"file://style.css\", \"file://graph.css\"], \"defs\": [], \"disable_xml_declaration\": true, \"dots_size\": 2.5, \"dynamic_print_values\": false, \"explicit_size\": false, \"fill\": false, \"force_uri_protocol\": \"https\", \"formatter\": null, \"half_pie\": false, \"height\": 600, \"include_x_axis\": false, \"inner_radius\": 0, \"interpolate\": null, \"interpolation_parameters\": {}, \"interpolation_precision\": 250, \"inverse_y_axis\": false, \"js\": [\"//kozea.github.io/pygal.js/2.0.x/pygal-tooltips.min.js\"], \"legend_at_bottom\": false, \"legend_at_bottom_columns\": null, \"legend_box_size\": 12, \"logarithmic\": false, \"margin\": 20, \"margin_bottom\": null, \"margin_left\": null, \"margin_right\": null, \"margin_top\": null, \"max_scale\": 16, \"min_scale\": 4, \"missing_value_fill_truncation\": \"x\", \"no_data_text\": \"No data\", \"no_prefix\": false, \"order_min\": null, \"pretty_print\": false, \"print_labels\": false, \"print_values\": false, \"print_values_position\": \"center\", \"print_zeroes\": true, \"range\": null, \"rounded_bars\": null, \"secondary_range\": null, \"show_dots\": true, \"show_legend\": true, \"show_minor_x_labels\": true, \"show_minor_y_labels\": true, \"show_only_major_dots\": false, \"show_x_guides\": false, \"show_x_labels\": true, \"show_y_guides\": true, \"show_y_labels\": true, \"spacing\": 10, \"stack_from_top\": false, \"strict\": false, \"stroke\": true, \"stroke_style\": null, \"style\": {\"background\": \"rgba(249, 249, 249, 1)\", \"ci_colors\": [], \"colors\": [\"#F44336\", \"#3F51B5\", \"#009688\", \"#FFC107\", \"#FF5722\", \"#9C27B0\", \"#03A9F4\", \"#8BC34A\", \"#FF9800\", \"#E91E63\", \"#2196F3\", \"#4CAF50\", \"#FFEB3B\", \"#673AB7\", \"#00BCD4\", \"#CDDC39\", \"#9E9E9E\", \"#607D8B\"], \"font_family\": \"Consolas, \\\"Liberation Mono\\\", Menlo, Courier, monospace\", \"foreground\": \"rgba(0, 0, 0, .87)\", \"foreground_strong\": \"rgba(0, 0, 0, 1)\", \"foreground_subtle\": \"rgba(0, 0, 0, .54)\", \"guide_stroke_dasharray\": \"4,4\", \"label_font_family\": \"Consolas, \\\"Liberation Mono\\\", Menlo, Courier, monospace\", \"label_font_size\": 10, \"legend_font_family\": \"Consolas, \\\"Liberation Mono\\\", Menlo, Courier, monospace\", \"legend_font_size\": 14, \"major_guide_stroke_dasharray\": \"6,6\", \"major_label_font_family\": \"Consolas, \\\"Liberation Mono\\\", Menlo, Courier, monospace\", \"major_label_font_size\": 10, \"no_data_font_family\": \"Consolas, \\\"Liberation Mono\\\", Menlo, Courier, monospace\", \"no_data_font_size\": 64, \"opacity\": \".7\", \"opacity_hover\": \".8\", \"plot_background\": \"rgba(255, 255, 255, 1)\", \"stroke_opacity\": \".8\", \"stroke_opacity_hover\": \".9\", \"title_font_family\": \"Consolas, \\\"Liberation Mono\\\", Menlo, Courier, monospace\", \"title_font_size\": 16, \"tooltip_font_family\": \"Consolas, \\\"Liberation Mono\\\", Menlo, Courier, monospace\", \"tooltip_font_size\": 14, \"transition\": \"150ms\", \"value_background\": \"rgba(229, 229, 229, 1)\", \"value_colors\": [], \"value_font_family\": \"Consolas, \\\"Liberation Mono\\\", Menlo, Courier, monospace\", \"value_font_size\": 16, \"value_label_font_family\": \"Consolas, \\\"Liberation Mono\\\", Menlo, Courier, monospace\", \"value_label_font_size\": 10}, \"title\": null, \"tooltip_border_radius\": 0, \"tooltip_fancy_mode\": true, \"truncate_label\": null, \"truncate_legend\": null, \"width\": 800, \"x_label_rotation\": 0, \"x_labels\": null, \"x_labels_major\": null, \"x_labels_major_count\": null, \"x_labels_major_every\": null, \"x_title\": null, \"xrange\": null, \"y_label_rotation\": 0, \"y_labels\": null, \"y_labels_major\": null, \"y_labels_major_count\": null, \"y_labels_major_every\": null, \"y_title\": null, \"zero\": 0, \"legends\": [\"Shares_Dist\"]}</script><script type=\"text/javascript\" xlink:href=\"https://kozea.github.io/pygal.js/2.0.x/pygal-tooltips.min.js\"/></defs><title>Pygal</title><g class=\"graph histogram-graph vertical\"><rect class=\"background\" height=\"600\" width=\"800\" x=\"0\" y=\"0\"/><g class=\"plot\" transform=\"translate(174, 20)\"><rect class=\"background\" height=\"540\" width=\"605.6\" x=\"0\" y=\"0\"/><g class=\"axis y always_show\"><g class=\"guides\"><path class=\"axis major line\" d=\"M0.000000 529.615385 h605.600000\"/><text class=\"major\" x=\"-5\" y=\"533.1153846153846\">0</text><title>0</title></g><g class=\"guides\"><path class=\"guide line\" d=\"M0.000000 496.850144 h605.600000\"/><text class=\"\" x=\"-5\" y=\"500.3501439243536\">2000</text><title>2000</title></g><g class=\"guides\"><path class=\"guide line\" d=\"M0.000000 464.084903 h605.600000\"/><text class=\"\" x=\"-5\" y=\"467.5849032333225\">4000</text><title>4000</title></g><g class=\"guides\"><path class=\"guide line\" d=\"M0.000000 431.319663 h605.600000\"/><text class=\"\" x=\"-5\" y=\"434.81966254229144\">6000</text><title>6000</title></g><g class=\"guides\"><path class=\"guide line\" d=\"M0.000000 398.554422 h605.600000\"/><text class=\"\" x=\"-5\" y=\"402.0544218512604\">8000</text><title>8000</title></g><g class=\"guides\"><path class=\"major guide line\" d=\"M0.000000 365.789181 h605.600000\"/><text class=\"major\" x=\"-5\" y=\"369.2891811602293\">10000</text><title>10000</title></g><g class=\"guides\"><path class=\"guide line\" d=\"M0.000000 333.023940 h605.600000\"/><text class=\"\" x=\"-5\" y=\"336.5239404691983\">12000</text><title>12000</title></g><g class=\"guides\"><path class=\"guide line\" d=\"M0.000000 300.258700 h605.600000\"/><text class=\"\" x=\"-5\" y=\"303.7586997781672\">14000</text><title>14000</title></g><g class=\"guides\"><path class=\"guide line\" d=\"M0.000000 267.493459 h605.600000\"/><text class=\"\" x=\"-5\" y=\"270.9934590871361\">16000</text><title>16000</title></g><g class=\"guides\"><path class=\"guide line\" d=\"M0.000000 234.728218 h605.600000\"/><text class=\"\" x=\"-5\" y=\"238.22821839610504\">18000</text><title>18000</title></g><g class=\"guides\"><path class=\"major guide line\" d=\"M0.000000 201.962978 h605.600000\"/><text class=\"major\" x=\"-5\" y=\"205.46297770507397\">20000</text><title>20000</title></g><g class=\"guides\"><path class=\"guide line\" d=\"M0.000000 169.197737 h605.600000\"/><text class=\"\" x=\"-5\" y=\"172.6977370140429\">22000</text><title>22000</title></g><g class=\"guides\"><path class=\"guide line\" d=\"M0.000000 136.432496 h605.600000\"/><text class=\"\" x=\"-5\" y=\"139.9324963230119\">24000</text><title>24000</title></g><g class=\"guides\"><path class=\"guide line\" d=\"M0.000000 103.667256 h605.600000\"/><text class=\"\" x=\"-5\" y=\"107.16725563198082\">26000</text><title>26000</title></g><g class=\"guides\"><path class=\"guide line\" d=\"M0.000000 70.902015 h605.600000\"/><text class=\"\" x=\"-5\" y=\"74.40201494094975\">28000</text><title>28000</title></g><g class=\"guides\"><path class=\"major guide line\" d=\"M0.000000 38.136774 h605.600000\"/><text class=\"major\" x=\"-5\" y=\"41.63677424991869\">30000</text><title>30000</title></g></g><g class=\"axis x\"><path class=\"line\" d=\"M0.000000 0.000000 v540.000000\"/><g class=\"guides\"><path class=\"guide line\" d=\"M41.844307 0.000000 v540.000000\"/><text class=\"\" x=\"41.84430733749418\" y=\"555.0\">2000</text><title>2000</title></g><g class=\"guides\"><path class=\"guide line\" d=\"M79.149006 0.000000 v540.000000\"/><text class=\"\" x=\"79.14900590616661\" y=\"555.0\">4000</text><title>4000</title></g><g class=\"guides\"><path class=\"guide line\" d=\"M116.453704 0.000000 v540.000000\"/><text class=\"\" x=\"116.45370447483904\" y=\"555.0\">6000</text><title>6000</title></g><g class=\"guides\"><path class=\"guide line\" d=\"M153.758403 0.000000 v540.000000\"/><text class=\"\" x=\"153.75840304351144\" y=\"555.0\">8000</text><title>8000</title></g><g class=\"guides\"><path class=\"guide line\" d=\"M191.063102 0.000000 v540.000000\"/><text class=\"\" x=\"191.06310161218386\" y=\"555.0\">10000</text><title>10000</title></g><g class=\"guides\"><path class=\"guide line\" d=\"M228.367800 0.000000 v540.000000\"/><text class=\"\" x=\"228.3678001808563\" y=\"555.0\">12000</text><title>12000</title></g><g class=\"guides\"><path class=\"guide line\" d=\"M265.672499 0.000000 v540.000000\"/><text class=\"\" x=\"265.6724987495287\" y=\"555.0\">14000</text><title>14000</title></g><g class=\"guides\"><path class=\"guide line\" d=\"M302.977197 0.000000 v540.000000\"/><text class=\"\" x=\"302.97719731820115\" y=\"555.0\">16000</text><title>16000</title></g><g class=\"guides\"><path class=\"guide line\" d=\"M340.281896 0.000000 v540.000000\"/><text class=\"\" x=\"340.28189588687366\" y=\"555.0\">18000</text><title>18000</title></g><g class=\"guides\"><path class=\"guide line\" d=\"M377.586594 0.000000 v540.000000\"/><text class=\"\" x=\"377.58659445554605\" y=\"555.0\">20000</text><title>20000</title></g><g class=\"guides\"><path class=\"guide line\" d=\"M414.891293 0.000000 v540.000000\"/><text class=\"\" x=\"414.8912930242185\" y=\"555.0\">22000</text><title>22000</title></g><g class=\"guides\"><path class=\"guide line\" d=\"M452.195992 0.000000 v540.000000\"/><text class=\"\" x=\"452.19599159289095\" y=\"555.0\">24000</text><title>24000</title></g><g class=\"guides\"><path class=\"guide line\" d=\"M489.500690 0.000000 v540.000000\"/><text class=\"\" x=\"489.50069016156334\" y=\"555.0\">26000</text><title>26000</title></g><g class=\"guides\"><path class=\"guide line\" d=\"M526.805389 0.000000 v540.000000\"/><text class=\"\" x=\"526.8053887302358\" y=\"555.0\">28000</text><title>28000</title></g><g class=\"guides\"><path class=\"guide line\" d=\"M564.110087 0.000000 v540.000000\"/><text class=\"\" x=\"564.1100872989083\" y=\"555.0\">30000</text><title>30000</title></g></g><g class=\"series serie-0 color-0\"><g class=\"histbars\"><g class=\"histbar\"><rect class=\"rect reactive tooltip-trigger\" height=\"519.2307692307692\" rx=\"0\" ry=\"0\" width=\"58.23076923076923\" x=\"11.646153846153846\" y=\"10.384615384615472\"/><desc class=\"value\">31694: 381</desc><desc class=\"x centered\">40.761538461538464</desc><desc class=\"y centered\">270.00000000000006</desc></g><g class=\"histbar\"><rect class=\"rect reactive tooltip-trigger\" height=\"64.38369795787605\" rx=\"0\" ry=\"0\" width=\"58.230769230769226\" x=\"69.87692307692308\" y=\"465.2316866575086\"/><desc class=\"value\">3930: 3502.9</desc><desc class=\"x centered\">98.99230769230769</desc><desc class=\"y centered\">497.4235356364466</desc></g><g class=\"histbar\"><rect class=\"rect reactive tooltip-trigger\" height=\"22.083772225754956\" rx=\"0\" ry=\"0\" width=\"58.230769230769226\" x=\"128.1076923076923\" y=\"507.5316123896297\"/><desc class=\"value\">1348: 6624.8</desc><desc class=\"x centered\">157.22307692307692</desc><desc class=\"y centered\">518.5734985025072</desc></g><g class=\"histbar\"><rect class=\"rect reactive tooltip-trigger\" height=\"11.844634509807747\" rx=\"0\" ry=\"0\" width=\"58.230769230769226\" x=\"186.33846153846153\" y=\"517.7707501055769\"/><desc class=\"value\">723: 9746.7</desc><desc class=\"x centered\">215.45384615384614</desc><desc class=\"y centered\">523.6930673604808</desc></g><g class=\"histbar\"><rect class=\"rect reactive tooltip-trigger\" height=\"6.241778351641415\" rx=\"0\" ry=\"0\" width=\"58.230769230769255\" x=\"244.56923076923076\" y=\"523.3736062637432\"/><desc class=\"value\">381: 12868.6</desc><desc class=\"x centered\">273.68461538461537</desc><desc class=\"y centered\">526.4944954395639</desc></g><g class=\"histbar\"><rect class=\"rect reactive tooltip-trigger\" height=\"4.96393396469125\" rx=\"0\" ry=\"0\" width=\"58.23076923076928\" x=\"302.8\" y=\"524.6514506506934\"/><desc class=\"value\">303: 15990.5</desc><desc class=\"x centered\">331.91538461538465</desc><desc class=\"y centered\">527.133417633039</desc></g><g class=\"histbar\"><rect class=\"rect reactive tooltip-trigger\" height=\"2.8833411808108167\" rx=\"0\" ry=\"0\" width=\"58.23076923076917\" x=\"361.0307692307693\" y=\"526.7320434345738\"/><desc class=\"value\">176: 19112.4</desc><desc class=\"x centered\">390.1461538461539</desc><desc class=\"y centered\">528.1737140249793</desc></g><g class=\"histbar\"><rect class=\"rect reactive tooltip-trigger\" height=\"2.3099494687177184\" rx=\"0\" ry=\"0\" width=\"58.23076923076928\" x=\"419.26153846153846\" y=\"527.3054351466669\"/><desc class=\"value\">141: 22234.3</desc><desc class=\"x centered\">448.3769230769231</desc><desc class=\"y centered\">528.4604098810257</desc></g><g class=\"histbar\"><rect class=\"rect reactive tooltip-trigger\" height=\"1.5727315531695467\" rx=\"0\" ry=\"0\" width=\"58.230769230769226\" x=\"477.49230769230775\" y=\"528.0426530622151\"/><desc class=\"value\">96: 25356.2</desc><desc class=\"x centered\">506.60769230769233</desc><desc class=\"y centered\">528.8290188387998</desc></g><g class=\"histbar\"><rect class=\"rect reactive tooltip-trigger\" height=\"0.9993398410764485\" rx=\"0\" ry=\"0\" width=\"58.23076923076928\" x=\"535.723076923077\" y=\"528.6160447743082\"/><desc class=\"value\">61: 28478.1</desc><desc class=\"x centered\">564.8384615384616</desc><desc class=\"y centered\">529.1157146948465</desc></g></g></g></g><g class=\"titles\"/><g class=\"plot overlay\" transform=\"translate(174, 20)\"><g class=\"series serie-0 color-0\"/></g><g class=\"plot text-overlay\" transform=\"translate(174, 20)\"><g class=\"series serie-0 color-0\"/></g><g class=\"plot tooltip-overlay\" transform=\"translate(174, 20)\"><g class=\"tooltip\" style=\"opacity: 0\" transform=\"translate(0 0)\"><rect class=\"tooltip-box\" height=\"0\" rx=\"0\" ry=\"0\" width=\"0\"/><g class=\"text\"/></g></g><g class=\"legends\" transform=\"translate(10, 30)\"><g class=\"legend reactive activate-serie\" id=\"activate-serie-0\"><rect class=\"color-0 reactive\" height=\"12\" width=\"12\" x=\"0.0\" y=\"1.0\"/><text x=\"17.0\" y=\"11.2\">Shares_Dist</text></g></g><g class=\"legends\" transform=\"translate(790, 30)\"/></g></svg>"
      ],
      "text/plain": [
       "<pygal.graph.histogram.Histogram at 0x7f772290ecc0>"
      ]
     },
     "execution_count": 17,
     "metadata": {},
     "output_type": "execute_result"
    }
   ],
   "source": [
    "hist_plot.add(\"Shares_Dist\", hist)"
   ]
  },
  {
   "cell_type": "code",
   "execution_count": 66,
   "metadata": {},
   "outputs": [],
   "source": [
    "# hay que validar si la informaciòn es Dist normal, hay que utilizar test's\n",
    "# test = pd.read_csv(\"/home/lalo/Documentos/Diplomado Ciencia de Datos/Practica 1/test.csv\")\n",
    "# train = pd.read_csv(\"/home/lalo/Documentos/Diplomado Ciencia de Datos/Practica 1/train.csv\")\n",
    "# val = pd.read_csv(\"/home/lalo/Documentos/Diplomado Ciencia de Datos/Practica 1/val.csv\")\n"
   ]
  },
  {
   "cell_type": "code",
   "execution_count": 18,
   "metadata": {},
   "outputs": [],
   "source": [
    "# Pero hay que ser pràcticos, no se va ejecutar linea por lìnea, hay que crear una funciòn que \n",
    "# el paràmetro sea la variable de una tabla en especifico\n",
    "def plot_histogram(data,var):\n",
    "    ye_s, equis = np.histogram(data[var])\n",
    "    hist = list(zip(ye_s, equis, equis[1:]))\n",
    "    hist_plot = pygal.Histogram()\n",
    "    hist_plot.add(\"Dist_\" + var, hist)\n",
    "    return hist_plot\n",
    "    # hist_plot.render_to_png(\"/home/lalo/Documentos/Diplomado Ciencia de Datos/Practica 1\")"
   ]
  },
  {
   "cell_type": "code",
   "execution_count": 19,
   "metadata": {},
   "outputs": [
    {
     "data": {
      "image/png": "[encoded data removed]",
      "image/svg+xml": [
       "<svg xmlns:xlink=\"http://www.w3.org/1999/xlink\" xmlns=\"http://www.w3.org/2000/svg\" id=\"chart-79695563-8484-4e98-a403-35cd441d8ce6\" class=\"pygal-chart\" viewBox=\"0 0 800 600\"><!--Generated with pygal 2.4.0 (lxml) ©Kozea 2012-2016 on 2019-08-27--><!--http://pygal.org--><!--http://github.com/Kozea/pygal--><defs><style type=\"text/css\">#chart-79695563-8484-4e98-a403-35cd441d8ce6{-webkit-user-select:none;-webkit-font-smoothing:antialiased;font-family:Consolas,\"Liberation Mono\",Menlo,Courier,monospace}#chart-79695563-8484-4e98-a403-35cd441d8ce6 .title{font-family:Consolas,\"Liberation Mono\",Menlo,Courier,monospace;font-size:16px}#chart-79695563-8484-4e98-a403-35cd441d8ce6 .legends .legend text{font-family:Consolas,\"Liberation Mono\",Menlo,Courier,monospace;font-size:14px}#chart-79695563-8484-4e98-a403-35cd441d8ce6 .axis text{font-family:Consolas,\"Liberation Mono\",Menlo,Courier,monospace;font-size:10px}#chart-79695563-8484-4e98-a403-35cd441d8ce6 .axis text.major{font-family:Consolas,\"Liberation Mono\",Menlo,Courier,monospace;font-size:10px}#chart-79695563-8484-4e98-a403-35cd441d8ce6 .text-overlay text.value{font-family:Consolas,\"Liberation Mono\",Menlo,Courier,monospace;font-size:16px}#chart-79695563-8484-4e98-a403-35cd441d8ce6 .text-overlay text.label{font-family:Consolas,\"Liberation Mono\",Menlo,Courier,monospace;font-size:10px}#chart-79695563-8484-4e98-a403-35cd441d8ce6 .tooltip{font-family:Consolas,\"Liberation Mono\",Menlo,Courier,monospace;font-size:14px}#chart-79695563-8484-4e98-a403-35cd441d8ce6 text.no_data{font-family:Consolas,\"Liberation Mono\",Menlo,Courier,monospace;font-size:64px}\n",
       "#chart-79695563-8484-4e98-a403-35cd441d8ce6{background-color:rgba(249,249,249,1)}#chart-79695563-8484-4e98-a403-35cd441d8ce6 path,#chart-79695563-8484-4e98-a403-35cd441d8ce6 line,#chart-79695563-8484-4e98-a403-35cd441d8ce6 rect,#chart-79695563-8484-4e98-a403-35cd441d8ce6 circle{-webkit-transition:150ms;-moz-transition:150ms;transition:150ms}#chart-79695563-8484-4e98-a403-35cd441d8ce6 .graph &gt; .background{fill:rgba(249,249,249,1)}#chart-79695563-8484-4e98-a403-35cd441d8ce6 .plot &gt; .background{fill:rgba(255,255,255,1)}#chart-79695563-8484-4e98-a403-35cd441d8ce6 .graph{fill:rgba(0,0,0,.87)}#chart-79695563-8484-4e98-a403-35cd441d8ce6 text.no_data{fill:rgba(0,0,0,1)}#chart-79695563-8484-4e98-a403-35cd441d8ce6 .title{fill:rgba(0,0,0,1)}#chart-79695563-8484-4e98-a403-35cd441d8ce6 .legends .legend text{fill:rgba(0,0,0,.87)}#chart-79695563-8484-4e98-a403-35cd441d8ce6 .legends .legend:hover text{fill:rgba(0,0,0,1)}#chart-79695563-8484-4e98-a403-35cd441d8ce6 .axis .line{stroke:rgba(0,0,0,1)}#chart-79695563-8484-4e98-a403-35cd441d8ce6 .axis .guide.line{stroke:rgba(0,0,0,.54)}#chart-79695563-8484-4e98-a403-35cd441d8ce6 .axis .major.line{stroke:rgba(0,0,0,.87)}#chart-79695563-8484-4e98-a403-35cd441d8ce6 .axis text.major{fill:rgba(0,0,0,1)}#chart-79695563-8484-4e98-a403-35cd441d8ce6 .axis.y .guides:hover .guide.line,#chart-79695563-8484-4e98-a403-35cd441d8ce6 .line-graph .axis.x .guides:hover .guide.line,#chart-79695563-8484-4e98-a403-35cd441d8ce6 .stackedline-graph .axis.x .guides:hover .guide.line,#chart-79695563-8484-4e98-a403-35cd441d8ce6 .xy-graph .axis.x .guides:hover .guide.line{stroke:rgba(0,0,0,1)}#chart-79695563-8484-4e98-a403-35cd441d8ce6 .axis .guides:hover text{fill:rgba(0,0,0,1)}#chart-79695563-8484-4e98-a403-35cd441d8ce6 .reactive{fill-opacity:.7;stroke-opacity:.8}#chart-79695563-8484-4e98-a403-35cd441d8ce6 .ci{stroke:rgba(0,0,0,.87)}#chart-79695563-8484-4e98-a403-35cd441d8ce6 .reactive.active,#chart-79695563-8484-4e98-a403-35cd441d8ce6 .active .reactive{fill-opacity:.8;stroke-opacity:.9;stroke-width:4}#chart-79695563-8484-4e98-a403-35cd441d8ce6 .ci .reactive.active{stroke-width:1.5}#chart-79695563-8484-4e98-a403-35cd441d8ce6 .series text{fill:rgba(0,0,0,1)}#chart-79695563-8484-4e98-a403-35cd441d8ce6 .tooltip rect{fill:rgba(255,255,255,1);stroke:rgba(0,0,0,1);-webkit-transition:opacity 150ms;-moz-transition:opacity 150ms;transition:opacity 150ms}#chart-79695563-8484-4e98-a403-35cd441d8ce6 .tooltip .label{fill:rgba(0,0,0,.87)}#chart-79695563-8484-4e98-a403-35cd441d8ce6 .tooltip .label{fill:rgba(0,0,0,.87)}#chart-79695563-8484-4e98-a403-35cd441d8ce6 .tooltip .legend{font-size:.8em;fill:rgba(0,0,0,.54)}#chart-79695563-8484-4e98-a403-35cd441d8ce6 .tooltip .x_label{font-size:.6em;fill:rgba(0,0,0,1)}#chart-79695563-8484-4e98-a403-35cd441d8ce6 .tooltip .xlink{font-size:.5em;text-decoration:underline}#chart-79695563-8484-4e98-a403-35cd441d8ce6 .tooltip .value{font-size:1.5em}#chart-79695563-8484-4e98-a403-35cd441d8ce6 .bound{font-size:.5em}#chart-79695563-8484-4e98-a403-35cd441d8ce6 .max-value{font-size:.75em;fill:rgba(0,0,0,.54)}#chart-79695563-8484-4e98-a403-35cd441d8ce6 .map-element{fill:rgba(255,255,255,1);stroke:rgba(0,0,0,.54) !important}#chart-79695563-8484-4e98-a403-35cd441d8ce6 .map-element .reactive{fill-opacity:inherit;stroke-opacity:inherit}#chart-79695563-8484-4e98-a403-35cd441d8ce6 .color-0,#chart-79695563-8484-4e98-a403-35cd441d8ce6 .color-0 a:visited{stroke:#F44336;fill:#F44336}#chart-79695563-8484-4e98-a403-35cd441d8ce6 .text-overlay .color-0 text{fill:black}\n",
       "#chart-79695563-8484-4e98-a403-35cd441d8ce6 text.no_data{text-anchor:middle}#chart-79695563-8484-4e98-a403-35cd441d8ce6 .guide.line{fill:none}#chart-79695563-8484-4e98-a403-35cd441d8ce6 .centered{text-anchor:middle}#chart-79695563-8484-4e98-a403-35cd441d8ce6 .title{text-anchor:middle}#chart-79695563-8484-4e98-a403-35cd441d8ce6 .legends .legend text{fill-opacity:1}#chart-79695563-8484-4e98-a403-35cd441d8ce6 .axis.x text{text-anchor:middle}#chart-79695563-8484-4e98-a403-35cd441d8ce6 .axis.x:not(.web) text[transform]{text-anchor:start}#chart-79695563-8484-4e98-a403-35cd441d8ce6 .axis.x:not(.web) text[transform].backwards{text-anchor:end}#chart-79695563-8484-4e98-a403-35cd441d8ce6 .axis.y text{text-anchor:end}#chart-79695563-8484-4e98-a403-35cd441d8ce6 .axis.y text[transform].backwards{text-anchor:start}#chart-79695563-8484-4e98-a403-35cd441d8ce6 .axis.y2 text{text-anchor:start}#chart-79695563-8484-4e98-a403-35cd441d8ce6 .axis.y2 text[transform].backwards{text-anchor:end}#chart-79695563-8484-4e98-a403-35cd441d8ce6 .axis .guide.line{stroke-dasharray:4,4}#chart-79695563-8484-4e98-a403-35cd441d8ce6 .axis .major.guide.line{stroke-dasharray:6,6}#chart-79695563-8484-4e98-a403-35cd441d8ce6 .horizontal .axis.y .guide.line,#chart-79695563-8484-4e98-a403-35cd441d8ce6 .horizontal .axis.y2 .guide.line,#chart-79695563-8484-4e98-a403-35cd441d8ce6 .vertical .axis.x .guide.line{opacity:0}#chart-79695563-8484-4e98-a403-35cd441d8ce6 .horizontal .axis.always_show .guide.line,#chart-79695563-8484-4e98-a403-35cd441d8ce6 .vertical .axis.always_show .guide.line{opacity:1 !important}#chart-79695563-8484-4e98-a403-35cd441d8ce6 .axis.y .guides:hover .guide.line,#chart-79695563-8484-4e98-a403-35cd441d8ce6 .axis.y2 .guides:hover .guide.line,#chart-79695563-8484-4e98-a403-35cd441d8ce6 .axis.x .guides:hover .guide.line{opacity:1}#chart-79695563-8484-4e98-a403-35cd441d8ce6 .axis .guides:hover text{opacity:1}#chart-79695563-8484-4e98-a403-35cd441d8ce6 .nofill{fill:none}#chart-79695563-8484-4e98-a403-35cd441d8ce6 .subtle-fill{fill-opacity:.2}#chart-79695563-8484-4e98-a403-35cd441d8ce6 .dot{stroke-width:1px;fill-opacity:1}#chart-79695563-8484-4e98-a403-35cd441d8ce6 .dot.active{stroke-width:5px}#chart-79695563-8484-4e98-a403-35cd441d8ce6 .dot.negative{fill:transparent}#chart-79695563-8484-4e98-a403-35cd441d8ce6 text,#chart-79695563-8484-4e98-a403-35cd441d8ce6 tspan{stroke:none !important}#chart-79695563-8484-4e98-a403-35cd441d8ce6 .series text.active{opacity:1}#chart-79695563-8484-4e98-a403-35cd441d8ce6 .tooltip rect{fill-opacity:.95;stroke-width:.5}#chart-79695563-8484-4e98-a403-35cd441d8ce6 .tooltip text{fill-opacity:1}#chart-79695563-8484-4e98-a403-35cd441d8ce6 .showable{visibility:hidden}#chart-79695563-8484-4e98-a403-35cd441d8ce6 .showable.shown{visibility:visible}#chart-79695563-8484-4e98-a403-35cd441d8ce6 .gauge-background{fill:rgba(229,229,229,1);stroke:none}#chart-79695563-8484-4e98-a403-35cd441d8ce6 .bg-lines{stroke:rgba(249,249,249,1);stroke-width:2px}</style><script type=\"text/javascript\">window.pygal = window.pygal || {};window.pygal.config = window.pygal.config || {};window.pygal.config['79695563-8484-4e98-a403-35cd441d8ce6'] = {\"allow_interruptions\": false, \"box_mode\": \"extremes\", \"classes\": [\"pygal-chart\"], \"css\": [\"file://style.css\", \"file://graph.css\"], \"defs\": [], \"disable_xml_declaration\": true, \"dots_size\": 2.5, \"dynamic_print_values\": false, \"explicit_size\": false, \"fill\": false, \"force_uri_protocol\": \"https\", \"formatter\": null, \"half_pie\": false, \"height\": 600, \"include_x_axis\": false, \"inner_radius\": 0, \"interpolate\": null, \"interpolation_parameters\": {}, \"interpolation_precision\": 250, \"inverse_y_axis\": false, \"js\": [\"//kozea.github.io/pygal.js/2.0.x/pygal-tooltips.min.js\"], \"legend_at_bottom\": false, \"legend_at_bottom_columns\": null, \"legend_box_size\": 12, \"logarithmic\": false, \"margin\": 20, \"margin_bottom\": null, \"margin_left\": null, \"margin_right\": null, \"margin_top\": null, \"max_scale\": 16, \"min_scale\": 4, \"missing_value_fill_truncation\": \"x\", \"no_data_text\": \"No data\", \"no_prefix\": false, \"order_min\": null, \"pretty_print\": false, \"print_labels\": false, \"print_values\": false, \"print_values_position\": \"center\", \"print_zeroes\": true, \"range\": null, \"rounded_bars\": null, \"secondary_range\": null, \"show_dots\": true, \"show_legend\": true, \"show_minor_x_labels\": true, \"show_minor_y_labels\": true, \"show_only_major_dots\": false, \"show_x_guides\": false, \"show_x_labels\": true, \"show_y_guides\": true, \"show_y_labels\": true, \"spacing\": 10, \"stack_from_top\": false, \"strict\": false, \"stroke\": true, \"stroke_style\": null, \"style\": {\"background\": \"rgba(249, 249, 249, 1)\", \"ci_colors\": [], \"colors\": [\"#F44336\", \"#3F51B5\", \"#009688\", \"#FFC107\", \"#FF5722\", \"#9C27B0\", \"#03A9F4\", \"#8BC34A\", \"#FF9800\", \"#E91E63\", \"#2196F3\", \"#4CAF50\", \"#FFEB3B\", \"#673AB7\", \"#00BCD4\", \"#CDDC39\", \"#9E9E9E\", \"#607D8B\"], \"font_family\": \"Consolas, \\\"Liberation Mono\\\", Menlo, Courier, monospace\", \"foreground\": \"rgba(0, 0, 0, .87)\", \"foreground_strong\": \"rgba(0, 0, 0, 1)\", \"foreground_subtle\": \"rgba(0, 0, 0, .54)\", \"guide_stroke_dasharray\": \"4,4\", \"label_font_family\": \"Consolas, \\\"Liberation Mono\\\", Menlo, Courier, monospace\", \"label_font_size\": 10, \"legend_font_family\": \"Consolas, \\\"Liberation Mono\\\", Menlo, Courier, monospace\", \"legend_font_size\": 14, \"major_guide_stroke_dasharray\": \"6,6\", \"major_label_font_family\": \"Consolas, \\\"Liberation Mono\\\", Menlo, Courier, monospace\", \"major_label_font_size\": 10, \"no_data_font_family\": \"Consolas, \\\"Liberation Mono\\\", Menlo, Courier, monospace\", \"no_data_font_size\": 64, \"opacity\": \".7\", \"opacity_hover\": \".8\", \"plot_background\": \"rgba(255, 255, 255, 1)\", \"stroke_opacity\": \".8\", \"stroke_opacity_hover\": \".9\", \"title_font_family\": \"Consolas, \\\"Liberation Mono\\\", Menlo, Courier, monospace\", \"title_font_size\": 16, \"tooltip_font_family\": \"Consolas, \\\"Liberation Mono\\\", Menlo, Courier, monospace\", \"tooltip_font_size\": 14, \"transition\": \"150ms\", \"value_background\": \"rgba(229, 229, 229, 1)\", \"value_colors\": [], \"value_font_family\": \"Consolas, \\\"Liberation Mono\\\", Menlo, Courier, monospace\", \"value_font_size\": 16, \"value_label_font_family\": \"Consolas, \\\"Liberation Mono\\\", Menlo, Courier, monospace\", \"value_label_font_size\": 10}, \"title\": null, \"tooltip_border_radius\": 0, \"tooltip_fancy_mode\": true, \"truncate_label\": null, \"truncate_legend\": null, \"width\": 800, \"x_label_rotation\": 0, \"x_labels\": null, \"x_labels_major\": null, \"x_labels_major_count\": null, \"x_labels_major_every\": null, \"x_title\": null, \"xrange\": null, \"y_label_rotation\": 0, \"y_labels\": null, \"y_labels_major\": null, \"y_labels_major_count\": null, \"y_labels_major_every\": null, \"y_title\": null, \"zero\": 0, \"legends\": [\"Dist_timedelta\"]}</script><script type=\"text/javascript\" xlink:href=\"https://kozea.github.io/pygal.js/2.0.x/pygal-tooltips.min.js\"/></defs><title>Pygal</title><g class=\"graph histogram-graph vertical\"><rect class=\"background\" height=\"600\" width=\"800\" x=\"0\" y=\"0\"/><g class=\"plot\" transform=\"translate(193, 20)\"><rect class=\"background\" height=\"540\" width=\"586.4\" x=\"0\" y=\"0\"/><g class=\"axis y always_show\"><g class=\"guides\"><path class=\"axis major line\" d=\"M0.000000 529.615385 h586.400000\"/><text class=\"major\" x=\"-5\" y=\"533.1153846153846\">0</text><title>0</title></g><g class=\"guides\"><path class=\"guide line\" d=\"M0.000000 470.611888 h586.400000\"/><text class=\"\" x=\"-5\" y=\"474.1118881118881\">400</text><title>400</title></g><g class=\"guides\"><path class=\"guide line\" d=\"M0.000000 411.608392 h586.400000\"/><text class=\"\" x=\"-5\" y=\"415.1083916083916\">800</text><title>800</title></g><g class=\"guides\"><path class=\"guide line\" d=\"M0.000000 352.604895 h586.400000\"/><text class=\"\" x=\"-5\" y=\"356.10489510489515\">1200</text><title>1200</title></g><g class=\"guides\"><path class=\"guide line\" d=\"M0.000000 293.601399 h586.400000\"/><text class=\"\" x=\"-5\" y=\"297.1013986013986\">1600</text><title>1600</title></g><g class=\"guides\"><path class=\"guide line\" d=\"M0.000000 234.597902 h586.400000\"/><text class=\"\" x=\"-5\" y=\"238.09790209790214\">2000</text><title>2000</title></g><g class=\"guides\"><path class=\"guide line\" d=\"M0.000000 175.594406 h586.400000\"/><text class=\"\" x=\"-5\" y=\"179.0944055944056\">2400</text><title>2400</title></g><g class=\"guides\"><path class=\"guide line\" d=\"M0.000000 116.590909 h586.400000\"/><text class=\"\" x=\"-5\" y=\"120.09090909090912\">2800</text><title>2800</title></g><g class=\"guides\"><path class=\"guide line\" d=\"M0.000000 57.587413 h586.400000\"/><text class=\"\" x=\"-5\" y=\"61.08741258741259\">3200</text><title>3200</title></g></g><g class=\"axis x\"><path class=\"line\" d=\"M0.000000 0.000000 v540.000000\"/><g class=\"guides\"><path class=\"guide line\" d=\"M83.024981 0.000000 v540.000000\"/><text class=\"\" x=\"83.02498138099797\" y=\"555.0\">100</text><title>100</title></g><g class=\"guides\"><path class=\"guide line\" d=\"M161.012001 0.000000 v540.000000\"/><text class=\"\" x=\"161.01200127673155\" y=\"555.0\">200</text><title>200</title></g><g class=\"guides\"><path class=\"guide line\" d=\"M238.999021 0.000000 v540.000000\"/><text class=\"\" x=\"238.9990211724651\" y=\"555.0\">300</text><title>300</title></g><g class=\"guides\"><path class=\"guide line\" d=\"M316.986041 0.000000 v540.000000\"/><text class=\"\" x=\"316.9860410681987\" y=\"555.0\">400</text><title>400</title></g><g class=\"guides\"><path class=\"guide line\" d=\"M394.973061 0.000000 v540.000000\"/><text class=\"\" x=\"394.97306096393226\" y=\"555.0\">500</text><title>500</title></g><g class=\"guides\"><path class=\"guide line\" d=\"M472.960081 0.000000 v540.000000\"/><text class=\"\" x=\"472.96008085966594\" y=\"555.0\">600</text><title>600</title></g><g class=\"guides\"><path class=\"guide line\" d=\"M550.947101 0.000000 v540.000000\"/><text class=\"\" x=\"550.9471007553994\" y=\"555.0\">700</text><title>700</title></g></g><g class=\"series serie-0 color-0\"><g class=\"histbars\"><g class=\"histbar\"><rect class=\"rect reactive tooltip-trigger\" height=\"519.2307692307693\" rx=\"0\" ry=\"0\" width=\"56.384615384615365\" x=\"11.276923076923078\" y=\"10.384615384615358\"/><desc class=\"value\">3520: 8</desc><desc class=\"x centered\">39.46923076923076</desc><desc class=\"y centered\">270.0</desc></g><g class=\"histbar\"><rect class=\"rect reactive tooltip-trigger\" height=\"492.38417832167835\" rx=\"0\" ry=\"0\" width=\"56.38461538461539\" x=\"67.66153846153844\" y=\"37.23120629370629\"/><desc class=\"value\">3338: 80.3</desc><desc class=\"x centered\">95.85384615384613</desc><desc class=\"y centered\">283.4232954545455</desc></g><g class=\"histbar\"><rect class=\"rect reactive tooltip-trigger\" height=\"503.44733391608395\" rx=\"0\" ry=\"0\" width=\"56.38461538461536\" x=\"124.04615384615383\" y=\"26.168050699300693\"/><desc class=\"value\">3413: 152.6</desc><desc class=\"x centered\">152.2384615384615</desc><desc class=\"y centered\">277.89171765734267</desc></g><g class=\"histbar\"><rect class=\"rect reactive tooltip-trigger\" height=\"453.7368881118881\" rx=\"0\" ry=\"0\" width=\"56.38461538461539\" x=\"180.4307692307692\" y=\"75.87849650349654\"/><desc class=\"value\">3076: 224.9</desc><desc class=\"x centered\">208.6230769230769</desc><desc class=\"y centered\">302.7469405594406</desc></g><g class=\"histbar\"><rect class=\"rect reactive tooltip-trigger\" height=\"401.2237762237762\" rx=\"0\" ry=\"0\" width=\"56.38461538461536\" x=\"236.81538461538457\" y=\"128.39160839160843\"/><desc class=\"value\">2720: 297.2</desc><desc class=\"x centered\">265.00769230769225</desc><desc class=\"y centered\">329.00349650349654</desc></g><g class=\"histbar\"><rect class=\"rect reactive tooltip-trigger\" height=\"356.8236451048951\" rx=\"0\" ry=\"0\" width=\"56.3846153846153\" x=\"293.19999999999993\" y=\"172.79173951048955\"/><desc class=\"value\">2419: 369.5</desc><desc class=\"x centered\">321.39230769230755</desc><desc class=\"y centered\">351.20356206293707</desc></g><g class=\"histbar\"><rect class=\"rect reactive tooltip-trigger\" height=\"408.5992132867133\" rx=\"0\" ry=\"0\" width=\"56.38461538461547\" x=\"349.58461538461523\" y=\"121.01617132867136\"/><desc class=\"value\">2770: 441.8</desc><desc class=\"x centered\">377.77692307692297</desc><desc class=\"y centered\">325.315777972028</desc></g><g class=\"histbar\"><rect class=\"rect reactive tooltip-trigger\" height=\"399.0111451048951\" rx=\"0\" ry=\"0\" width=\"56.384615384615415\" x=\"405.9692307692307\" y=\"130.60423951048955\"/><desc class=\"value\">2705: 514.1</desc><desc class=\"x centered\">434.1615384615384</desc><desc class=\"y centered\">330.10981206293707</desc></g><g class=\"histbar\"><rect class=\"rect reactive tooltip-trigger\" height=\"393.5533216783217\" rx=\"0\" ry=\"0\" width=\"56.38461538461536\" x=\"462.3538461538461\" y=\"136.06206293706293\"/><desc class=\"value\">2668: 586.4</desc><desc class=\"x centered\">490.5461538461538</desc><desc class=\"y centered\">332.8387237762238</desc></g><g class=\"histbar\"><rect class=\"rect reactive tooltip-trigger\" height=\"457.86713286713285\" rx=\"0\" ry=\"0\" width=\"56.38461538461536\" x=\"518.7384615384615\" y=\"71.74825174825179\"/><desc class=\"value\">3104: 658.7</desc><desc class=\"x centered\">546.9307692307691</desc><desc class=\"y centered\">300.68181818181824</desc></g></g></g></g><g class=\"titles\"/><g class=\"plot overlay\" transform=\"translate(193, 20)\"><g class=\"series serie-0 color-0\"/></g><g class=\"plot text-overlay\" transform=\"translate(193, 20)\"><g class=\"series serie-0 color-0\"/></g><g class=\"plot tooltip-overlay\" transform=\"translate(193, 20)\"><g class=\"tooltip\" style=\"opacity: 0\" transform=\"translate(0 0)\"><rect class=\"tooltip-box\" height=\"0\" rx=\"0\" ry=\"0\" width=\"0\"/><g class=\"text\"/></g></g><g class=\"legends\" transform=\"translate(10, 30)\"><g class=\"legend reactive activate-serie\" id=\"activate-serie-0\"><rect class=\"color-0 reactive\" height=\"12\" width=\"12\" x=\"0.0\" y=\"1.0\"/><text x=\"17.0\" y=\"11.2\">Dist_timedelta</text></g></g><g class=\"legends\" transform=\"translate(790, 30)\"/></g></svg>"
      ],
      "text/plain": [
       "<pygal.graph.histogram.Histogram at 0x7f77228872b0>"
      ]
     },
     "execution_count": 19,
     "metadata": {},
     "output_type": "execute_result"
    }
   ],
   "source": [
    "plot_histogram(train,\"timedelta\")"
   ]
  },
  {
   "cell_type": "code",
   "execution_count": 20,
   "metadata": {},
   "outputs": [
    {
     "data": {
      "image/png": "[encoded data removed]",
      "image/svg+xml": [
       "<svg xmlns:xlink=\"http://www.w3.org/1999/xlink\" xmlns=\"http://www.w3.org/2000/svg\" id=\"chart-47dc44b7-32f9-4c28-8901-0b8ca6016d41\" class=\"pygal-chart\" viewBox=\"0 0 800 600\"><!--Generated with pygal 2.4.0 (lxml) ©Kozea 2012-2016 on 2019-08-27--><!--http://pygal.org--><!--http://github.com/Kozea/pygal--><defs><style type=\"text/css\">#chart-47dc44b7-32f9-4c28-8901-0b8ca6016d41{-webkit-user-select:none;-webkit-font-smoothing:antialiased;font-family:Consolas,\"Liberation Mono\",Menlo,Courier,monospace}#chart-47dc44b7-32f9-4c28-8901-0b8ca6016d41 .title{font-family:Consolas,\"Liberation Mono\",Menlo,Courier,monospace;font-size:16px}#chart-47dc44b7-32f9-4c28-8901-0b8ca6016d41 .legends .legend text{font-family:Consolas,\"Liberation Mono\",Menlo,Courier,monospace;font-size:14px}#chart-47dc44b7-32f9-4c28-8901-0b8ca6016d41 .axis text{font-family:Consolas,\"Liberation Mono\",Menlo,Courier,monospace;font-size:10px}#chart-47dc44b7-32f9-4c28-8901-0b8ca6016d41 .axis text.major{font-family:Consolas,\"Liberation Mono\",Menlo,Courier,monospace;font-size:10px}#chart-47dc44b7-32f9-4c28-8901-0b8ca6016d41 .text-overlay text.value{font-family:Consolas,\"Liberation Mono\",Menlo,Courier,monospace;font-size:16px}#chart-47dc44b7-32f9-4c28-8901-0b8ca6016d41 .text-overlay text.label{font-family:Consolas,\"Liberation Mono\",Menlo,Courier,monospace;font-size:10px}#chart-47dc44b7-32f9-4c28-8901-0b8ca6016d41 .tooltip{font-family:Consolas,\"Liberation Mono\",Menlo,Courier,monospace;font-size:14px}#chart-47dc44b7-32f9-4c28-8901-0b8ca6016d41 text.no_data{font-family:Consolas,\"Liberation Mono\",Menlo,Courier,monospace;font-size:64px}\n",
       "#chart-47dc44b7-32f9-4c28-8901-0b8ca6016d41{background-color:rgba(249,249,249,1)}#chart-47dc44b7-32f9-4c28-8901-0b8ca6016d41 path,#chart-47dc44b7-32f9-4c28-8901-0b8ca6016d41 line,#chart-47dc44b7-32f9-4c28-8901-0b8ca6016d41 rect,#chart-47dc44b7-32f9-4c28-8901-0b8ca6016d41 circle{-webkit-transition:150ms;-moz-transition:150ms;transition:150ms}#chart-47dc44b7-32f9-4c28-8901-0b8ca6016d41 .graph &gt; .background{fill:rgba(249,249,249,1)}#chart-47dc44b7-32f9-4c28-8901-0b8ca6016d41 .plot &gt; .background{fill:rgba(255,255,255,1)}#chart-47dc44b7-32f9-4c28-8901-0b8ca6016d41 .graph{fill:rgba(0,0,0,.87)}#chart-47dc44b7-32f9-4c28-8901-0b8ca6016d41 text.no_data{fill:rgba(0,0,0,1)}#chart-47dc44b7-32f9-4c28-8901-0b8ca6016d41 .title{fill:rgba(0,0,0,1)}#chart-47dc44b7-32f9-4c28-8901-0b8ca6016d41 .legends .legend text{fill:rgba(0,0,0,.87)}#chart-47dc44b7-32f9-4c28-8901-0b8ca6016d41 .legends .legend:hover text{fill:rgba(0,0,0,1)}#chart-47dc44b7-32f9-4c28-8901-0b8ca6016d41 .axis .line{stroke:rgba(0,0,0,1)}#chart-47dc44b7-32f9-4c28-8901-0b8ca6016d41 .axis .guide.line{stroke:rgba(0,0,0,.54)}#chart-47dc44b7-32f9-4c28-8901-0b8ca6016d41 .axis .major.line{stroke:rgba(0,0,0,.87)}#chart-47dc44b7-32f9-4c28-8901-0b8ca6016d41 .axis text.major{fill:rgba(0,0,0,1)}#chart-47dc44b7-32f9-4c28-8901-0b8ca6016d41 .axis.y .guides:hover .guide.line,#chart-47dc44b7-32f9-4c28-8901-0b8ca6016d41 .line-graph .axis.x .guides:hover .guide.line,#chart-47dc44b7-32f9-4c28-8901-0b8ca6016d41 .stackedline-graph .axis.x .guides:hover .guide.line,#chart-47dc44b7-32f9-4c28-8901-0b8ca6016d41 .xy-graph .axis.x .guides:hover .guide.line{stroke:rgba(0,0,0,1)}#chart-47dc44b7-32f9-4c28-8901-0b8ca6016d41 .axis .guides:hover text{fill:rgba(0,0,0,1)}#chart-47dc44b7-32f9-4c28-8901-0b8ca6016d41 .reactive{fill-opacity:.7;stroke-opacity:.8}#chart-47dc44b7-32f9-4c28-8901-0b8ca6016d41 .ci{stroke:rgba(0,0,0,.87)}#chart-47dc44b7-32f9-4c28-8901-0b8ca6016d41 .reactive.active,#chart-47dc44b7-32f9-4c28-8901-0b8ca6016d41 .active .reactive{fill-opacity:.8;stroke-opacity:.9;stroke-width:4}#chart-47dc44b7-32f9-4c28-8901-0b8ca6016d41 .ci .reactive.active{stroke-width:1.5}#chart-47dc44b7-32f9-4c28-8901-0b8ca6016d41 .series text{fill:rgba(0,0,0,1)}#chart-47dc44b7-32f9-4c28-8901-0b8ca6016d41 .tooltip rect{fill:rgba(255,255,255,1);stroke:rgba(0,0,0,1);-webkit-transition:opacity 150ms;-moz-transition:opacity 150ms;transition:opacity 150ms}#chart-47dc44b7-32f9-4c28-8901-0b8ca6016d41 .tooltip .label{fill:rgba(0,0,0,.87)}#chart-47dc44b7-32f9-4c28-8901-0b8ca6016d41 .tooltip .label{fill:rgba(0,0,0,.87)}#chart-47dc44b7-32f9-4c28-8901-0b8ca6016d41 .tooltip .legend{font-size:.8em;fill:rgba(0,0,0,.54)}#chart-47dc44b7-32f9-4c28-8901-0b8ca6016d41 .tooltip .x_label{font-size:.6em;fill:rgba(0,0,0,1)}#chart-47dc44b7-32f9-4c28-8901-0b8ca6016d41 .tooltip .xlink{font-size:.5em;text-decoration:underline}#chart-47dc44b7-32f9-4c28-8901-0b8ca6016d41 .tooltip .value{font-size:1.5em}#chart-47dc44b7-32f9-4c28-8901-0b8ca6016d41 .bound{font-size:.5em}#chart-47dc44b7-32f9-4c28-8901-0b8ca6016d41 .max-value{font-size:.75em;fill:rgba(0,0,0,.54)}#chart-47dc44b7-32f9-4c28-8901-0b8ca6016d41 .map-element{fill:rgba(255,255,255,1);stroke:rgba(0,0,0,.54) !important}#chart-47dc44b7-32f9-4c28-8901-0b8ca6016d41 .map-element .reactive{fill-opacity:inherit;stroke-opacity:inherit}#chart-47dc44b7-32f9-4c28-8901-0b8ca6016d41 .color-0,#chart-47dc44b7-32f9-4c28-8901-0b8ca6016d41 .color-0 a:visited{stroke:#F44336;fill:#F44336}#chart-47dc44b7-32f9-4c28-8901-0b8ca6016d41 .text-overlay .color-0 text{fill:black}\n",
       "#chart-47dc44b7-32f9-4c28-8901-0b8ca6016d41 text.no_data{text-anchor:middle}#chart-47dc44b7-32f9-4c28-8901-0b8ca6016d41 .guide.line{fill:none}#chart-47dc44b7-32f9-4c28-8901-0b8ca6016d41 .centered{text-anchor:middle}#chart-47dc44b7-32f9-4c28-8901-0b8ca6016d41 .title{text-anchor:middle}#chart-47dc44b7-32f9-4c28-8901-0b8ca6016d41 .legends .legend text{fill-opacity:1}#chart-47dc44b7-32f9-4c28-8901-0b8ca6016d41 .axis.x text{text-anchor:middle}#chart-47dc44b7-32f9-4c28-8901-0b8ca6016d41 .axis.x:not(.web) text[transform]{text-anchor:start}#chart-47dc44b7-32f9-4c28-8901-0b8ca6016d41 .axis.x:not(.web) text[transform].backwards{text-anchor:end}#chart-47dc44b7-32f9-4c28-8901-0b8ca6016d41 .axis.y text{text-anchor:end}#chart-47dc44b7-32f9-4c28-8901-0b8ca6016d41 .axis.y text[transform].backwards{text-anchor:start}#chart-47dc44b7-32f9-4c28-8901-0b8ca6016d41 .axis.y2 text{text-anchor:start}#chart-47dc44b7-32f9-4c28-8901-0b8ca6016d41 .axis.y2 text[transform].backwards{text-anchor:end}#chart-47dc44b7-32f9-4c28-8901-0b8ca6016d41 .axis .guide.line{stroke-dasharray:4,4}#chart-47dc44b7-32f9-4c28-8901-0b8ca6016d41 .axis .major.guide.line{stroke-dasharray:6,6}#chart-47dc44b7-32f9-4c28-8901-0b8ca6016d41 .horizontal .axis.y .guide.line,#chart-47dc44b7-32f9-4c28-8901-0b8ca6016d41 .horizontal .axis.y2 .guide.line,#chart-47dc44b7-32f9-4c28-8901-0b8ca6016d41 .vertical .axis.x .guide.line{opacity:0}#chart-47dc44b7-32f9-4c28-8901-0b8ca6016d41 .horizontal .axis.always_show .guide.line,#chart-47dc44b7-32f9-4c28-8901-0b8ca6016d41 .vertical .axis.always_show .guide.line{opacity:1 !important}#chart-47dc44b7-32f9-4c28-8901-0b8ca6016d41 .axis.y .guides:hover .guide.line,#chart-47dc44b7-32f9-4c28-8901-0b8ca6016d41 .axis.y2 .guides:hover .guide.line,#chart-47dc44b7-32f9-4c28-8901-0b8ca6016d41 .axis.x .guides:hover .guide.line{opacity:1}#chart-47dc44b7-32f9-4c28-8901-0b8ca6016d41 .axis .guides:hover text{opacity:1}#chart-47dc44b7-32f9-4c28-8901-0b8ca6016d41 .nofill{fill:none}#chart-47dc44b7-32f9-4c28-8901-0b8ca6016d41 .subtle-fill{fill-opacity:.2}#chart-47dc44b7-32f9-4c28-8901-0b8ca6016d41 .dot{stroke-width:1px;fill-opacity:1}#chart-47dc44b7-32f9-4c28-8901-0b8ca6016d41 .dot.active{stroke-width:5px}#chart-47dc44b7-32f9-4c28-8901-0b8ca6016d41 .dot.negative{fill:transparent}#chart-47dc44b7-32f9-4c28-8901-0b8ca6016d41 text,#chart-47dc44b7-32f9-4c28-8901-0b8ca6016d41 tspan{stroke:none !important}#chart-47dc44b7-32f9-4c28-8901-0b8ca6016d41 .series text.active{opacity:1}#chart-47dc44b7-32f9-4c28-8901-0b8ca6016d41 .tooltip rect{fill-opacity:.95;stroke-width:.5}#chart-47dc44b7-32f9-4c28-8901-0b8ca6016d41 .tooltip text{fill-opacity:1}#chart-47dc44b7-32f9-4c28-8901-0b8ca6016d41 .showable{visibility:hidden}#chart-47dc44b7-32f9-4c28-8901-0b8ca6016d41 .showable.shown{visibility:visible}#chart-47dc44b7-32f9-4c28-8901-0b8ca6016d41 .gauge-background{fill:rgba(229,229,229,1);stroke:none}#chart-47dc44b7-32f9-4c28-8901-0b8ca6016d41 .bg-lines{stroke:rgba(249,249,249,1);stroke-width:2px}</style><script type=\"text/javascript\">window.pygal = window.pygal || {};window.pygal.config = window.pygal.config || {};window.pygal.config['47dc44b7-32f9-4c28-8901-0b8ca6016d41'] = {\"allow_interruptions\": false, \"box_mode\": \"extremes\", \"classes\": [\"pygal-chart\"], \"css\": [\"file://style.css\", \"file://graph.css\"], \"defs\": [], \"disable_xml_declaration\": true, \"dots_size\": 2.5, \"dynamic_print_values\": false, \"explicit_size\": false, \"fill\": false, \"force_uri_protocol\": \"https\", \"formatter\": null, \"half_pie\": false, \"height\": 600, \"include_x_axis\": false, \"inner_radius\": 0, \"interpolate\": null, \"interpolation_parameters\": {}, \"interpolation_precision\": 250, \"inverse_y_axis\": false, \"js\": [\"//kozea.github.io/pygal.js/2.0.x/pygal-tooltips.min.js\"], \"legend_at_bottom\": false, \"legend_at_bottom_columns\": null, \"legend_box_size\": 12, \"logarithmic\": false, \"margin\": 20, \"margin_bottom\": null, \"margin_left\": null, \"margin_right\": null, \"margin_top\": null, \"max_scale\": 16, \"min_scale\": 4, \"missing_value_fill_truncation\": \"x\", \"no_data_text\": \"No data\", \"no_prefix\": false, \"order_min\": null, \"pretty_print\": false, \"print_labels\": false, \"print_values\": false, \"print_values_position\": \"center\", \"print_zeroes\": true, \"range\": null, \"rounded_bars\": null, \"secondary_range\": null, \"show_dots\": true, \"show_legend\": true, \"show_minor_x_labels\": true, \"show_minor_y_labels\": true, \"show_only_major_dots\": false, \"show_x_guides\": false, \"show_x_labels\": true, \"show_y_guides\": true, \"show_y_labels\": true, \"spacing\": 10, \"stack_from_top\": false, \"strict\": false, \"stroke\": true, \"stroke_style\": null, \"style\": {\"background\": \"rgba(249, 249, 249, 1)\", \"ci_colors\": [], \"colors\": [\"#F44336\", \"#3F51B5\", \"#009688\", \"#FFC107\", \"#FF5722\", \"#9C27B0\", \"#03A9F4\", \"#8BC34A\", \"#FF9800\", \"#E91E63\", \"#2196F3\", \"#4CAF50\", \"#FFEB3B\", \"#673AB7\", \"#00BCD4\", \"#CDDC39\", \"#9E9E9E\", \"#607D8B\"], \"font_family\": \"Consolas, \\\"Liberation Mono\\\", Menlo, Courier, monospace\", \"foreground\": \"rgba(0, 0, 0, .87)\", \"foreground_strong\": \"rgba(0, 0, 0, 1)\", \"foreground_subtle\": \"rgba(0, 0, 0, .54)\", \"guide_stroke_dasharray\": \"4,4\", \"label_font_family\": \"Consolas, \\\"Liberation Mono\\\", Menlo, Courier, monospace\", \"label_font_size\": 10, \"legend_font_family\": \"Consolas, \\\"Liberation Mono\\\", Menlo, Courier, monospace\", \"legend_font_size\": 14, \"major_guide_stroke_dasharray\": \"6,6\", \"major_label_font_family\": \"Consolas, \\\"Liberation Mono\\\", Menlo, Courier, monospace\", \"major_label_font_size\": 10, \"no_data_font_family\": \"Consolas, \\\"Liberation Mono\\\", Menlo, Courier, monospace\", \"no_data_font_size\": 64, \"opacity\": \".7\", \"opacity_hover\": \".8\", \"plot_background\": \"rgba(255, 255, 255, 1)\", \"stroke_opacity\": \".8\", \"stroke_opacity_hover\": \".9\", \"title_font_family\": \"Consolas, \\\"Liberation Mono\\\", Menlo, Courier, monospace\", \"title_font_size\": 16, \"tooltip_font_family\": \"Consolas, \\\"Liberation Mono\\\", Menlo, Courier, monospace\", \"tooltip_font_size\": 14, \"transition\": \"150ms\", \"value_background\": \"rgba(229, 229, 229, 1)\", \"value_colors\": [], \"value_font_family\": \"Consolas, \\\"Liberation Mono\\\", Menlo, Courier, monospace\", \"value_font_size\": 16, \"value_label_font_family\": \"Consolas, \\\"Liberation Mono\\\", Menlo, Courier, monospace\", \"value_label_font_size\": 10}, \"title\": null, \"tooltip_border_radius\": 0, \"tooltip_fancy_mode\": true, \"truncate_label\": null, \"truncate_legend\": null, \"width\": 800, \"x_label_rotation\": 0, \"x_labels\": null, \"x_labels_major\": null, \"x_labels_major_count\": null, \"x_labels_major_every\": null, \"x_title\": null, \"xrange\": null, \"y_label_rotation\": 0, \"y_labels\": null, \"y_labels_major\": null, \"y_labels_major_count\": null, \"y_labels_major_every\": null, \"y_title\": null, \"zero\": 0, \"legends\": [\"Dist_timedelta\"]}</script><script type=\"text/javascript\" xlink:href=\"https://kozea.github.io/pygal.js/2.0.x/pygal-tooltips.min.js\"/></defs><title>Pygal</title><g class=\"graph histogram-graph vertical\"><rect class=\"background\" height=\"600\" width=\"800\" x=\"0\" y=\"0\"/><g class=\"plot\" transform=\"translate(193, 20)\"><rect class=\"background\" height=\"540\" width=\"586.4\" x=\"0\" y=\"0\"/><g class=\"axis y always_show\"><g class=\"guides\"><path class=\"axis major line\" d=\"M0.000000 529.615385 h586.400000\"/><text class=\"major\" x=\"-5\" y=\"533.1153846153846\">0</text><title>0</title></g><g class=\"guides\"><path class=\"guide line\" d=\"M0.000000 483.948650 h586.400000\"/><text class=\"\" x=\"-5\" y=\"487.4486502942967\">100</text><title>100</title></g><g class=\"guides\"><path class=\"guide line\" d=\"M0.000000 438.281916 h586.400000\"/><text class=\"\" x=\"-5\" y=\"441.7819159732088\">200</text><title>200</title></g><g class=\"guides\"><path class=\"guide line\" d=\"M0.000000 392.615182 h586.400000\"/><text class=\"\" x=\"-5\" y=\"396.11518165212095\">300</text><title>300</title></g><g class=\"guides\"><path class=\"guide line\" d=\"M0.000000 346.948447 h586.400000\"/><text class=\"\" x=\"-5\" y=\"350.4484473310331\">400</text><title>400</title></g><g class=\"guides\"><path class=\"major guide line\" d=\"M0.000000 301.281713 h586.400000\"/><text class=\"major\" x=\"-5\" y=\"304.78171300994524\">500</text><title>500</title></g><g class=\"guides\"><path class=\"guide line\" d=\"M0.000000 255.614979 h586.400000\"/><text class=\"\" x=\"-5\" y=\"259.1149786888573\">600</text><title>600</title></g><g class=\"guides\"><path class=\"guide line\" d=\"M0.000000 209.948244 h586.400000\"/><text class=\"\" x=\"-5\" y=\"213.44824436776946\">700</text><title>700</title></g><g class=\"guides\"><path class=\"guide line\" d=\"M0.000000 164.281510 h586.400000\"/><text class=\"\" x=\"-5\" y=\"167.7815100466816\">800</text><title>800</title></g><g class=\"guides\"><path class=\"guide line\" d=\"M0.000000 118.614776 h586.400000\"/><text class=\"\" x=\"-5\" y=\"122.11477572559369\">900</text><title>900</title></g><g class=\"guides\"><path class=\"major guide line\" d=\"M0.000000 72.948041 h586.400000\"/><text class=\"major\" x=\"-5\" y=\"76.44804140450583\">1000</text><title>1000</title></g><g class=\"guides\"><path class=\"guide line\" d=\"M0.000000 27.281307 h586.400000\"/><text class=\"\" x=\"-5\" y=\"30.781307083417914\">1100</text><title>1100</title></g></g><g class=\"axis x\"><path class=\"line\" d=\"M0.000000 0.000000 v540.000000\"/><g class=\"guides\"><path class=\"guide line\" d=\"M83.024981 0.000000 v540.000000\"/><text class=\"\" x=\"83.02498138099797\" y=\"555.0\">100</text><title>100</title></g><g class=\"guides\"><path class=\"guide line\" d=\"M161.012001 0.000000 v540.000000\"/><text class=\"\" x=\"161.01200127673155\" y=\"555.0\">200</text><title>200</title></g><g class=\"guides\"><path class=\"guide line\" d=\"M238.999021 0.000000 v540.000000\"/><text class=\"\" x=\"238.9990211724651\" y=\"555.0\">300</text><title>300</title></g><g class=\"guides\"><path class=\"guide line\" d=\"M316.986041 0.000000 v540.000000\"/><text class=\"\" x=\"316.9860410681987\" y=\"555.0\">400</text><title>400</title></g><g class=\"guides\"><path class=\"guide line\" d=\"M394.973061 0.000000 v540.000000\"/><text class=\"\" x=\"394.97306096393226\" y=\"555.0\">500</text><title>500</title></g><g class=\"guides\"><path class=\"guide line\" d=\"M472.960081 0.000000 v540.000000\"/><text class=\"\" x=\"472.96008085966594\" y=\"555.0\">600</text><title>600</title></g><g class=\"guides\"><path class=\"guide line\" d=\"M550.947101 0.000000 v540.000000\"/><text class=\"\" x=\"550.9471007553994\" y=\"555.0\">700</text><title>700</title></g></g><g class=\"series serie-0 color-0\"><g class=\"histbars\"><g class=\"histbar\"><rect class=\"rect reactive tooltip-trigger\" height=\"517.4040998579258\" rx=\"0\" ry=\"0\" width=\"56.384615384615365\" x=\"11.276923076923078\" y=\"12.211284757458884\"/><desc class=\"value\">1133: 8</desc><desc class=\"x centered\">39.46923076923076</desc><desc class=\"y centered\">270.91333468642176</desc></g><g class=\"histbar\"><rect class=\"rect reactive tooltip-trigger\" height=\"511.9240917393952\" rx=\"0\" ry=\"0\" width=\"56.38461538461539\" x=\"67.66153846153844\" y=\"17.69129287598946\"/><desc class=\"value\">1121: 80.3</desc><desc class=\"x centered\">95.85384615384613</desc><desc class=\"y centered\">273.65333874568705</desc></g><g class=\"histbar\"><rect class=\"rect reactive tooltip-trigger\" height=\"519.2307692307693\" rx=\"0\" ry=\"0\" width=\"56.38461538461536\" x=\"124.04615384615383\" y=\"10.384615384615358\"/><desc class=\"value\">1137: 152.6</desc><desc class=\"x centered\">152.2384615384615</desc><desc class=\"y centered\">270.0</desc></g><g class=\"histbar\"><rect class=\"rect reactive tooltip-trigger\" height=\"445.25065963060683\" rx=\"0\" ry=\"0\" width=\"56.38461538461539\" x=\"180.4307692307692\" y=\"84.36472498477781\"/><desc class=\"value\">975: 224.9</desc><desc class=\"x centered\">208.6230769230769</desc><desc class=\"y centered\">306.9900548000812</desc></g><g class=\"histbar\"><rect class=\"rect reactive tooltip-trigger\" height=\"412.8272782626345\" rx=\"0\" ry=\"0\" width=\"56.38461538461536\" x=\"236.81538461538457\" y=\"116.78810635275016\"/><desc class=\"value\">904: 297.2</desc><desc class=\"x centered\">265.00769230769225</desc><desc class=\"y centered\">323.2017454840674</desc></g><g class=\"histbar\"><rect class=\"rect reactive tooltip-trigger\" height=\"379.4905622082403\" rx=\"0\" ry=\"0\" width=\"56.3846153846153\" x=\"293.19999999999993\" y=\"150.12482240714434\"/><desc class=\"value\">831: 369.5</desc><desc class=\"x centered\">321.39230769230755</desc><desc class=\"y centered\">339.87010351126446</desc></g><g class=\"histbar\"><rect class=\"rect reactive tooltip-trigger\" height=\"442.5106555713416\" rx=\"0\" ry=\"0\" width=\"56.38461538461547\" x=\"349.58461538461523\" y=\"87.10472904404304\"/><desc class=\"value\">969: 441.8</desc><desc class=\"x centered\">377.77692307692297</desc><desc class=\"y centered\">308.3600568297138</desc></g><g class=\"histbar\"><rect class=\"rect reactive tooltip-trigger\" height=\"403.6939313984169\" rx=\"0\" ry=\"0\" width=\"56.384615384615415\" x=\"405.9692307692307\" y=\"125.92145321696773\"/><desc class=\"value\">884: 514.1</desc><desc class=\"x centered\">434.1615384615384</desc><desc class=\"y centered\">327.7684189161762</desc></g><g class=\"histbar\"><rect class=\"rect reactive tooltip-trigger\" height=\"421.0472904404303\" rx=\"0\" ry=\"0\" width=\"56.38461538461536\" x=\"462.3538461538461\" y=\"108.56809417495435\"/><desc class=\"value\">922: 586.4</desc><desc class=\"x centered\">490.5461538461538</desc><desc class=\"y centered\">319.0917393951695</desc></g><g class=\"histbar\"><rect class=\"rect reactive tooltip-trigger\" height=\"472.6507002232596\" rx=\"0\" ry=\"0\" width=\"56.38461538461536\" x=\"518.7384615384615\" y=\"56.96468439212504\"/><desc class=\"value\">1035: 658.7</desc><desc class=\"x centered\">546.9307692307691</desc><desc class=\"y centered\">293.29003450375484</desc></g></g></g></g><g class=\"titles\"/><g class=\"plot overlay\" transform=\"translate(193, 20)\"><g class=\"series serie-0 color-0\"/></g><g class=\"plot text-overlay\" transform=\"translate(193, 20)\"><g class=\"series serie-0 color-0\"/></g><g class=\"plot tooltip-overlay\" transform=\"translate(193, 20)\"><g class=\"tooltip\" style=\"opacity: 0\" transform=\"translate(0 0)\"><rect class=\"tooltip-box\" height=\"0\" rx=\"0\" ry=\"0\" width=\"0\"/><g class=\"text\"/></g></g><g class=\"legends\" transform=\"translate(10, 30)\"><g class=\"legend reactive activate-serie\" id=\"activate-serie-0\"><rect class=\"color-0 reactive\" height=\"12\" width=\"12\" x=\"0.0\" y=\"1.0\"/><text x=\"17.0\" y=\"11.2\">Dist_timedelta</text></g></g><g class=\"legends\" transform=\"translate(790, 30)\"/></g></svg>"
      ],
      "text/plain": [
       "<pygal.graph.histogram.Histogram at 0x7f77226a2048>"
      ]
     },
     "execution_count": 20,
     "metadata": {},
     "output_type": "execute_result"
    }
   ],
   "source": [
    "plot_histogram(test,\"timedelta\")"
   ]
  },
  {
   "cell_type": "code",
   "execution_count": 21,
   "metadata": {},
   "outputs": [
    {
     "data": {
      "image/png": "[encoded data removed]",
      "image/svg+xml": [
       "<svg xmlns:xlink=\"http://www.w3.org/1999/xlink\" xmlns=\"http://www.w3.org/2000/svg\" id=\"chart-fda3c1f1-b3da-46bc-b87a-f63bfb090415\" class=\"pygal-chart\" viewBox=\"0 0 800 600\"><!--Generated with pygal 2.4.0 (lxml) ©Kozea 2012-2016 on 2019-08-27--><!--http://pygal.org--><!--http://github.com/Kozea/pygal--><defs><style type=\"text/css\">#chart-fda3c1f1-b3da-46bc-b87a-f63bfb090415{-webkit-user-select:none;-webkit-font-smoothing:antialiased;font-family:Consolas,\"Liberation Mono\",Menlo,Courier,monospace}#chart-fda3c1f1-b3da-46bc-b87a-f63bfb090415 .title{font-family:Consolas,\"Liberation Mono\",Menlo,Courier,monospace;font-size:16px}#chart-fda3c1f1-b3da-46bc-b87a-f63bfb090415 .legends .legend text{font-family:Consolas,\"Liberation Mono\",Menlo,Courier,monospace;font-size:14px}#chart-fda3c1f1-b3da-46bc-b87a-f63bfb090415 .axis text{font-family:Consolas,\"Liberation Mono\",Menlo,Courier,monospace;font-size:10px}#chart-fda3c1f1-b3da-46bc-b87a-f63bfb090415 .axis text.major{font-family:Consolas,\"Liberation Mono\",Menlo,Courier,monospace;font-size:10px}#chart-fda3c1f1-b3da-46bc-b87a-f63bfb090415 .text-overlay text.value{font-family:Consolas,\"Liberation Mono\",Menlo,Courier,monospace;font-size:16px}#chart-fda3c1f1-b3da-46bc-b87a-f63bfb090415 .text-overlay text.label{font-family:Consolas,\"Liberation Mono\",Menlo,Courier,monospace;font-size:10px}#chart-fda3c1f1-b3da-46bc-b87a-f63bfb090415 .tooltip{font-family:Consolas,\"Liberation Mono\",Menlo,Courier,monospace;font-size:14px}#chart-fda3c1f1-b3da-46bc-b87a-f63bfb090415 text.no_data{font-family:Consolas,\"Liberation Mono\",Menlo,Courier,monospace;font-size:64px}\n",
       "#chart-fda3c1f1-b3da-46bc-b87a-f63bfb090415{background-color:rgba(249,249,249,1)}#chart-fda3c1f1-b3da-46bc-b87a-f63bfb090415 path,#chart-fda3c1f1-b3da-46bc-b87a-f63bfb090415 line,#chart-fda3c1f1-b3da-46bc-b87a-f63bfb090415 rect,#chart-fda3c1f1-b3da-46bc-b87a-f63bfb090415 circle{-webkit-transition:150ms;-moz-transition:150ms;transition:150ms}#chart-fda3c1f1-b3da-46bc-b87a-f63bfb090415 .graph &gt; .background{fill:rgba(249,249,249,1)}#chart-fda3c1f1-b3da-46bc-b87a-f63bfb090415 .plot &gt; .background{fill:rgba(255,255,255,1)}#chart-fda3c1f1-b3da-46bc-b87a-f63bfb090415 .graph{fill:rgba(0,0,0,.87)}#chart-fda3c1f1-b3da-46bc-b87a-f63bfb090415 text.no_data{fill:rgba(0,0,0,1)}#chart-fda3c1f1-b3da-46bc-b87a-f63bfb090415 .title{fill:rgba(0,0,0,1)}#chart-fda3c1f1-b3da-46bc-b87a-f63bfb090415 .legends .legend text{fill:rgba(0,0,0,.87)}#chart-fda3c1f1-b3da-46bc-b87a-f63bfb090415 .legends .legend:hover text{fill:rgba(0,0,0,1)}#chart-fda3c1f1-b3da-46bc-b87a-f63bfb090415 .axis .line{stroke:rgba(0,0,0,1)}#chart-fda3c1f1-b3da-46bc-b87a-f63bfb090415 .axis .guide.line{stroke:rgba(0,0,0,.54)}#chart-fda3c1f1-b3da-46bc-b87a-f63bfb090415 .axis .major.line{stroke:rgba(0,0,0,.87)}#chart-fda3c1f1-b3da-46bc-b87a-f63bfb090415 .axis text.major{fill:rgba(0,0,0,1)}#chart-fda3c1f1-b3da-46bc-b87a-f63bfb090415 .axis.y .guides:hover .guide.line,#chart-fda3c1f1-b3da-46bc-b87a-f63bfb090415 .line-graph .axis.x .guides:hover .guide.line,#chart-fda3c1f1-b3da-46bc-b87a-f63bfb090415 .stackedline-graph .axis.x .guides:hover .guide.line,#chart-fda3c1f1-b3da-46bc-b87a-f63bfb090415 .xy-graph .axis.x .guides:hover .guide.line{stroke:rgba(0,0,0,1)}#chart-fda3c1f1-b3da-46bc-b87a-f63bfb090415 .axis .guides:hover text{fill:rgba(0,0,0,1)}#chart-fda3c1f1-b3da-46bc-b87a-f63bfb090415 .reactive{fill-opacity:.7;stroke-opacity:.8}#chart-fda3c1f1-b3da-46bc-b87a-f63bfb090415 .ci{stroke:rgba(0,0,0,.87)}#chart-fda3c1f1-b3da-46bc-b87a-f63bfb090415 .reactive.active,#chart-fda3c1f1-b3da-46bc-b87a-f63bfb090415 .active .reactive{fill-opacity:.8;stroke-opacity:.9;stroke-width:4}#chart-fda3c1f1-b3da-46bc-b87a-f63bfb090415 .ci .reactive.active{stroke-width:1.5}#chart-fda3c1f1-b3da-46bc-b87a-f63bfb090415 .series text{fill:rgba(0,0,0,1)}#chart-fda3c1f1-b3da-46bc-b87a-f63bfb090415 .tooltip rect{fill:rgba(255,255,255,1);stroke:rgba(0,0,0,1);-webkit-transition:opacity 150ms;-moz-transition:opacity 150ms;transition:opacity 150ms}#chart-fda3c1f1-b3da-46bc-b87a-f63bfb090415 .tooltip .label{fill:rgba(0,0,0,.87)}#chart-fda3c1f1-b3da-46bc-b87a-f63bfb090415 .tooltip .label{fill:rgba(0,0,0,.87)}#chart-fda3c1f1-b3da-46bc-b87a-f63bfb090415 .tooltip .legend{font-size:.8em;fill:rgba(0,0,0,.54)}#chart-fda3c1f1-b3da-46bc-b87a-f63bfb090415 .tooltip .x_label{font-size:.6em;fill:rgba(0,0,0,1)}#chart-fda3c1f1-b3da-46bc-b87a-f63bfb090415 .tooltip .xlink{font-size:.5em;text-decoration:underline}#chart-fda3c1f1-b3da-46bc-b87a-f63bfb090415 .tooltip .value{font-size:1.5em}#chart-fda3c1f1-b3da-46bc-b87a-f63bfb090415 .bound{font-size:.5em}#chart-fda3c1f1-b3da-46bc-b87a-f63bfb090415 .max-value{font-size:.75em;fill:rgba(0,0,0,.54)}#chart-fda3c1f1-b3da-46bc-b87a-f63bfb090415 .map-element{fill:rgba(255,255,255,1);stroke:rgba(0,0,0,.54) !important}#chart-fda3c1f1-b3da-46bc-b87a-f63bfb090415 .map-element .reactive{fill-opacity:inherit;stroke-opacity:inherit}#chart-fda3c1f1-b3da-46bc-b87a-f63bfb090415 .color-0,#chart-fda3c1f1-b3da-46bc-b87a-f63bfb090415 .color-0 a:visited{stroke:#F44336;fill:#F44336}#chart-fda3c1f1-b3da-46bc-b87a-f63bfb090415 .text-overlay .color-0 text{fill:black}\n",
       "#chart-fda3c1f1-b3da-46bc-b87a-f63bfb090415 text.no_data{text-anchor:middle}#chart-fda3c1f1-b3da-46bc-b87a-f63bfb090415 .guide.line{fill:none}#chart-fda3c1f1-b3da-46bc-b87a-f63bfb090415 .centered{text-anchor:middle}#chart-fda3c1f1-b3da-46bc-b87a-f63bfb090415 .title{text-anchor:middle}#chart-fda3c1f1-b3da-46bc-b87a-f63bfb090415 .legends .legend text{fill-opacity:1}#chart-fda3c1f1-b3da-46bc-b87a-f63bfb090415 .axis.x text{text-anchor:middle}#chart-fda3c1f1-b3da-46bc-b87a-f63bfb090415 .axis.x:not(.web) text[transform]{text-anchor:start}#chart-fda3c1f1-b3da-46bc-b87a-f63bfb090415 .axis.x:not(.web) text[transform].backwards{text-anchor:end}#chart-fda3c1f1-b3da-46bc-b87a-f63bfb090415 .axis.y text{text-anchor:end}#chart-fda3c1f1-b3da-46bc-b87a-f63bfb090415 .axis.y text[transform].backwards{text-anchor:start}#chart-fda3c1f1-b3da-46bc-b87a-f63bfb090415 .axis.y2 text{text-anchor:start}#chart-fda3c1f1-b3da-46bc-b87a-f63bfb090415 .axis.y2 text[transform].backwards{text-anchor:end}#chart-fda3c1f1-b3da-46bc-b87a-f63bfb090415 .axis .guide.line{stroke-dasharray:4,4}#chart-fda3c1f1-b3da-46bc-b87a-f63bfb090415 .axis .major.guide.line{stroke-dasharray:6,6}#chart-fda3c1f1-b3da-46bc-b87a-f63bfb090415 .horizontal .axis.y .guide.line,#chart-fda3c1f1-b3da-46bc-b87a-f63bfb090415 .horizontal .axis.y2 .guide.line,#chart-fda3c1f1-b3da-46bc-b87a-f63bfb090415 .vertical .axis.x .guide.line{opacity:0}#chart-fda3c1f1-b3da-46bc-b87a-f63bfb090415 .horizontal .axis.always_show .guide.line,#chart-fda3c1f1-b3da-46bc-b87a-f63bfb090415 .vertical .axis.always_show .guide.line{opacity:1 !important}#chart-fda3c1f1-b3da-46bc-b87a-f63bfb090415 .axis.y .guides:hover .guide.line,#chart-fda3c1f1-b3da-46bc-b87a-f63bfb090415 .axis.y2 .guides:hover .guide.line,#chart-fda3c1f1-b3da-46bc-b87a-f63bfb090415 .axis.x .guides:hover .guide.line{opacity:1}#chart-fda3c1f1-b3da-46bc-b87a-f63bfb090415 .axis .guides:hover text{opacity:1}#chart-fda3c1f1-b3da-46bc-b87a-f63bfb090415 .nofill{fill:none}#chart-fda3c1f1-b3da-46bc-b87a-f63bfb090415 .subtle-fill{fill-opacity:.2}#chart-fda3c1f1-b3da-46bc-b87a-f63bfb090415 .dot{stroke-width:1px;fill-opacity:1}#chart-fda3c1f1-b3da-46bc-b87a-f63bfb090415 .dot.active{stroke-width:5px}#chart-fda3c1f1-b3da-46bc-b87a-f63bfb090415 .dot.negative{fill:transparent}#chart-fda3c1f1-b3da-46bc-b87a-f63bfb090415 text,#chart-fda3c1f1-b3da-46bc-b87a-f63bfb090415 tspan{stroke:none !important}#chart-fda3c1f1-b3da-46bc-b87a-f63bfb090415 .series text.active{opacity:1}#chart-fda3c1f1-b3da-46bc-b87a-f63bfb090415 .tooltip rect{fill-opacity:.95;stroke-width:.5}#chart-fda3c1f1-b3da-46bc-b87a-f63bfb090415 .tooltip text{fill-opacity:1}#chart-fda3c1f1-b3da-46bc-b87a-f63bfb090415 .showable{visibility:hidden}#chart-fda3c1f1-b3da-46bc-b87a-f63bfb090415 .showable.shown{visibility:visible}#chart-fda3c1f1-b3da-46bc-b87a-f63bfb090415 .gauge-background{fill:rgba(229,229,229,1);stroke:none}#chart-fda3c1f1-b3da-46bc-b87a-f63bfb090415 .bg-lines{stroke:rgba(249,249,249,1);stroke-width:2px}</style><script type=\"text/javascript\">window.pygal = window.pygal || {};window.pygal.config = window.pygal.config || {};window.pygal.config['fda3c1f1-b3da-46bc-b87a-f63bfb090415'] = {\"allow_interruptions\": false, \"box_mode\": \"extremes\", \"classes\": [\"pygal-chart\"], \"css\": [\"file://style.css\", \"file://graph.css\"], \"defs\": [], \"disable_xml_declaration\": true, \"dots_size\": 2.5, \"dynamic_print_values\": false, \"explicit_size\": false, \"fill\": false, \"force_uri_protocol\": \"https\", \"formatter\": null, \"half_pie\": false, \"height\": 600, \"include_x_axis\": false, \"inner_radius\": 0, \"interpolate\": null, \"interpolation_parameters\": {}, \"interpolation_precision\": 250, \"inverse_y_axis\": false, \"js\": [\"//kozea.github.io/pygal.js/2.0.x/pygal-tooltips.min.js\"], \"legend_at_bottom\": false, \"legend_at_bottom_columns\": null, \"legend_box_size\": 12, \"logarithmic\": false, \"margin\": 20, \"margin_bottom\": null, \"margin_left\": null, \"margin_right\": null, \"margin_top\": null, \"max_scale\": 16, \"min_scale\": 4, \"missing_value_fill_truncation\": \"x\", \"no_data_text\": \"No data\", \"no_prefix\": false, \"order_min\": null, \"pretty_print\": false, \"print_labels\": false, \"print_values\": false, \"print_values_position\": \"center\", \"print_zeroes\": true, \"range\": null, \"rounded_bars\": null, \"secondary_range\": null, \"show_dots\": true, \"show_legend\": true, \"show_minor_x_labels\": true, \"show_minor_y_labels\": true, \"show_only_major_dots\": false, \"show_x_guides\": false, \"show_x_labels\": true, \"show_y_guides\": true, \"show_y_labels\": true, \"spacing\": 10, \"stack_from_top\": false, \"strict\": false, \"stroke\": true, \"stroke_style\": null, \"style\": {\"background\": \"rgba(249, 249, 249, 1)\", \"ci_colors\": [], \"colors\": [\"#F44336\", \"#3F51B5\", \"#009688\", \"#FFC107\", \"#FF5722\", \"#9C27B0\", \"#03A9F4\", \"#8BC34A\", \"#FF9800\", \"#E91E63\", \"#2196F3\", \"#4CAF50\", \"#FFEB3B\", \"#673AB7\", \"#00BCD4\", \"#CDDC39\", \"#9E9E9E\", \"#607D8B\"], \"font_family\": \"Consolas, \\\"Liberation Mono\\\", Menlo, Courier, monospace\", \"foreground\": \"rgba(0, 0, 0, .87)\", \"foreground_strong\": \"rgba(0, 0, 0, 1)\", \"foreground_subtle\": \"rgba(0, 0, 0, .54)\", \"guide_stroke_dasharray\": \"4,4\", \"label_font_family\": \"Consolas, \\\"Liberation Mono\\\", Menlo, Courier, monospace\", \"label_font_size\": 10, \"legend_font_family\": \"Consolas, \\\"Liberation Mono\\\", Menlo, Courier, monospace\", \"legend_font_size\": 14, \"major_guide_stroke_dasharray\": \"6,6\", \"major_label_font_family\": \"Consolas, \\\"Liberation Mono\\\", Menlo, Courier, monospace\", \"major_label_font_size\": 10, \"no_data_font_family\": \"Consolas, \\\"Liberation Mono\\\", Menlo, Courier, monospace\", \"no_data_font_size\": 64, \"opacity\": \".7\", \"opacity_hover\": \".8\", \"plot_background\": \"rgba(255, 255, 255, 1)\", \"stroke_opacity\": \".8\", \"stroke_opacity_hover\": \".9\", \"title_font_family\": \"Consolas, \\\"Liberation Mono\\\", Menlo, Courier, monospace\", \"title_font_size\": 16, \"tooltip_font_family\": \"Consolas, \\\"Liberation Mono\\\", Menlo, Courier, monospace\", \"tooltip_font_size\": 14, \"transition\": \"150ms\", \"value_background\": \"rgba(229, 229, 229, 1)\", \"value_colors\": [], \"value_font_family\": \"Consolas, \\\"Liberation Mono\\\", Menlo, Courier, monospace\", \"value_font_size\": 16, \"value_label_font_family\": \"Consolas, \\\"Liberation Mono\\\", Menlo, Courier, monospace\", \"value_label_font_size\": 10}, \"title\": null, \"tooltip_border_radius\": 0, \"tooltip_fancy_mode\": true, \"truncate_label\": null, \"truncate_legend\": null, \"width\": 800, \"x_label_rotation\": 0, \"x_labels\": null, \"x_labels_major\": null, \"x_labels_major_count\": null, \"x_labels_major_every\": null, \"x_title\": null, \"xrange\": null, \"y_label_rotation\": 0, \"y_labels\": null, \"y_labels_major\": null, \"y_labels_major_count\": null, \"y_labels_major_every\": null, \"y_title\": null, \"zero\": 0, \"legends\": [\"Dist_timedelta\"]}</script><script type=\"text/javascript\" xlink:href=\"https://kozea.github.io/pygal.js/2.0.x/pygal-tooltips.min.js\"/></defs><title>Pygal</title><g class=\"graph histogram-graph vertical\"><rect class=\"background\" height=\"600\" width=\"800\" x=\"0\" y=\"0\"/><g class=\"plot\" transform=\"translate(187, 20)\"><rect class=\"background\" height=\"540\" width=\"592.4\" x=\"0\" y=\"0\"/><g class=\"axis y always_show\"><g class=\"guides\"><path class=\"axis major line\" d=\"M0.000000 529.615385 h592.400000\"/><text class=\"major\" x=\"-5\" y=\"533.1153846153846\">0</text><title>0</title></g><g class=\"guides\"><path class=\"guide line\" d=\"M0.000000 494.532225 h592.400000\"/><text class=\"\" x=\"-5\" y=\"498.0322245322245\">20</text><title>20</title></g><g class=\"guides\"><path class=\"guide line\" d=\"M0.000000 459.449064 h592.400000\"/><text class=\"\" x=\"-5\" y=\"462.94906444906445\">40</text><title>40</title></g><g class=\"guides\"><path class=\"guide line\" d=\"M0.000000 424.365904 h592.400000\"/><text class=\"\" x=\"-5\" y=\"427.8659043659044\">60</text><title>60</title></g><g class=\"guides\"><path class=\"guide line\" d=\"M0.000000 389.282744 h592.400000\"/><text class=\"\" x=\"-5\" y=\"392.78274428274426\">80</text><title>80</title></g><g class=\"guides\"><path class=\"major guide line\" d=\"M0.000000 354.199584 h592.400000\"/><text class=\"major\" x=\"-5\" y=\"357.69958419958425\">100</text><title>100</title></g><g class=\"guides\"><path class=\"guide line\" d=\"M0.000000 319.116424 h592.400000\"/><text class=\"\" x=\"-5\" y=\"322.6164241164241\">120</text><title>120</title></g><g class=\"guides\"><path class=\"guide line\" d=\"M0.000000 284.033264 h592.400000\"/><text class=\"\" x=\"-5\" y=\"287.5332640332641\">140</text><title>140</title></g><g class=\"guides\"><path class=\"guide line\" d=\"M0.000000 248.950104 h592.400000\"/><text class=\"\" x=\"-5\" y=\"252.450103950104\">160</text><title>160</title></g><g class=\"guides\"><path class=\"guide line\" d=\"M0.000000 213.866944 h592.400000\"/><text class=\"\" x=\"-5\" y=\"217.36694386694393\">180</text><title>180</title></g><g class=\"guides\"><path class=\"major guide line\" d=\"M0.000000 178.783784 h592.400000\"/><text class=\"major\" x=\"-5\" y=\"182.28378378378386\">200</text><title>200</title></g><g class=\"guides\"><path class=\"guide line\" d=\"M0.000000 143.700624 h592.400000\"/><text class=\"\" x=\"-5\" y=\"147.2006237006238\">220</text><title>220</title></g><g class=\"guides\"><path class=\"guide line\" d=\"M0.000000 108.617464 h592.400000\"/><text class=\"\" x=\"-5\" y=\"112.11746361746373\">240</text><title>240</title></g><g class=\"guides\"><path class=\"guide line\" d=\"M0.000000 73.534304 h592.400000\"/><text class=\"\" x=\"-5\" y=\"77.03430353430355\">260</text><title>260</title></g><g class=\"guides\"><path class=\"guide line\" d=\"M0.000000 38.451143 h592.400000\"/><text class=\"\" x=\"-5\" y=\"41.95114345114342\">280</text><title>280</title></g></g><g class=\"axis x\"><path class=\"line\" d=\"M0.000000 0.000000 v540.000000\"/><g class=\"guides\"><path class=\"guide line\" d=\"M83.185937 0.000000 v540.000000\"/><text class=\"\" x=\"83.18593650117194\" y=\"555.0\">100</text><title>100</title></g><g class=\"guides\"><path class=\"guide line\" d=\"M162.080034 0.000000 v540.000000\"/><text class=\"\" x=\"162.08003409333045\" y=\"555.0\">200</text><title>200</title></g><g class=\"guides\"><path class=\"guide line\" d=\"M240.974132 0.000000 v540.000000\"/><text class=\"\" x=\"240.97413168548897\" y=\"555.0\">300</text><title>300</title></g><g class=\"guides\"><path class=\"guide line\" d=\"M319.868229 0.000000 v540.000000\"/><text class=\"\" x=\"319.8682292776475\" y=\"555.0\">400</text><title>400</title></g><g class=\"guides\"><path class=\"guide line\" d=\"M398.762327 0.000000 v540.000000\"/><text class=\"\" x=\"398.762326869806\" y=\"555.0\">500</text><title>500</title></g><g class=\"guides\"><path class=\"guide line\" d=\"M477.656424 0.000000 v540.000000\"/><text class=\"\" x=\"477.6564244619646\" y=\"555.0\">600</text><title>600</title></g><g class=\"guides\"><path class=\"guide line\" d=\"M556.550522 0.000000 v540.000000\"/><text class=\"\" x=\"556.5505220541231\" y=\"555.0\">700</text><title>700</title></g></g><g class=\"series serie-0 color-0\"><g class=\"histbars\"><g class=\"histbar\"><rect class=\"rect reactive tooltip-trigger\" height=\"403.4563409563409\" rx=\"0\" ry=\"0\" width=\"56.96153846153846\" x=\"11.39230769230769\" y=\"126.15904365904373\"/><desc class=\"value\">230: 9</desc><desc class=\"x centered\">39.87307692307692</desc><desc class=\"y centered\">327.8872141372142</desc></g><g class=\"histbar\"><rect class=\"rect reactive tooltip-trigger\" height=\"475.37681912681916\" rx=\"0\" ry=\"0\" width=\"56.96153846153844\" x=\"68.35384615384615\" y=\"54.238565488565484\"/><desc class=\"value\">271: 81.2</desc><desc class=\"x centered\">96.83461538461538</desc><desc class=\"y centered\">291.9269750519751</desc></g><g class=\"histbar\"><rect class=\"rect reactive tooltip-trigger\" height=\"422.752079002079\" rx=\"0\" ry=\"0\" width=\"56.961538461538495\" x=\"125.31538461538459\" y=\"106.86330561330567\"/><desc class=\"value\">241: 153.4</desc><desc class=\"x centered\">153.79615384615383</desc><desc class=\"y centered\">318.23934511434516</desc></g><g class=\"histbar\"><rect class=\"rect reactive tooltip-trigger\" height=\"480.63929313929316\" rx=\"0\" ry=\"0\" width=\"56.961538461538396\" x=\"182.27692307692308\" y=\"48.97609147609148\"/><desc class=\"value\">274: 225.6</desc><desc class=\"x centered\">210.75769230769228</desc><desc class=\"y centered\">289.29573804573806</desc></g><g class=\"histbar\"><rect class=\"rect reactive tooltip-trigger\" height=\"519.2307692307693\" rx=\"0\" ry=\"0\" width=\"56.96153846153845\" x=\"239.23846153846148\" y=\"10.384615384615358\"/><desc class=\"value\">296: 297.8</desc><desc class=\"x centered\">267.7192307692307</desc><desc class=\"y centered\">270.0</desc></g><g class=\"histbar\"><rect class=\"rect reactive tooltip-trigger\" height=\"517.4766112266112\" rx=\"0\" ry=\"0\" width=\"56.96153846153845\" x=\"296.19999999999993\" y=\"12.138773388773416\"/><desc class=\"value\">295: 370</desc><desc class=\"x centered\">324.68076923076916</desc><desc class=\"y centered\">270.87707900207903</desc></g><g class=\"histbar\"><rect class=\"rect reactive tooltip-trigger\" height=\"428.014553014553\" rx=\"0\" ry=\"0\" width=\"56.96153846153857\" x=\"353.1615384615384\" y=\"101.60083160083167\"/><desc class=\"value\">244: 442.2</desc><desc class=\"x centered\">381.64230769230767</desc><desc class=\"y centered\">315.6081081081081</desc></g><g class=\"histbar\"><rect class=\"rect reactive tooltip-trigger\" height=\"328.0275467775467\" rx=\"0\" ry=\"0\" width=\"56.961538461538396\" x=\"410.12307692307695\" y=\"201.58783783783792\"/><desc class=\"value\">187: 514.4</desc><desc class=\"x centered\">438.6038461538461</desc><desc class=\"y centered\">365.6016112266113</desc></g><g class=\"histbar\"><rect class=\"rect reactive tooltip-trigger\" height=\"380.65228690228685\" rx=\"0\" ry=\"0\" width=\"56.96153846153851\" x=\"467.08461538461535\" y=\"148.9630977130978\"/><desc class=\"value\">217: 586.6</desc><desc class=\"x centered\">495.5653846153846</desc><desc class=\"y centered\">339.2892411642412</desc></g><g class=\"histbar\"><rect class=\"rect reactive tooltip-trigger\" height=\"429.768711018711\" rx=\"0\" ry=\"0\" width=\"56.96153846153845\" x=\"524.0461538461539\" y=\"99.84667359667367\"/><desc class=\"value\">245: 658.8</desc><desc class=\"x centered\">552.5269230769231</desc><desc class=\"y centered\">314.73102910602915</desc></g></g></g></g><g class=\"titles\"/><g class=\"plot overlay\" transform=\"translate(187, 20)\"><g class=\"series serie-0 color-0\"/></g><g class=\"plot text-overlay\" transform=\"translate(187, 20)\"><g class=\"series serie-0 color-0\"/></g><g class=\"plot tooltip-overlay\" transform=\"translate(187, 20)\"><g class=\"tooltip\" style=\"opacity: 0\" transform=\"translate(0 0)\"><rect class=\"tooltip-box\" height=\"0\" rx=\"0\" ry=\"0\" width=\"0\"/><g class=\"text\"/></g></g><g class=\"legends\" transform=\"translate(10, 30)\"><g class=\"legend reactive activate-serie\" id=\"activate-serie-0\"><rect class=\"color-0 reactive\" height=\"12\" width=\"12\" x=\"0.0\" y=\"1.0\"/><text x=\"17.0\" y=\"11.2\">Dist_timedelta</text></g></g><g class=\"legends\" transform=\"translate(790, 30)\"/></g></svg>"
      ],
      "text/plain": [
       "<pygal.graph.histogram.Histogram at 0x7f77228a7710>"
      ]
     },
     "execution_count": 21,
     "metadata": {},
     "output_type": "execute_result"
    }
   ],
   "source": [
    "plot_histogram(val,\"timedelta\")"
   ]
  },
  {
   "cell_type": "code",
   "execution_count": 22,
   "metadata": {},
   "outputs": [
    {
     "data": {
      "text/plain": [
       "Ks_2sampResult(statistic=0.008609961995089649, pvalue=0.6401088371171999)"
      ]
     },
     "execution_count": 22,
     "metadata": {},
     "output_type": "execute_result"
    }
   ],
   "source": [
    "# tal vez se vean distintas, pero hay que comparar sus medias E(x)\n",
    "# Solo es para variables continuas\n",
    "ks_2samp(train[\"shares\"], test[\"shares\"])\n",
    "# La H0 es que las muestras tienen la misma distribuciòn y misma media\n",
    "# Si el pvalue < 5% se acepta la H0 y se rechaza la H alternativa, esto es error del tipo 1"
   ]
  },
  {
   "cell_type": "code",
   "execution_count": 23,
   "metadata": {},
   "outputs": [
    {
     "data": {
      "text/plain": [
       "Ks_2sampResult(statistic=0.936501530286214, pvalue=0.0)"
      ]
     },
     "execution_count": 23,
     "metadata": {},
     "output_type": "execute_result"
    }
   ],
   "source": [
    "ks_2samp(train[\"shares\"], val[\"shares\"])"
   ]
  },
  {
   "cell_type": "code",
   "execution_count": 24,
   "metadata": {},
   "outputs": [],
   "source": [
    "ls_cont = ['timedelta', 'n_tokens_title', 'n_tokens_content', 'n_unique_tokens', 'n_non_stop_words', \n",
    "           'n_non_stop_unique_tokens', 'num_hrefs', 'num_self_hrefs', 'num_imgs', 'num_videos', \n",
    "           'average_token_length', 'num_keywords', 'kw_min_min', 'kw_max_min', 'kw_avg_min', \n",
    "           'kw_min_max', 'kw_max_max', 'kw_avg_max', 'kw_min_avg', 'kw_max_avg', 'kw_avg_avg', \n",
    "           'self_reference_min_shares', 'self_reference_max_shares', 'self_reference_avg_sharess', \n",
    "           'LDA_00', 'LDA_01', 'LDA_02', 'LDA_03', 'LDA_04', 'global_subjectivity', \n",
    "           'global_sentiment_polarity', 'global_rate_positive_words', 'global_rate_negative_words',\n",
    "           'rate_positive_words', 'rate_negative_words', 'avg_positive_polarity', 'min_positive_polarity',\n",
    "           'max_positive_polarity', 'avg_negative_polarity', 'min_negative_polarity', \n",
    "           'max_negative_polarity', 'title_subjectivity', 'title_sentiment_polarity', \n",
    "           'abs_title_subjectivity', 'abs_title_sentiment_polarity']\n",
    "ls_disc = ['data_channel_is_lifestyle', 'data_channel_is_entertainment', 'data_channel_is_bus', \n",
    "           'data_channel_is_socmed', 'data_channel_is_tech', 'data_channel_is_world', 'weekday_is_monday',\n",
    "           'weekday_is_tuesday', 'weekday_is_wednesday', 'weekday_is_thursday', 'weekday_is_friday',\n",
    "           'weekday_is_saturday', 'weekday_is_sunday', 'is_weekend']"
   ]
  },
  {
   "cell_type": "code",
   "execution_count": null,
   "metadata": {},
   "outputs": [],
   "source": []
  },
  {
   "cell_type": "code",
   "execution_count": null,
   "metadata": {},
   "outputs": [],
   "source": []
  },
  {
   "cell_type": "markdown",
   "metadata": {},
   "source": [
    "## Variables Continuas \n"
   ]
  },
  {
   "cell_type": "code",
   "execution_count": null,
   "metadata": {},
   "outputs": [],
   "source": []
  },
  {
   "cell_type": "code",
   "execution_count": 25,
   "metadata": {},
   "outputs": [
    {
     "data": {
      "text/plain": [
       "['timedelta',\n",
       " 'n_tokens_title',\n",
       " 'n_tokens_content',\n",
       " 'n_unique_tokens',\n",
       " 'n_non_stop_words',\n",
       " 'n_non_stop_unique_tokens',\n",
       " 'num_hrefs',\n",
       " 'num_self_hrefs',\n",
       " 'num_imgs',\n",
       " 'num_videos',\n",
       " 'average_token_length',\n",
       " 'num_keywords',\n",
       " 'kw_min_min',\n",
       " 'kw_max_min',\n",
       " 'kw_avg_min',\n",
       " 'kw_min_max',\n",
       " 'kw_max_max',\n",
       " 'kw_avg_max',\n",
       " 'kw_min_avg',\n",
       " 'kw_max_avg',\n",
       " 'kw_avg_avg',\n",
       " 'self_reference_min_shares',\n",
       " 'self_reference_max_shares',\n",
       " 'self_reference_avg_sharess',\n",
       " 'LDA_00',\n",
       " 'LDA_01',\n",
       " 'LDA_02',\n",
       " 'LDA_03',\n",
       " 'LDA_04',\n",
       " 'global_subjectivity',\n",
       " 'global_sentiment_polarity',\n",
       " 'global_rate_positive_words',\n",
       " 'global_rate_negative_words',\n",
       " 'rate_positive_words',\n",
       " 'rate_negative_words',\n",
       " 'avg_positive_polarity',\n",
       " 'min_positive_polarity',\n",
       " 'max_positive_polarity',\n",
       " 'avg_negative_polarity',\n",
       " 'min_negative_polarity',\n",
       " 'max_negative_polarity',\n",
       " 'title_subjectivity',\n",
       " 'title_sentiment_polarity',\n",
       " 'abs_title_subjectivity',\n",
       " 'abs_title_sentiment_polarity']"
      ]
     },
     "execution_count": 25,
     "metadata": {},
     "output_type": "execute_result"
    }
   ],
   "source": [
    "[var_cont for var_cont in ls_cont]"
   ]
  },
  {
   "cell_type": "code",
   "execution_count": 26,
   "metadata": {},
   "outputs": [],
   "source": [
    "# La funciòn se ha modificado para guardar las imagenes en una ruta especifica\n",
    "def plot_histogram(data,var):\n",
    "    path_img_hist = \"/home/lalo/Documentos/Diplomado Ciencia de Datos/Modulo 1/Calidad de Datos (Primera Parte)/Histogramas/\"\n",
    "    ye_s, equis = np.histogram(data[var])\n",
    "    hist = list(zip(ye_s, equis, equis[1:]))\n",
    "    hist_plot = pygal.Histogram()\n",
    "    hist_plot.add(var + \"_dist\", hist)\n",
    "    hist_plot.render_to_png(path_img_hist + var)"
   ]
  },
  {
   "cell_type": "code",
   "execution_count": 27,
   "metadata": {},
   "outputs": [],
   "source": [
    "# Bucle para cada variable continua y guarda cada gràfica\n",
    "for var_cont in ls_cont:\n",
    "   [plot_histogram(train,var_cont)]\n"
   ]
  },
  {
   "cell_type": "code",
   "execution_count": 28,
   "metadata": {},
   "outputs": [
    {
     "data": {
      "text/plain": [
       "Ks_2sampResult(statistic=0.008609961995089649, pvalue=0.6401088371171999)"
      ]
     },
     "execution_count": 28,
     "metadata": {},
     "output_type": "execute_result"
    }
   ],
   "source": [
    "# Si el pvalue es > 5% se concluye que no es una distribuciòn normal\n",
    "ks_2samp(train[\"shares\"], test[\"shares\"])\n",
    "# Para el caso de shares, las poblaciones no siguen una distribuciòn normal\n",
    "# Pero shares es una variable discreta"
   ]
  },
  {
   "cell_type": "code",
   "execution_count": 29,
   "metadata": {},
   "outputs": [],
   "source": [
    "# Hay que hacerlo para todas las variables continuas\n",
    "# entonces hay que hacer la funciòn\n",
    "def ks_var_continuas(data_1,data_2,var):\n",
    "    stadistic_a, p_value_a = ks_2samp(data_1[var], data_2[var])\n",
    "    # return var, stadistic_a, p_value_a\n",
    "    return p_value_a\n"
   ]
  },
  {
   "cell_type": "code",
   "execution_count": 37,
   "metadata": {},
   "outputs": [
    {
     "data": {
      "text/plain": [
       "0.6401088371171999"
      ]
     },
     "execution_count": 37,
     "metadata": {},
     "output_type": "execute_result"
    }
   ],
   "source": [
    "ks_var_continuas(train,test,\"shares\")"
   ]
  },
  {
   "cell_type": "markdown",
   "metadata": {},
   "source": []
  },
  {
   "cell_type": "code",
   "execution_count": 39,
   "metadata": {},
   "outputs": [
    {
     "data": {
      "text/plain": [
       "{'timedelta': [],\n",
       " 'n_tokens_title': [],\n",
       " 'n_tokens_content': [],\n",
       " 'n_unique_tokens': [],\n",
       " 'n_non_stop_words': [],\n",
       " 'n_non_stop_unique_tokens': [],\n",
       " 'num_hrefs': [],\n",
       " 'num_self_hrefs': [],\n",
       " 'num_imgs': [],\n",
       " 'num_videos': [],\n",
       " 'average_token_length': [],\n",
       " 'num_keywords': [],\n",
       " 'kw_min_min': [],\n",
       " 'kw_max_min': [],\n",
       " 'kw_avg_min': [],\n",
       " 'kw_min_max': [],\n",
       " 'kw_max_max': [],\n",
       " 'kw_avg_max': [],\n",
       " 'kw_min_avg': [],\n",
       " 'kw_max_avg': [],\n",
       " 'kw_avg_avg': [],\n",
       " 'self_reference_min_shares': [],\n",
       " 'self_reference_max_shares': [],\n",
       " 'self_reference_avg_sharess': [],\n",
       " 'LDA_00': [],\n",
       " 'LDA_01': [],\n",
       " 'LDA_02': [],\n",
       " 'LDA_03': [],\n",
       " 'LDA_04': [],\n",
       " 'global_subjectivity': [],\n",
       " 'global_sentiment_polarity': [],\n",
       " 'global_rate_positive_words': [],\n",
       " 'global_rate_negative_words': [],\n",
       " 'rate_positive_words': [],\n",
       " 'rate_negative_words': [],\n",
       " 'avg_positive_polarity': [],\n",
       " 'min_positive_polarity': [],\n",
       " 'max_positive_polarity': [],\n",
       " 'avg_negative_polarity': [],\n",
       " 'min_negative_polarity': [],\n",
       " 'max_negative_polarity': [],\n",
       " 'title_subjectivity': [],\n",
       " 'title_sentiment_polarity': [],\n",
       " 'abs_title_subjectivity': [],\n",
       " 'abs_title_sentiment_polarity': []}"
      ]
     },
     "execution_count": 39,
     "metadata": {},
     "output_type": "execute_result"
    }
   ],
   "source": [
    "# Bucle para meter las variables continuas en un conjunto de arrays\n",
    "Cat_var_cont = {}\n",
    "for var_cont in ls_cont:\n",
    "    Cat_var_cont[var_cont] = []\n",
    "\n",
    "Cat_var_cont"
   ]
  },
  {
   "cell_type": "code",
   "execution_count": 40,
   "metadata": {},
   "outputs": [
    {
     "data": {
      "text/plain": [
       "{'timedelta': [0.336909980246578],\n",
       " 'n_tokens_title': [0.9999917311429612],\n",
       " 'n_tokens_content': [0.6596717010834507],\n",
       " 'n_unique_tokens': [0.9985578939160501],\n",
       " 'n_non_stop_words': [0.5962721543674587],\n",
       " 'n_non_stop_unique_tokens': [0.9383747286935015],\n",
       " 'num_hrefs': [0.943387572069084],\n",
       " 'num_self_hrefs': [0.5530946154756445],\n",
       " 'num_imgs': [0.5483571519489848],\n",
       " 'num_videos': [0.9609635599473173],\n",
       " 'average_token_length': [0.20743280590132415],\n",
       " 'num_keywords': [0.9999997218359787],\n",
       " 'kw_min_min': [0.9189085979077903],\n",
       " 'kw_max_min': [0.9458012963199981],\n",
       " 'kw_avg_min': [0.7699742921381074],\n",
       " 'kw_min_max': [0.899925941438003],\n",
       " 'kw_max_max': [0.9999999419732464],\n",
       " 'kw_avg_max': [0.6889585722324871],\n",
       " 'kw_min_avg': [0.3442198273335508],\n",
       " 'kw_max_avg': [0.630335394604324],\n",
       " 'kw_avg_avg': [0.8016550715977406],\n",
       " 'self_reference_min_shares': [0.9569404447047432],\n",
       " 'self_reference_max_shares': [0.9999656507203138],\n",
       " 'self_reference_avg_sharess': [0.9900728724614877],\n",
       " 'LDA_00': [0.7035257870487709],\n",
       " 'LDA_01': [0.32614138615032817],\n",
       " 'LDA_02': [0.5962721543674587],\n",
       " 'LDA_03': [0.915888635033804],\n",
       " 'LDA_04': [0.9824830198792687],\n",
       " 'global_subjectivity': [0.8715643281490487],\n",
       " 'global_sentiment_polarity': [0.14693719263547866],\n",
       " 'global_rate_positive_words': [0.444146370479896],\n",
       " 'global_rate_negative_words': [0.7745788694669967],\n",
       " 'rate_positive_words': [0.47477403882321956],\n",
       " 'rate_negative_words': [0.5962721543674587],\n",
       " 'avg_positive_polarity': [0.034133144579349364],\n",
       " 'min_positive_polarity': [0.7180093638428398],\n",
       " 'max_positive_polarity': [0.4484562319568283],\n",
       " 'avg_negative_polarity': [0.9032314309682218],\n",
       " 'min_negative_polarity': [0.9983762926336015],\n",
       " 'max_negative_polarity': [0.8825872929289866],\n",
       " 'title_subjectivity': [0.7653463157101594],\n",
       " 'title_sentiment_polarity': [0.45278838449206754],\n",
       " 'abs_title_subjectivity': [0.5156142003128373],\n",
       " 'abs_title_sentiment_polarity': [0.9928004420210943]}"
      ]
     },
     "execution_count": 40,
     "metadata": {},
     "output_type": "execute_result"
    }
   ],
   "source": [
    "# mismo bucle, pero ahora meto el p_value\n",
    "Cat_var_cont = {}\n",
    "for var_cont in ls_cont:\n",
    "    Cat_var_cont[var_cont] = [ks_var_continuas(train,test,var_cont)]\n",
    "    \n",
    "\n",
    "Cat_var_cont"
   ]
  },
  {
   "cell_type": "code",
   "execution_count": 43,
   "metadata": {},
   "outputs": [
    {
     "data": {
      "text/plain": [
       "{'avg_positive_polarity': [0.034133144579349364]}"
      ]
     },
     "execution_count": 43,
     "metadata": {},
     "output_type": "execute_result"
    }
   ],
   "source": [
    "# mismo bucle, pero ahora filtro por un auxiliar que toma el valor de p-value y es menor a .05\n",
    "Cat_var_cont = {}\n",
    "for var_cont in ls_cont:\n",
    "    aux = ks_var_continuas(train,test,var_cont)\n",
    "    if aux <= .05: Cat_var_cont[var_cont] = [aux]\n",
    "        \n",
    "\n",
    "Cat_var_cont"
   ]
  },
  {
   "cell_type": "code",
   "execution_count": 44,
   "metadata": {},
   "outputs": [
    {
     "data": {
      "text/plain": [
       "{'timedelta': [0.336909980246578],\n",
       " 'average_token_length': [0.20743280590132415],\n",
       " 'kw_min_avg': [0.3442198273335508],\n",
       " 'LDA_01': [0.32614138615032817],\n",
       " 'global_sentiment_polarity': [0.14693719263547866],\n",
       " 'global_rate_positive_words': [0.444146370479896],\n",
       " 'avg_positive_polarity': [0.034133144579349364],\n",
       " 'max_positive_polarity': [0.4484562319568283]}"
      ]
     },
     "execution_count": 44,
     "metadata": {},
     "output_type": "execute_result"
    }
   ],
   "source": [
    "# Validaciòn del bucle\n",
    "Cat_var_cont = {}\n",
    "for var_cont in ls_cont:\n",
    "    aux = ks_var_continuas(train,test,var_cont)\n",
    "    if aux <= .45: Cat_var_cont[var_cont] = [aux]\n",
    "        \n",
    "\n",
    "Cat_var_cont"
   ]
  },
  {
   "cell_type": "markdown",
   "metadata": {},
   "source": [
    "## Variables Discretas"
   ]
  },
  {
   "cell_type": "code",
   "execution_count": 50,
   "metadata": {},
   "outputs": [
    {
     "data": {
      "text/plain": [
       "0.0    33751\n",
       "1.0     5102\n",
       "Name: is_weekend, dtype: int64"
      ]
     },
     "execution_count": 50,
     "metadata": {},
     "output_type": "execute_result"
    }
   ],
   "source": [
    "# frecuencias de la variable, ya que es binaria\n",
    "tabla[\"is_weekend\"].value_counts()"
   ]
  },
  {
   "cell_type": "code",
   "execution_count": 67,
   "metadata": {},
   "outputs": [
    {
     "data": {
      "text/plain": [
       "0.0    33751\n",
       "1.0     5102\n",
       "Name: is_weekend, dtype: int64"
      ]
     },
     "execution_count": 67,
     "metadata": {},
     "output_type": "execute_result"
    }
   ],
   "source": [
    "data_1 = tabla[\"is_weekend\"].value_counts()\n",
    "data_1.head(5)"
   ]
  },
  {
   "cell_type": "code",
   "execution_count": 62,
   "metadata": {},
   "outputs": [
    {
     "data": {
      "text/plain": [
       "{'data_channel_is_lifestyle': [],\n",
       " 'data_channel_is_entertainment': [],\n",
       " 'data_channel_is_bus': [],\n",
       " 'data_channel_is_socmed': [],\n",
       " 'data_channel_is_tech': [],\n",
       " 'data_channel_is_world': [],\n",
       " 'weekday_is_monday': [],\n",
       " 'weekday_is_tuesday': [],\n",
       " 'weekday_is_wednesday': [],\n",
       " 'weekday_is_thursday': [],\n",
       " 'weekday_is_friday': [],\n",
       " 'weekday_is_saturday': [],\n",
       " 'weekday_is_sunday': [],\n",
       " 'is_weekend': []}"
      ]
     },
     "execution_count": 62,
     "metadata": {},
     "output_type": "execute_result"
    }
   ],
   "source": [
    "Cat_var_dis = {}\n",
    "for var_dis in ls_disc:\n",
    "    Cat_var_dis[var_dis] = []\n",
    "\n",
    "Cat_var_dis\n"
   ]
  },
  {
   "cell_type": "code",
   "execution_count": 63,
   "metadata": {},
   "outputs": [
    {
     "data": {
      "text/plain": [
       "{'data_channel_is_lifestyle': [0.0    36803\n",
       "  1.0     2050\n",
       "  Name: data_channel_is_lifestyle, dtype: int64],\n",
       " 'data_channel_is_entertainment': [0.0    31937\n",
       "  1.0     6916\n",
       "  Name: data_channel_is_entertainment, dtype: int64],\n",
       " 'data_channel_is_bus': [0.0    32683\n",
       "  1.0     6170\n",
       "  Name: data_channel_is_bus, dtype: int64],\n",
       " 'data_channel_is_socmed': [0.0    36565\n",
       "  1.0     2288\n",
       "  Name: data_channel_is_socmed, dtype: int64],\n",
       " 'data_channel_is_tech': [0.0    31592\n",
       "  1.0     7261\n",
       "  Name: data_channel_is_tech, dtype: int64],\n",
       " 'data_channel_is_world': [0.0    30615\n",
       "  1.0     8238\n",
       "  Name: data_channel_is_world, dtype: int64],\n",
       " 'weekday_is_monday': [0.0    32335\n",
       "  1.0     6518\n",
       "  Name: weekday_is_monday, dtype: int64],\n",
       " 'weekday_is_tuesday': [0.0    31608\n",
       "  1.0     7245\n",
       "  Name: weekday_is_tuesday, dtype: int64],\n",
       " 'weekday_is_wednesday': [0.0    31570\n",
       "  1.0     7283\n",
       "  Name: weekday_is_wednesday, dtype: int64],\n",
       " 'weekday_is_thursday': [0.0    31728\n",
       "  1.0     7125\n",
       "  Name: weekday_is_thursday, dtype: int64],\n",
       " 'weekday_is_friday': [0.0    33273\n",
       "  1.0     5580\n",
       "  Name: weekday_is_friday, dtype: int64],\n",
       " 'weekday_is_saturday': [0.0    36451\n",
       "  1.0     2402\n",
       "  Name: weekday_is_saturday, dtype: int64],\n",
       " 'weekday_is_sunday': [0.0    36153\n",
       "  1.0     2700\n",
       "  Name: weekday_is_sunday, dtype: int64],\n",
       " 'is_weekend': [0.0    33751\n",
       "  1.0     5102\n",
       "  Name: is_weekend, dtype: int64]}"
      ]
     },
     "execution_count": 63,
     "metadata": {},
     "output_type": "execute_result"
    }
   ],
   "source": [
    "Cat_var_dis = {}\n",
    "for var_dis in ls_disc:\n",
    "    Cat_var_dis[var_dis] = [tabla[var_dis].value_counts()]\n",
    "\n",
    "Cat_var_dis\n"
   ]
  },
  {
   "cell_type": "code",
   "execution_count": 65,
   "metadata": {},
   "outputs": [
    {
     "ename": "SyntaxError",
     "evalue": "invalid syntax (<ipython-input-65-4978f0667f1e>, line 1)",
     "output_type": "error",
     "traceback": [
      "\u001b[0;36m  File \u001b[0;32m\"<ipython-input-65-4978f0667f1e>\"\u001b[0;36m, line \u001b[0;32m1\u001b[0m\n\u001b[0;31m    cat_algo[],cat_algo2[]  =tabla[var_dis].value_counts()\u001b[0m\n\u001b[0m             ^\u001b[0m\n\u001b[0;31mSyntaxError\u001b[0m\u001b[0;31m:\u001b[0m invalid syntax\n"
     ]
    }
   ],
   "source": [
    "cat_algo[],cat_algo2[]  =tabla[var_dis].value_counts()"
   ]
  },
  {
   "cell_type": "code",
   "execution_count": null,
   "metadata": {},
   "outputs": [],
   "source": []
  }
 ],
 "metadata": {
  "kernelspec": {
   "display_name": "Python 3",
   "language": "python",
   "name": "python3"
  },
  "language_info": {
   "codemirror_mode": {
    "name": "ipython",
    "version": 3
   },
   "file_extension": ".py",
   "mimetype": "text/x-python",
   "name": "python",
   "nbconvert_exporter": "python",
   "pygments_lexer": "ipython3",
   "version": "3.7.3"
  }
 },
 "nbformat": 4,
 "nbformat_minor": 2
}
