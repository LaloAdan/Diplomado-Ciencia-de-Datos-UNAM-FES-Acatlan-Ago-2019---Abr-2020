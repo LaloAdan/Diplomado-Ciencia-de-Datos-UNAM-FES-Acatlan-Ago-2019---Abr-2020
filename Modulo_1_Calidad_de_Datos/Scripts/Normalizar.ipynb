{
 "cells": [
  {
   "cell_type": "code",
   "execution_count": 1,
   "metadata": {},
   "outputs": [],
   "source": [
    "%config IPCompleter.greedy=True\n",
    "import os\n",
    "import pygal\n",
    "import numpy as np\n",
    "import pandas as pd\n",
    "import cairosvg\n",
    "import datetime\n",
    "import matplotlib.pyplot as plt\n",
    "from scipy.stats import ks_2samp\n",
    "from scipy.stats import chisquare"
   ]
  },
  {
   "cell_type": "code",
   "execution_count": 2,
   "metadata": {},
   "outputs": [],
   "source": [
    "path_datos = \"/home/lalo/Documentos/Diplomado Ciencia de Datos/Modulo 1/Visualizacion de Datos (Tercera Parte)/Ejercicio 2 (Equipo 3)/\"\n",
    "tabla = pd.read_csv(path_datos + \"churn_train.csv\")"
   ]
  },
  {
   "cell_type": "code",
   "execution_count": 4,
   "metadata": {},
   "outputs": [
    {
     "name": "stdout",
     "output_type": "stream",
     "text": [
      "<class 'pandas.core.frame.DataFrame'>\n",
      "RangeIndex: 2499 entries, 0 to 2498\n",
      "Data columns (total 20 columns):\n",
      "state                     2499 non-null object\n",
      "account length            2499 non-null int64\n",
      "area code                 2499 non-null int64\n",
      "international plan        2499 non-null object\n",
      "voice mail plan           2499 non-null object\n",
      "number vmail messages     2499 non-null int64\n",
      "total day minutes         2499 non-null float64\n",
      "total day calls           2499 non-null int64\n",
      "total day charge          2499 non-null float64\n",
      "total eve minutes         2499 non-null float64\n",
      "total eve calls           2499 non-null int64\n",
      "total eve charge          2499 non-null float64\n",
      "total night minutes       2499 non-null float64\n",
      "total night calls         2499 non-null int64\n",
      "total night charge        2499 non-null float64\n",
      "total intl minutes        2499 non-null float64\n",
      "total intl calls          2499 non-null int64\n",
      "total intl charge         2499 non-null float64\n",
      "customer service calls    2499 non-null int64\n",
      "churn                     2499 non-null bool\n",
      "dtypes: bool(1), float64(8), int64(8), object(3)\n",
      "memory usage: 373.5+ KB\n"
     ]
    }
   ],
   "source": [
    "tabla.info()"
   ]
  },
  {
   "cell_type": "code",
   "execution_count": 7,
   "metadata": {},
   "outputs": [
    {
     "data": {
      "text/plain": [
       "WV    0.032013\n",
       "MN    0.027611\n",
       "OH    0.027211\n",
       "WY    0.024410\n",
       "VT    0.024010\n",
       "OR    0.024010\n",
       "AL    0.023609\n",
       "WI    0.023209\n",
       "NY    0.023209\n",
       "ID    0.022809\n",
       "NJ    0.022009\n",
       "CT    0.022009\n",
       "VA    0.021609\n",
       "MI    0.021208\n",
       "TX    0.021208\n",
       "UT    0.021208\n",
       "IN    0.021208\n",
       "NV    0.021208\n",
       "MA    0.021208\n",
       "MT    0.020808\n",
       "ND    0.020808\n",
       "AZ    0.020008\n",
       "KY    0.019608\n",
       "WA    0.019208\n",
       "SD    0.019208\n",
       "FL    0.019208\n",
       "IL    0.019208\n",
       "CO    0.018407\n",
       "NM    0.018407\n",
       "NC    0.018407\n",
       "MS    0.018407\n",
       "KS    0.018007\n",
       "SC    0.018007\n",
       "ME    0.018007\n",
       "RI    0.018007\n",
       "MD    0.017607\n",
       "NH    0.017207\n",
       "MO    0.016807\n",
       "NE    0.016807\n",
       "GA    0.016807\n",
       "LA    0.016807\n",
       "AR    0.016407\n",
       "OK    0.016407\n",
       "HI    0.016006\n",
       "TN    0.016006\n",
       "DE    0.016006\n",
       "AK    0.015206\n",
       "IA    0.015206\n",
       "DC    0.014406\n",
       "PA    0.012005\n",
       "CA    0.011605\n",
       "Name: state, dtype: float64"
      ]
     },
     "execution_count": 7,
     "metadata": {},
     "output_type": "execute_result"
    }
   ],
   "source": [
    "# Si el valor es true, nos manda en %, si no hay un valor, arroja el nùmero de frecuencia\n",
    "tabla[\"state\"].value_counts(True)"
   ]
  },
  {
   "cell_type": "code",
   "execution_count": null,
   "metadata": {},
   "outputs": [],
   "source": [
    "# Hacer un proc freq en python\n",
    "\n",
    "\n",
    "def normalizar_1(text):\n",
    "    for letra in ('A','B','C','D','E','F','G','H','I','J','K','L','M','N','O','P','Q','R','S','T','U','V','W','X','Y','Z')\n",
    "        if text[0] == letra:\n",
    "#             return f\"Estados {letra}\"\n",
    "    \n",
    "    \n",
    "    \n",
    "    \n",
    "    \n",
    "    \n",
    "    \n",
    "    \n",
    "    if text[0] == \"A\" :\n",
    "        return \"Estados A\"\n",
    "    "
   ]
  }
 ],
 "metadata": {
  "kernelspec": {
   "display_name": "Python 3",
   "language": "python",
   "name": "python3"
  },
  "language_info": {
   "codemirror_mode": {
    "name": "ipython",
    "version": 3
   },
   "file_extension": ".py",
   "mimetype": "text/x-python",
   "name": "python",
   "nbconvert_exporter": "python",
   "pygments_lexer": "ipython3",
   "version": "3.7.3"
  }
 },
 "nbformat": 4,
 "nbformat_minor": 2
}
