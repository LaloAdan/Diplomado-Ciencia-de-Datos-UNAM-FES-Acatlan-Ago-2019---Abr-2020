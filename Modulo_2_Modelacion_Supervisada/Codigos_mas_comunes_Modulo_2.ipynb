{
 "cells": [
  {
   "cell_type": "code",
   "execution_count": null,
   "metadata": {},
   "outputs": [],
   "source": [
    "# Reemplazo\n",
    "df[\"SEX\"] = df[\"SEX\"].map({1: \"male\", 2: \"female\"})\n",
    "df[\"MARRIAGE\"] = df[\"MARRIAGE\"].map({1: \"married\", 2: \"single\", 3: \"others\"})\n",
    "df[\"EDUCATION\"] = df[\"EDUCATION\"].map({1: \"graduate school\", 2: \"university\",\n",
    "                     3: \"high school\", 4: \"others\", 5: \"unknown\",\n",
    "                     6: \"unknown\"})"
   ]
  },
  {
   "cell_type": "code",
   "execution_count": null,
   "metadata": {},
   "outputs": [],
   "source": [
    "# Variables que inicien con un prefijo\n",
    "new_disc = [x for x in df.columns if x.startswith(\"C_\")] + ls_disc"
   ]
  },
  {
   "cell_type": "code",
   "execution_count": null,
   "metadata": {},
   "outputs": [],
   "source": [
    "# Llenado de vacíos\n",
    "df[col] = df[col].fillna(\"Missing\")"
   ]
  },
  {
   "cell_type": "code",
   "execution_count": null,
   "metadata": {},
   "outputs": [],
   "source": [
    "# Ordenamiento\n",
    "df_iv.sort_values(by = \"iv\", ascending=False)"
   ]
  },
  {
   "cell_type": "code",
   "execution_count": null,
   "metadata": {},
   "outputs": [],
   "source": [
    "# Nombre de variables a lista\n",
    "ls_best = df_iv[df_iv[\"iv\"] != np.inf].index.tolist()"
   ]
  },
  {
   "cell_type": "code",
   "execution_count": null,
   "metadata": {},
   "outputs": [],
   "source": [
    "# Filtro y reinicio de index\n",
    "df = df[df[target] <= 32000].reset_index(drop = True)"
   ]
  },
  {
   "cell_type": "code",
   "execution_count": null,
   "metadata": {},
   "outputs": [],
   "source": [
    "# Extraer texto y convertir a fecha\n",
    "df[\"date\"] = pd.to_datetime(df[\"url\"].str.split(\"/\").str[3:6].str.join(\"/\"))\n",
    "df[\"month\"] = df[\"date\"].dt.strftime(\"%Y-%m-01\")\n"
   ]
  },
  {
   "cell_type": "code",
   "execution_count": null,
   "metadata": {},
   "outputs": [],
   "source": [
    "# El resto de los códigos no hace sentido ponerlos ya que van encadenados\n",
    "# es necesario fijarse en cada ejemplo"
   ]
  },
  {
   "cell_type": "code",
   "execution_count": null,
   "metadata": {},
   "outputs": [],
   "source": []
  },
  {
   "cell_type": "code",
   "execution_count": null,
   "metadata": {},
   "outputs": [],
   "source": []
  },
  {
   "cell_type": "code",
   "execution_count": null,
   "metadata": {},
   "outputs": [],
   "source": []
  },
  {
   "cell_type": "code",
   "execution_count": null,
   "metadata": {},
   "outputs": [],
   "source": []
  },
  {
   "cell_type": "code",
   "execution_count": null,
   "metadata": {},
   "outputs": [],
   "source": []
  },
  {
   "cell_type": "code",
   "execution_count": null,
   "metadata": {},
   "outputs": [],
   "source": []
  }
 ],
 "metadata": {
  "kernelspec": {
   "display_name": "Python 3",
   "language": "python",
   "name": "python3"
  },
  "language_info": {
   "codemirror_mode": {
    "name": "ipython",
    "version": 3
   },
   "file_extension": ".py",
   "mimetype": "text/x-python",
   "name": "python",
   "nbconvert_exporter": "python",
   "pygments_lexer": "ipython3",
   "version": "3.6.4"
  }
 },
 "nbformat": 4,
 "nbformat_minor": 2
}
