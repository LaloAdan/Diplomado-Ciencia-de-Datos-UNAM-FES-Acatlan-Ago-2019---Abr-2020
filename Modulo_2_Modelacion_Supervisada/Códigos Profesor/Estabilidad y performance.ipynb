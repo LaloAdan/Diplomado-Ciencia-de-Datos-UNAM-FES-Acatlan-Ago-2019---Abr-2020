{
 "cells": [
  {
   "cell_type": "code",
   "execution_count": 1,
   "metadata": {},
   "outputs": [],
   "source": [
    "from sklearn.feature_selection import SelectKBest, f_classif, f_regression\n",
    "from sklearn.linear_model import LogisticRegression, Ridge\n",
    "from sklearn.model_selection import cross_val_score\n",
    "from sklearn.metrics import roc_auc_score, r2_score\n",
    "from datetime import datetime\n",
    "import pandas as pd\n",
    "import numpy as np\n",
    "import pygal"
   ]
  },
  {
   "cell_type": "code",
   "execution_count": 2,
   "metadata": {},
   "outputs": [],
   "source": [
    "def IV(df, var, tgt):\n",
    "    aux = df[[var, tgt]].groupby(var).agg([\"count\", \"sum\"])\n",
    "    aux[\"evento\"] = aux[tgt, \"sum\"]\n",
    "    aux[\"no_evento\"] = aux[tgt, \"count\"] - aux[tgt, \"sum\"]\n",
    "    aux[\"%evento\"] = aux[\"evento\"] / aux[\"evento\"].sum()\n",
    "    aux[\"%no_evento\"] = aux[\"no_evento\"] / aux[\"no_evento\"].sum()\n",
    "    aux[\"WOE\"] = np.log(aux[\"%no_evento\"] / aux[\"%evento\"])\n",
    "    aux[\"IV\"] = (aux[\"%no_evento\"] - aux[\"%evento\"])*aux[\"WOE\"]\n",
    "    return aux[\"IV\"].sum()"
   ]
  },
  {
   "cell_type": "markdown",
   "metadata": {},
   "source": [
    "### Datos"
   ]
  },
  {
   "cell_type": "code",
   "execution_count": 3,
   "metadata": {},
   "outputs": [],
   "source": [
    "df = pd.read_csv(\"/home/oscar/Downloads/OnlineNewsPopularity.csv\").sample(frac = 0.1).reset_index(drop = True)\n",
    "\n",
    "df.columns = [x.strip() for x in df.columns]\n",
    "\n",
    "df[\"success\"] = (df[\"shares\"] > df[\"shares\"].quantile(.5))*1\n",
    "\n",
    "ls_cont = ['n_tokens_title', 'n_tokens_content', 'n_unique_tokens', 'n_non_stop_words', \n",
    "           'n_non_stop_unique_tokens', 'num_hrefs', 'num_self_hrefs', 'num_imgs', 'num_videos', \n",
    "           'average_token_length', 'num_keywords', 'kw_min_min', 'kw_max_min', 'kw_avg_min', \n",
    "           'kw_min_max', 'kw_max_max', 'kw_avg_max', 'kw_min_avg', 'kw_max_avg', 'kw_avg_avg', \n",
    "           'self_reference_min_shares', 'self_reference_max_shares', 'self_reference_avg_sharess', \n",
    "           'LDA_00', 'LDA_01', 'LDA_02', 'LDA_03', 'LDA_04', 'global_subjectivity', \n",
    "           'global_sentiment_polarity', 'global_rate_positive_words', 'global_rate_negative_words',\n",
    "           'rate_positive_words', 'rate_negative_words', 'avg_positive_polarity', 'min_positive_polarity',\n",
    "           'max_positive_polarity', 'avg_negative_polarity', 'min_negative_polarity', \n",
    "           'max_negative_polarity', 'title_subjectivity', 'title_sentiment_polarity', \n",
    "           'abs_title_subjectivity', 'abs_title_sentiment_polarity']\n",
    "target = \"shares\"\n",
    "target_disc = \"success\""
   ]
  },
  {
   "cell_type": "code",
   "execution_count": 4,
   "metadata": {},
   "outputs": [
    {
     "data": {
      "text/html": [
       "<div>\n",
       "<style scoped>\n",
       "    .dataframe tbody tr th:only-of-type {\n",
       "        vertical-align: middle;\n",
       "    }\n",
       "\n",
       "    .dataframe tbody tr th {\n",
       "        vertical-align: top;\n",
       "    }\n",
       "\n",
       "    .dataframe thead th {\n",
       "        text-align: right;\n",
       "    }\n",
       "</style>\n",
       "<table border=\"1\" class=\"dataframe\">\n",
       "  <thead>\n",
       "    <tr style=\"text-align: right;\">\n",
       "      <th></th>\n",
       "      <th>url</th>\n",
       "      <th>timedelta</th>\n",
       "      <th>n_tokens_title</th>\n",
       "      <th>n_tokens_content</th>\n",
       "      <th>n_unique_tokens</th>\n",
       "      <th>n_non_stop_words</th>\n",
       "      <th>n_non_stop_unique_tokens</th>\n",
       "      <th>num_hrefs</th>\n",
       "      <th>num_self_hrefs</th>\n",
       "      <th>num_imgs</th>\n",
       "      <th>...</th>\n",
       "      <th>max_positive_polarity</th>\n",
       "      <th>avg_negative_polarity</th>\n",
       "      <th>min_negative_polarity</th>\n",
       "      <th>max_negative_polarity</th>\n",
       "      <th>title_subjectivity</th>\n",
       "      <th>title_sentiment_polarity</th>\n",
       "      <th>abs_title_subjectivity</th>\n",
       "      <th>abs_title_sentiment_polarity</th>\n",
       "      <th>shares</th>\n",
       "      <th>success</th>\n",
       "    </tr>\n",
       "  </thead>\n",
       "  <tbody>\n",
       "    <tr>\n",
       "      <th>0</th>\n",
       "      <td>http://mashable.com/2013/06/13/bird-apps-confu...</td>\n",
       "      <td>574.0</td>\n",
       "      <td>6.0</td>\n",
       "      <td>932.0</td>\n",
       "      <td>0.496696</td>\n",
       "      <td>1.0</td>\n",
       "      <td>0.677305</td>\n",
       "      <td>17.0</td>\n",
       "      <td>0.0</td>\n",
       "      <td>1.0</td>\n",
       "      <td>...</td>\n",
       "      <td>1.0</td>\n",
       "      <td>-0.222768</td>\n",
       "      <td>-0.666667</td>\n",
       "      <td>-0.050000</td>\n",
       "      <td>0.000000</td>\n",
       "      <td>0.000000</td>\n",
       "      <td>0.500000</td>\n",
       "      <td>0.000000</td>\n",
       "      <td>393</td>\n",
       "      <td>0</td>\n",
       "    </tr>\n",
       "    <tr>\n",
       "      <th>1</th>\n",
       "      <td>http://mashable.com/2013/09/16/vine-red-carpet/</td>\n",
       "      <td>479.0</td>\n",
       "      <td>15.0</td>\n",
       "      <td>195.0</td>\n",
       "      <td>0.645833</td>\n",
       "      <td>1.0</td>\n",
       "      <td>0.820513</td>\n",
       "      <td>6.0</td>\n",
       "      <td>3.0</td>\n",
       "      <td>0.0</td>\n",
       "      <td>...</td>\n",
       "      <td>0.5</td>\n",
       "      <td>-0.162500</td>\n",
       "      <td>-0.200000</td>\n",
       "      <td>-0.125000</td>\n",
       "      <td>0.000000</td>\n",
       "      <td>0.000000</td>\n",
       "      <td>0.500000</td>\n",
       "      <td>0.000000</td>\n",
       "      <td>924</td>\n",
       "      <td>0</td>\n",
       "    </tr>\n",
       "    <tr>\n",
       "      <th>2</th>\n",
       "      <td>http://mashable.com/2014/11/11/utah-ski-season/</td>\n",
       "      <td>56.0</td>\n",
       "      <td>13.0</td>\n",
       "      <td>296.0</td>\n",
       "      <td>0.624113</td>\n",
       "      <td>1.0</td>\n",
       "      <td>0.758242</td>\n",
       "      <td>3.0</td>\n",
       "      <td>2.0</td>\n",
       "      <td>0.0</td>\n",
       "      <td>...</td>\n",
       "      <td>0.5</td>\n",
       "      <td>0.000000</td>\n",
       "      <td>0.000000</td>\n",
       "      <td>0.000000</td>\n",
       "      <td>1.000000</td>\n",
       "      <td>0.500000</td>\n",
       "      <td>0.500000</td>\n",
       "      <td>0.500000</td>\n",
       "      <td>1000</td>\n",
       "      <td>0</td>\n",
       "    </tr>\n",
       "    <tr>\n",
       "      <th>3</th>\n",
       "      <td>http://mashable.com/2014/06/05/kittens-turn-do...</td>\n",
       "      <td>217.0</td>\n",
       "      <td>13.0</td>\n",
       "      <td>549.0</td>\n",
       "      <td>0.519409</td>\n",
       "      <td>1.0</td>\n",
       "      <td>0.701863</td>\n",
       "      <td>2.0</td>\n",
       "      <td>2.0</td>\n",
       "      <td>2.0</td>\n",
       "      <td>...</td>\n",
       "      <td>0.6</td>\n",
       "      <td>-0.362720</td>\n",
       "      <td>-1.000000</td>\n",
       "      <td>-0.050000</td>\n",
       "      <td>0.568182</td>\n",
       "      <td>-0.037879</td>\n",
       "      <td>0.068182</td>\n",
       "      <td>0.037879</td>\n",
       "      <td>1800</td>\n",
       "      <td>1</td>\n",
       "    </tr>\n",
       "    <tr>\n",
       "      <th>4</th>\n",
       "      <td>http://mashable.com/2013/01/23/wind-waker-hd-z...</td>\n",
       "      <td>715.0</td>\n",
       "      <td>11.0</td>\n",
       "      <td>611.0</td>\n",
       "      <td>0.433278</td>\n",
       "      <td>1.0</td>\n",
       "      <td>0.544959</td>\n",
       "      <td>1.0</td>\n",
       "      <td>0.0</td>\n",
       "      <td>1.0</td>\n",
       "      <td>...</td>\n",
       "      <td>1.0</td>\n",
       "      <td>-0.269246</td>\n",
       "      <td>-0.400000</td>\n",
       "      <td>-0.071429</td>\n",
       "      <td>0.454545</td>\n",
       "      <td>0.136364</td>\n",
       "      <td>0.045455</td>\n",
       "      <td>0.136364</td>\n",
       "      <td>6000</td>\n",
       "      <td>1</td>\n",
       "    </tr>\n",
       "    <tr>\n",
       "      <th>...</th>\n",
       "      <td>...</td>\n",
       "      <td>...</td>\n",
       "      <td>...</td>\n",
       "      <td>...</td>\n",
       "      <td>...</td>\n",
       "      <td>...</td>\n",
       "      <td>...</td>\n",
       "      <td>...</td>\n",
       "      <td>...</td>\n",
       "      <td>...</td>\n",
       "      <td>...</td>\n",
       "      <td>...</td>\n",
       "      <td>...</td>\n",
       "      <td>...</td>\n",
       "      <td>...</td>\n",
       "      <td>...</td>\n",
       "      <td>...</td>\n",
       "      <td>...</td>\n",
       "      <td>...</td>\n",
       "      <td>...</td>\n",
       "      <td>...</td>\n",
       "    </tr>\n",
       "    <tr>\n",
       "      <th>3959</th>\n",
       "      <td>http://mashable.com/2013/07/20/pets-like-us/</td>\n",
       "      <td>537.0</td>\n",
       "      <td>9.0</td>\n",
       "      <td>229.0</td>\n",
       "      <td>0.699115</td>\n",
       "      <td>1.0</td>\n",
       "      <td>0.877698</td>\n",
       "      <td>8.0</td>\n",
       "      <td>4.0</td>\n",
       "      <td>0.0</td>\n",
       "      <td>...</td>\n",
       "      <td>0.5</td>\n",
       "      <td>-0.241667</td>\n",
       "      <td>-0.666667</td>\n",
       "      <td>-0.125000</td>\n",
       "      <td>0.000000</td>\n",
       "      <td>0.000000</td>\n",
       "      <td>0.500000</td>\n",
       "      <td>0.000000</td>\n",
       "      <td>892</td>\n",
       "      <td>0</td>\n",
       "    </tr>\n",
       "    <tr>\n",
       "      <th>3960</th>\n",
       "      <td>http://mashable.com/2014/08/23/merkel-cease-fi...</td>\n",
       "      <td>137.0</td>\n",
       "      <td>7.0</td>\n",
       "      <td>166.0</td>\n",
       "      <td>0.713415</td>\n",
       "      <td>1.0</td>\n",
       "      <td>0.902174</td>\n",
       "      <td>5.0</td>\n",
       "      <td>3.0</td>\n",
       "      <td>1.0</td>\n",
       "      <td>...</td>\n",
       "      <td>0.5</td>\n",
       "      <td>-0.218519</td>\n",
       "      <td>-0.300000</td>\n",
       "      <td>-0.155556</td>\n",
       "      <td>0.000000</td>\n",
       "      <td>0.000000</td>\n",
       "      <td>0.500000</td>\n",
       "      <td>0.000000</td>\n",
       "      <td>1600</td>\n",
       "      <td>1</td>\n",
       "    </tr>\n",
       "    <tr>\n",
       "      <th>3961</th>\n",
       "      <td>http://mashable.com/2013/07/02/zynga-ceo-brief/</td>\n",
       "      <td>554.0</td>\n",
       "      <td>6.0</td>\n",
       "      <td>458.0</td>\n",
       "      <td>0.537585</td>\n",
       "      <td>1.0</td>\n",
       "      <td>0.726923</td>\n",
       "      <td>34.0</td>\n",
       "      <td>15.0</td>\n",
       "      <td>1.0</td>\n",
       "      <td>...</td>\n",
       "      <td>0.6</td>\n",
       "      <td>-0.307540</td>\n",
       "      <td>-0.500000</td>\n",
       "      <td>-0.050000</td>\n",
       "      <td>0.000000</td>\n",
       "      <td>0.000000</td>\n",
       "      <td>0.500000</td>\n",
       "      <td>0.000000</td>\n",
       "      <td>2300</td>\n",
       "      <td>1</td>\n",
       "    </tr>\n",
       "    <tr>\n",
       "      <th>3962</th>\n",
       "      <td>http://mashable.com/2014/06/16/dad-tattoo-reac...</td>\n",
       "      <td>206.0</td>\n",
       "      <td>9.0</td>\n",
       "      <td>303.0</td>\n",
       "      <td>0.594684</td>\n",
       "      <td>1.0</td>\n",
       "      <td>0.769634</td>\n",
       "      <td>12.0</td>\n",
       "      <td>5.0</td>\n",
       "      <td>1.0</td>\n",
       "      <td>...</td>\n",
       "      <td>0.6</td>\n",
       "      <td>-0.166667</td>\n",
       "      <td>-0.166667</td>\n",
       "      <td>-0.166667</td>\n",
       "      <td>0.000000</td>\n",
       "      <td>0.000000</td>\n",
       "      <td>0.500000</td>\n",
       "      <td>0.000000</td>\n",
       "      <td>1300</td>\n",
       "      <td>0</td>\n",
       "    </tr>\n",
       "    <tr>\n",
       "      <th>3963</th>\n",
       "      <td>http://mashable.com/2013/10/07/nasas-new-moon-...</td>\n",
       "      <td>458.0</td>\n",
       "      <td>10.0</td>\n",
       "      <td>645.0</td>\n",
       "      <td>0.502439</td>\n",
       "      <td>1.0</td>\n",
       "      <td>0.605000</td>\n",
       "      <td>31.0</td>\n",
       "      <td>0.0</td>\n",
       "      <td>1.0</td>\n",
       "      <td>...</td>\n",
       "      <td>1.0</td>\n",
       "      <td>-0.171081</td>\n",
       "      <td>-0.375000</td>\n",
       "      <td>-0.050000</td>\n",
       "      <td>0.000000</td>\n",
       "      <td>0.000000</td>\n",
       "      <td>0.500000</td>\n",
       "      <td>0.000000</td>\n",
       "      <td>1200</td>\n",
       "      <td>0</td>\n",
       "    </tr>\n",
       "  </tbody>\n",
       "</table>\n",
       "<p>3964 rows × 62 columns</p>\n",
       "</div>"
      ],
      "text/plain": [
       "                                                    url  timedelta  \\\n",
       "0     http://mashable.com/2013/06/13/bird-apps-confu...      574.0   \n",
       "1       http://mashable.com/2013/09/16/vine-red-carpet/      479.0   \n",
       "2       http://mashable.com/2014/11/11/utah-ski-season/       56.0   \n",
       "3     http://mashable.com/2014/06/05/kittens-turn-do...      217.0   \n",
       "4     http://mashable.com/2013/01/23/wind-waker-hd-z...      715.0   \n",
       "...                                                 ...        ...   \n",
       "3959       http://mashable.com/2013/07/20/pets-like-us/      537.0   \n",
       "3960  http://mashable.com/2014/08/23/merkel-cease-fi...      137.0   \n",
       "3961    http://mashable.com/2013/07/02/zynga-ceo-brief/      554.0   \n",
       "3962  http://mashable.com/2014/06/16/dad-tattoo-reac...      206.0   \n",
       "3963  http://mashable.com/2013/10/07/nasas-new-moon-...      458.0   \n",
       "\n",
       "      n_tokens_title  n_tokens_content  n_unique_tokens  n_non_stop_words  \\\n",
       "0                6.0             932.0         0.496696               1.0   \n",
       "1               15.0             195.0         0.645833               1.0   \n",
       "2               13.0             296.0         0.624113               1.0   \n",
       "3               13.0             549.0         0.519409               1.0   \n",
       "4               11.0             611.0         0.433278               1.0   \n",
       "...              ...               ...              ...               ...   \n",
       "3959             9.0             229.0         0.699115               1.0   \n",
       "3960             7.0             166.0         0.713415               1.0   \n",
       "3961             6.0             458.0         0.537585               1.0   \n",
       "3962             9.0             303.0         0.594684               1.0   \n",
       "3963            10.0             645.0         0.502439               1.0   \n",
       "\n",
       "      n_non_stop_unique_tokens  num_hrefs  num_self_hrefs  num_imgs  ...  \\\n",
       "0                     0.677305       17.0             0.0       1.0  ...   \n",
       "1                     0.820513        6.0             3.0       0.0  ...   \n",
       "2                     0.758242        3.0             2.0       0.0  ...   \n",
       "3                     0.701863        2.0             2.0       2.0  ...   \n",
       "4                     0.544959        1.0             0.0       1.0  ...   \n",
       "...                        ...        ...             ...       ...  ...   \n",
       "3959                  0.877698        8.0             4.0       0.0  ...   \n",
       "3960                  0.902174        5.0             3.0       1.0  ...   \n",
       "3961                  0.726923       34.0            15.0       1.0  ...   \n",
       "3962                  0.769634       12.0             5.0       1.0  ...   \n",
       "3963                  0.605000       31.0             0.0       1.0  ...   \n",
       "\n",
       "      max_positive_polarity  avg_negative_polarity  min_negative_polarity  \\\n",
       "0                       1.0              -0.222768              -0.666667   \n",
       "1                       0.5              -0.162500              -0.200000   \n",
       "2                       0.5               0.000000               0.000000   \n",
       "3                       0.6              -0.362720              -1.000000   \n",
       "4                       1.0              -0.269246              -0.400000   \n",
       "...                     ...                    ...                    ...   \n",
       "3959                    0.5              -0.241667              -0.666667   \n",
       "3960                    0.5              -0.218519              -0.300000   \n",
       "3961                    0.6              -0.307540              -0.500000   \n",
       "3962                    0.6              -0.166667              -0.166667   \n",
       "3963                    1.0              -0.171081              -0.375000   \n",
       "\n",
       "      max_negative_polarity  title_subjectivity  title_sentiment_polarity  \\\n",
       "0                 -0.050000            0.000000                  0.000000   \n",
       "1                 -0.125000            0.000000                  0.000000   \n",
       "2                  0.000000            1.000000                  0.500000   \n",
       "3                 -0.050000            0.568182                 -0.037879   \n",
       "4                 -0.071429            0.454545                  0.136364   \n",
       "...                     ...                 ...                       ...   \n",
       "3959              -0.125000            0.000000                  0.000000   \n",
       "3960              -0.155556            0.000000                  0.000000   \n",
       "3961              -0.050000            0.000000                  0.000000   \n",
       "3962              -0.166667            0.000000                  0.000000   \n",
       "3963              -0.050000            0.000000                  0.000000   \n",
       "\n",
       "      abs_title_subjectivity  abs_title_sentiment_polarity  shares  success  \n",
       "0                   0.500000                      0.000000     393        0  \n",
       "1                   0.500000                      0.000000     924        0  \n",
       "2                   0.500000                      0.500000    1000        0  \n",
       "3                   0.068182                      0.037879    1800        1  \n",
       "4                   0.045455                      0.136364    6000        1  \n",
       "...                      ...                           ...     ...      ...  \n",
       "3959                0.500000                      0.000000     892        0  \n",
       "3960                0.500000                      0.000000    1600        1  \n",
       "3961                0.500000                      0.000000    2300        1  \n",
       "3962                0.500000                      0.000000    1300        0  \n",
       "3963                0.500000                      0.000000    1200        0  \n",
       "\n",
       "[3964 rows x 62 columns]"
      ]
     },
     "execution_count": 4,
     "metadata": {},
     "output_type": "execute_result"
    }
   ],
   "source": [
    "df"
   ]
  },
  {
   "cell_type": "code",
   "execution_count": 11,
   "metadata": {},
   "outputs": [],
   "source": [
    "df[\"date\"] = pd.to_datetime(df[\"url\"].str.split(\"/\").str[3:6].str.join(\"/\"))\n",
    "df[\"month\"] = df[\"date\"].dt.strftime(\"%Y-%m-01\")"
   ]
  },
  {
   "cell_type": "code",
   "execution_count": 14,
   "metadata": {},
   "outputs": [
    {
     "data": {
      "text/plain": [
       "['2013-01-01',\n",
       " '2013-02-01',\n",
       " '2013-03-01',\n",
       " '2013-04-01',\n",
       " '2013-05-01',\n",
       " '2013-06-01',\n",
       " '2013-07-01',\n",
       " '2013-08-01',\n",
       " '2013-09-01',\n",
       " '2013-10-01',\n",
       " '2013-11-01',\n",
       " '2013-12-01',\n",
       " '2014-01-01',\n",
       " '2014-02-01',\n",
       " '2014-03-01',\n",
       " '2014-04-01',\n",
       " '2014-05-01',\n",
       " '2014-06-01',\n",
       " '2014-07-01',\n",
       " '2014-08-01',\n",
       " '2014-09-01',\n",
       " '2014-10-01',\n",
       " '2014-11-01',\n",
       " '2014-12-01']"
      ]
     },
     "execution_count": 14,
     "metadata": {},
     "output_type": "execute_result"
    }
   ],
   "source": [
    "sorted(df[\"month\"].unique())"
   ]
  },
  {
   "cell_type": "code",
   "execution_count": 16,
   "metadata": {},
   "outputs": [],
   "source": [
    "validate = df[df[\"date\"] >= datetime(2014, 6, 1)].reset_index(drop = True).copy()\n",
    "train = df.drop(index = validate.index).reset_index(drop = True).copy()"
   ]
  },
  {
   "cell_type": "code",
   "execution_count": 17,
   "metadata": {},
   "outputs": [],
   "source": [
    "train = train[train[target] <= 32000].reset_index(drop = True)"
   ]
  },
  {
   "cell_type": "code",
   "execution_count": 18,
   "metadata": {},
   "outputs": [],
   "source": [
    "Xt = train[ls_cont]\n",
    "yr = train[target]\n",
    "yc = train[target_disc]"
   ]
  },
  {
   "cell_type": "markdown",
   "metadata": {},
   "source": [
    "### Modelado "
   ]
  },
  {
   "cell_type": "code",
   "execution_count": 19,
   "metadata": {},
   "outputs": [],
   "source": [
    "logreg = LogisticRegression()"
   ]
  },
  {
   "cell_type": "code",
   "execution_count": 20,
   "metadata": {},
   "outputs": [
    {
     "name": "stderr",
     "output_type": "stream",
     "text": [
      "/home/oscar/VirtualEnvs/Python3/lib/python3.6/site-packages/sklearn/linear_model/logistic.py:432: FutureWarning: Default solver will be changed to 'lbfgs' in 0.22. Specify a solver to silence this warning.\n",
      "  FutureWarning)\n"
     ]
    },
    {
     "data": {
      "text/plain": [
       "LogisticRegression(C=1.0, class_weight=None, dual=False, fit_intercept=True,\n",
       "                   intercept_scaling=1, l1_ratio=None, max_iter=100,\n",
       "                   multi_class='warn', n_jobs=None, penalty='l2',\n",
       "                   random_state=None, solver='warn', tol=0.0001, verbose=0,\n",
       "                   warm_start=False)"
      ]
     },
     "execution_count": 20,
     "metadata": {},
     "output_type": "execute_result"
    }
   ],
   "source": [
    "logreg.fit(Xt, yc)"
   ]
  },
  {
   "cell_type": "code",
   "execution_count": 21,
   "metadata": {},
   "outputs": [
    {
     "name": "stdout",
     "output_type": "stream",
     "text": [
      "CPU times: user 50.1 ms, sys: 42.8 ms, total: 92.9 ms\n",
      "Wall time: 1.84 s\n"
     ]
    }
   ],
   "source": [
    "%%time\n",
    "ls_score = cross_val_score(estimator=logreg, X = Xt, y=yc, n_jobs=-1, scoring=\"roc_auc\", cv = 4)"
   ]
  },
  {
   "cell_type": "code",
   "execution_count": 22,
   "metadata": {},
   "outputs": [
    {
     "data": {
      "text/plain": [
       "(0.6357567791036255, 0.016842879235541796)"
      ]
     },
     "execution_count": 22,
     "metadata": {},
     "output_type": "execute_result"
    }
   ],
   "source": [
    "np.mean(ls_score), np.std(ls_score)"
   ]
  },
  {
   "cell_type": "code",
   "execution_count": 23,
   "metadata": {},
   "outputs": [],
   "source": [
    "validate[\"yc_hat\"] = logreg.predict(validate[ls_cont])"
   ]
  },
  {
   "cell_type": "code",
   "execution_count": 24,
   "metadata": {},
   "outputs": [],
   "source": [
    "linreg = Ridge()"
   ]
  },
  {
   "cell_type": "code",
   "execution_count": 25,
   "metadata": {},
   "outputs": [
    {
     "data": {
      "text/plain": [
       "Ridge(alpha=1.0, copy_X=True, fit_intercept=True, max_iter=None,\n",
       "      normalize=False, random_state=None, solver='auto', tol=0.001)"
      ]
     },
     "execution_count": 25,
     "metadata": {},
     "output_type": "execute_result"
    }
   ],
   "source": [
    "linreg.fit(Xt, yr)"
   ]
  },
  {
   "cell_type": "code",
   "execution_count": 26,
   "metadata": {},
   "outputs": [
    {
     "name": "stdout",
     "output_type": "stream",
     "text": [
      "CPU times: user 39.9 ms, sys: 24.2 ms, total: 64.1 ms\n",
      "Wall time: 1.66 s\n"
     ]
    }
   ],
   "source": [
    "%%time\n",
    "ls_score = cross_val_score(estimator=linreg, X = Xt, y=yr, n_jobs=-1, scoring=\"r2\", cv = 4)"
   ]
  },
  {
   "cell_type": "code",
   "execution_count": 27,
   "metadata": {},
   "outputs": [
    {
     "data": {
      "text/plain": [
       "(0.037388863831898544, 0.009569933972763804)"
      ]
     },
     "execution_count": 27,
     "metadata": {},
     "output_type": "execute_result"
    }
   ],
   "source": [
    "np.mean(ls_score), np.std(ls_score)"
   ]
  },
  {
   "cell_type": "code",
   "execution_count": 28,
   "metadata": {},
   "outputs": [],
   "source": [
    "validate[\"yr_hat\"] = linreg.predict(validate[ls_cont])"
   ]
  },
  {
   "cell_type": "markdown",
   "metadata": {},
   "source": [
    "### PSI"
   ]
  },
  {
   "cell_type": "code",
   "execution_count": 32,
   "metadata": {},
   "outputs": [],
   "source": [
    "dc_bins = {}\n",
    "for feat in ls_cont:\n",
    "    dc_bins.update({feat: pd.cut(Xt[feat], bins=3, retbins=True)[1]})"
   ]
  },
  {
   "cell_type": "code",
   "execution_count": 33,
   "metadata": {},
   "outputs": [
    {
     "data": {
      "text/plain": [
       "44"
      ]
     },
     "execution_count": 33,
     "metadata": {},
     "output_type": "execute_result"
    }
   ],
   "source": [
    "len(ls_cont)"
   ]
  },
  {
   "cell_type": "code",
   "execution_count": 54,
   "metadata": {},
   "outputs": [
    {
     "name": "stdout",
     "output_type": "stream",
     "text": [
      "PSI of n_tokens_title in 2014-06-01: 0.05247938435646082\n",
      "PSI of n_tokens_title in 2014-07-01: 0.00260371790649619\n",
      "PSI of n_tokens_title in 2014-08-01: 0.05111806080083772\n",
      "PSI of n_tokens_title in 2014-09-01: 0.03995400468245908\n",
      "PSI of n_tokens_title in 2014-10-01: 0.08387750980904031\n",
      "PSI of n_tokens_title in 2014-11-01: 0.12381160738896516\n",
      "PSI of n_tokens_title in 2014-12-01: 0.16045489061955925\n"
     ]
    }
   ],
   "source": [
    "for feat in dc_bins.keys():\n",
    "    for mes in sorted(validate[\"month\"].unique()):\n",
    "        aux_t = pd.cut(Xt[feat], bins=dc_bins[feat]).value_counts(True).reset_index().rename(columns = {feat: f\"{feat}_train\"})\n",
    "        aux_v = pd.cut(validate.loc[validate[\"month\"] == mes, feat], bins=dc_bins[feat]).value_counts(True).reset_index().rename(columns = {feat: f\"{feat}_valid\"})\n",
    "        aux = aux_t.merge(aux_v, on = \"index\")\n",
    "        aux[\"diff\"] = aux[f\"{feat}_valid\"] - aux[f\"{feat}_train\"]\n",
    "        aux[\"log\"] = np.log(aux[f\"{feat}_valid\"] / aux[f\"{feat}_train\"])\n",
    "        aux[\"PSI\"] = aux[\"diff\"] * aux[\"log\"]\n",
    "        print(f'PSI of {feat} in {mes}: {aux[\"PSI\"].sum()}')\n",
    "    break"
   ]
  },
  {
   "cell_type": "markdown",
   "metadata": {},
   "source": [
    "### Desempeño de poder predictivo "
   ]
  },
  {
   "cell_type": "code",
   "execution_count": 56,
   "metadata": {},
   "outputs": [
    {
     "name": "stdout",
     "output_type": "stream",
     "text": [
      "Predictive power of n_tokens_title in 2014-06-01: 0.7234079792749407\n",
      "Predictive power of n_tokens_title in 2014-07-01: 0.45563402749461945\n",
      "Predictive power of n_tokens_title in 2014-08-01: 1.1518257854592437\n",
      "Predictive power of n_tokens_title in 2014-09-01: 4.358942832121547\n",
      "Predictive power of n_tokens_title in 2014-10-01: 0.019103875101970938\n",
      "Predictive power of n_tokens_title in 2014-11-01: 1.147513118973646\n",
      "Predictive power of n_tokens_title in 2014-12-01: 0.8762861330233483\n"
     ]
    }
   ],
   "source": [
    "for feat in ls_cont:\n",
    "    for mes in sorted(validate[\"month\"].unique()):\n",
    "        kb = SelectKBest(k=1, score_func=f_classif)\n",
    "        kb.fit(validate.loc[validate[\"month\"] == mes, [feat]], validate.loc[validate[\"month\"] == mes, \"yc_hat\"])\n",
    "        print(f'Predictive power of {feat} in {mes}: {kb.scores_[0]}')\n",
    "    break "
   ]
  },
  {
   "cell_type": "code",
   "execution_count": 59,
   "metadata": {},
   "outputs": [
    {
     "name": "stdout",
     "output_type": "stream",
     "text": [
      "Predictive power of n_tokens_title in 2014-06-01: 0.11714195335066217\n",
      "Predictive power of n_tokens_title in 2014-07-01: 0.043928616456101105\n",
      "Predictive power of n_tokens_title in 2014-08-01: 0.12588604539759102\n",
      "Predictive power of n_tokens_title in 2014-09-01: 0.08063886186604585\n",
      "Predictive power of n_tokens_title in 2014-10-01: 0.00874500893140444\n",
      "Predictive power of n_tokens_title in 2014-11-01: 0.004765934999443226\n",
      "Predictive power of n_tokens_title in 2014-12-01: 0.2219808976407348\n"
     ]
    }
   ],
   "source": [
    "for feat in ls_cont:\n",
    "    for mes in sorted(validate[\"month\"].unique()):\n",
    "        validate[f\"C_{feat}\"] = pd.cut(validate[feat], bins=dc_bins[feat])\n",
    "        print(f'Predictive power of {feat} in {mes}: {IV(validate[validate[\"month\"] == mes], f\"C_{feat}\", \"yc_hat\")}')\n",
    "    break"
   ]
  },
  {
   "cell_type": "markdown",
   "metadata": {},
   "source": [
    "### Estabilidad de las características "
   ]
  },
  {
   "cell_type": "code",
   "execution_count": 60,
   "metadata": {},
   "outputs": [
    {
     "name": "stdout",
     "output_type": "stream",
     "text": [
      "Stability KS of n_tokens_title in 2014-06-01: 0.06049008400019881\n",
      "Stability KS of n_tokens_title in 2014-07-01: 0.013162485100444807\n",
      "Stability KS of n_tokens_title in 2014-08-01: 0.05744687036660173\n",
      "Stability KS of n_tokens_title in 2014-09-01: 0.05034708433275617\n",
      "Stability KS of n_tokens_title in 2014-10-01: 0.09669533784530565\n",
      "Stability KS of n_tokens_title in 2014-11-01: 0.10830406795303982\n",
      "Stability KS of n_tokens_title in 2014-12-01: 0.12047380585516179\n"
     ]
    }
   ],
   "source": [
    "for feat in dc_bins.keys():\n",
    "    for mes in sorted(validate[\"month\"].unique()):\n",
    "        aux_t = pd.cut(Xt[feat], bins=dc_bins[feat]).value_counts(True).reset_index().rename(columns = {feat: f\"{feat}_train\"})\n",
    "        aux_v = pd.cut(validate.loc[validate[\"month\"] == mes, feat], bins=dc_bins[feat]).value_counts(True).reset_index().rename(columns = {feat: f\"{feat}_valid\"})\n",
    "        aux = aux_t.merge(aux_v, on = \"index\")\n",
    "        aux[\"diff\"] = abs(aux[f\"{feat}_valid\"] - aux[f\"{feat}_train\"])\n",
    "        print(f'Stability KS of {feat} in {mes}: {max(aux[\"diff\"])}')\n",
    "    break"
   ]
  },
  {
   "cell_type": "markdown",
   "metadata": {},
   "source": [
    "### Performance "
   ]
  },
  {
   "cell_type": "code",
   "execution_count": 61,
   "metadata": {},
   "outputs": [
    {
     "name": "stdout",
     "output_type": "stream",
     "text": [
      "2014-06-01 0.5893848288621648\n",
      "2014-07-01 0.5769794721407625\n",
      "2014-08-01 0.641566265060241\n",
      "2014-09-01 0.5665382498624105\n",
      "2014-10-01 0.6447080291970803\n",
      "2014-11-01 0.5736386138613861\n",
      "2014-12-01 0.627831715210356\n"
     ]
    }
   ],
   "source": [
    "for month in sorted(validate[\"month\"].unique()):\n",
    "    aux = validate[validate[\"month\"] == month]\n",
    "    print(month, roc_auc_score(y_score=aux[\"yc_hat\"], y_true=aux[\"success\"]))"
   ]
  },
  {
   "cell_type": "code",
   "execution_count": 63,
   "metadata": {},
   "outputs": [
    {
     "name": "stdout",
     "output_type": "stream",
     "text": [
      "2014-06-01 0.17313847291681794\n",
      "2014-07-01 0.002928026381499138\n",
      "2014-08-01 0.0543089310363819\n",
      "2014-09-01 0.030727747465078892\n",
      "2014-10-01 0.05470464145138132\n",
      "2014-11-01 -0.01204832346411111\n",
      "2014-12-01 0.0359006434397906\n"
     ]
    }
   ],
   "source": [
    "for month in sorted(validate[\"month\"].unique()):\n",
    "    aux = validate[validate[\"month\"] == month]\n",
    "    print(month, r2_score(y_pred=aux[\"yr_hat\"], y_true=aux[\"shares\"]))"
   ]
  },
  {
   "cell_type": "code",
   "execution_count": null,
   "metadata": {},
   "outputs": [],
   "source": []
  }
 ],
 "metadata": {
  "kernelspec": {
   "display_name": "Python 3",
   "language": "python",
   "name": "python3"
  },
  "language_info": {
   "codemirror_mode": {
    "name": "ipython",
    "version": 3
   },
   "file_extension": ".py",
   "mimetype": "text/x-python",
   "name": "python",
   "nbconvert_exporter": "python",
   "pygments_lexer": "ipython3",
   "version": "3.6.4"
  }
 },
 "nbformat": 4,
 "nbformat_minor": 2
}
