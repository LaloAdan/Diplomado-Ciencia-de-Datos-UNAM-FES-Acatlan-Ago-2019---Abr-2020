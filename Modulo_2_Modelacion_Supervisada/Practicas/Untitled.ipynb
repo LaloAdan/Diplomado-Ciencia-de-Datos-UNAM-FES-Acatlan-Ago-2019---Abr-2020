{
 "cells": [
  {
   "cell_type": "code",
   "execution_count": 3,
   "metadata": {},
   "outputs": [],
   "source": [
    "%config IPCompleter.greedy=True\n",
    "import os\n",
    "import pygal\n",
    "import numpy as np\n",
    "import pandas as pd\n",
    "from pandas.io.json import json_normalize\n",
    "import cairosvg\n",
    "import datetime\n",
    "import matplotlib.pyplot as plt\n",
    "from scipy.stats import ks_2samp\n",
    "from scipy.stats import chisquare\n",
    "from sklearn.linear_model import LinearRegression, LogisticRegression\n",
    "from sklearn.feature_selection import SelectKBest, f_regression\n",
    "from sklearn.metrics import r2_score, roc_auc_score, roc_curve\n",
    "\n",
    "from sklearn.model_selection import cross_val_score\n",
    "from sklearn.linear_model import LinearRegression, Lars, ElasticNet, Lasso, Ridge, BayesianRidge\n",
    "pd.set_option('display.float_format', lambda x: \"{:,.2f}\".format(x))\n",
    "path_datos = \"/home/lalo/Documentos/Diplomado Ciencia de Datos/Modulo 2 Modelaciòn Supervisada/Bases de Datos/Wine quality/\""
   ]
  },
  {
   "cell_type": "code",
   "execution_count": 14,
   "metadata": {},
   "outputs": [
    {
     "name": "stdout",
     "output_type": "stream",
     "text": [
      "(1599, 12) (4898, 12)\n"
     ]
    }
   ],
   "source": [
    "df_red = pd.read_csv(path_datos + \"winequality-red.csv\",sep = ';')\n",
    "df_red_aux = pd.read_csv(path_datos + \"winequality-red.csv\",sep = ';')\n",
    "\n",
    "df_white = pd.read_csv(path_datos + \"winequality-white.csv\",sep = ';')\n",
    "df_white_aux = pd.read_csv(path_datos + \"winequality-white.csv\",sep = ';')\n",
    "\n",
    "print(df_red.shape, df_white.shape)"
   ]
  },
  {
   "cell_type": "code",
   "execution_count": 15,
   "metadata": {
    "collapsed": true
   },
   "outputs": [
    {
     "data": {
      "text/plain": [
       "['fixed acidity',\n",
       " 'volatile acidity',\n",
       " 'citric acid',\n",
       " 'residual sugar',\n",
       " 'chlorides',\n",
       " 'free sulfur dioxide',\n",
       " 'total sulfur dioxide',\n",
       " 'density',\n",
       " 'pH',\n",
       " 'sulphates',\n",
       " 'alcohol',\n",
       " 'quality']"
      ]
     },
     "execution_count": 15,
     "metadata": {},
     "output_type": "execute_result"
    }
   ],
   "source": [
    "ls_pred = [x for x in df_white.columns]\n",
    "ls_pred"
   ]
  },
  {
   "cell_type": "code",
   "execution_count": 17,
   "metadata": {},
   "outputs": [
    {
     "name": "stdout",
     "output_type": "stream",
     "text": [
      "(4898, 12) (4898, 12)\n"
     ]
    }
   ],
   "source": [
    "df_white = pd.read_csv(path_datos + \"winequality-white.csv\",sep = ';')\n",
    "df_white_aux = pd.read_csv(path_datos + \"winequality-white.csv\",sep = ';')\n",
    "\n",
    "print(df_white.shape,df_white_aux.shape)"
   ]
  },
  {
   "cell_type": "code",
   "execution_count": 18,
   "metadata": {},
   "outputs": [],
   "source": [
    "def New_pob_var_sigma(data_origen,var, enes=3):\n",
    "    data = pd.DataFrame(data_origen)\n",
    "    \n",
    "    sigma = data[var].std()\n",
    "    media = data[var].mean()\n",
    "    lim_inf  = media - enes*sigma\n",
    "    lim_sup = media + enes*sigma\n",
    "    \n",
    "    return lim_inf,lim_sup"
   ]
  },
  {
   "cell_type": "code",
   "execution_count": 19,
   "metadata": {},
   "outputs": [
    {
     "data": {
      "text/plain": [
       "(4739, 12)"
      ]
     },
     "execution_count": 19,
     "metadata": {},
     "output_type": "execute_result"
    }
   ],
   "source": [
    "for var_cont_i in ls_pred:\n",
    "# Se calculan las cotas superiores e inferiores de cada variable de la tabla original  (df)\n",
    "# Asì no afectamos que se haya reducido la poblaciòn\n",
    "    Cota_Inf, Cota_Sup = New_pob_var_sigma(df_white,var_cont_i,4)\n",
    "    \n",
    "# Se reducirà un dataframe auxiliar, tomando en cuenta los limites del dataframe original\n",
    "    df_white_aux = df_white_aux[(Cota_Inf <= df_white_aux[var_cont_i]) & (df_white_aux[var_cont_i] <= Cota_Sup)]\n",
    "  \n",
    "\n",
    "df_white_aux.shape"
   ]
  },
  {
   "cell_type": "code",
   "execution_count": 20,
   "metadata": {},
   "outputs": [
    {
     "name": "stdout",
     "output_type": "stream",
     "text": [
      "(1599, 12) (1599, 12)\n"
     ]
    }
   ],
   "source": [
    "df_red = pd.read_csv(path_datos + \"winequality-red.csv\",sep = ';')\n",
    "df_red_aux = pd.read_csv(path_datos + \"winequality-red.csv\",sep = ';')\n",
    "\n",
    "print(df_red.shape,df_red_aux.shape)"
   ]
  },
  {
   "cell_type": "code",
   "execution_count": 21,
   "metadata": {},
   "outputs": [
    {
     "data": {
      "text/plain": [
       "(1537, 12)"
      ]
     },
     "execution_count": 21,
     "metadata": {},
     "output_type": "execute_result"
    }
   ],
   "source": [
    "for var_cont_i in ls_pred:\n",
    "# Se calculan las cotas superiores e inferiores de cada variable de la tabla original  (df)\n",
    "# Asì no afectamos que se haya reducido la poblaciòn\n",
    "    Cota_Inf, Cota_Sup = New_pob_var_sigma(df_red,var_cont_i,4)\n",
    "    \n",
    "# Se reducirà un dataframe auxiliar, tomando en cuenta los limites del dataframe original\n",
    "    df_red_aux = df_red_aux[(Cota_Inf <= df_red_aux[var_cont_i]) & (df_red_aux[var_cont_i] <= Cota_Sup)]\n",
    "  \n",
    "\n",
    "df_red_aux.shape"
   ]
  },
  {
   "cell_type": "code",
   "execution_count": null,
   "metadata": {},
   "outputs": [],
   "source": []
  },
  {
   "cell_type": "code",
   "execution_count": 6,
   "metadata": {},
   "outputs": [
    {
     "data": {
      "text/plain": [
       "Index(['fixed acidity;\"volatile acidity\";\"citric acid\";\"residual sugar\";\"chlorides\";\"free sulfur dioxide\";\"total sulfur dioxide\";\"density\";\"pH\";\"sulphates\";\"alcohol\";\"quality\"'], dtype='object')"
      ]
     },
     "execution_count": 6,
     "metadata": {},
     "output_type": "execute_result"
    }
   ],
   "source": [
    "var_object = \"quality\""
   ]
  },
  {
   "cell_type": "code",
   "execution_count": 7,
   "metadata": {},
   "outputs": [],
   "source": [
    "var_object = \"quality\""
   ]
  },
  {
   "cell_type": "code",
   "execution_count": 11,
   "metadata": {},
   "outputs": [
    {
     "data": {
      "text/html": [
       "<div>\n",
       "<style scoped>\n",
       "    .dataframe tbody tr th:only-of-type {\n",
       "        vertical-align: middle;\n",
       "    }\n",
       "\n",
       "    .dataframe tbody tr th {\n",
       "        vertical-align: top;\n",
       "    }\n",
       "\n",
       "    .dataframe thead th {\n",
       "        text-align: right;\n",
       "    }\n",
       "</style>\n",
       "<table border=\"1\" class=\"dataframe\">\n",
       "  <thead>\n",
       "    <tr style=\"text-align: right;\">\n",
       "      <th></th>\n",
       "      <th>fixed acidity</th>\n",
       "      <th>volatile acidity</th>\n",
       "      <th>citric acid</th>\n",
       "      <th>residual sugar</th>\n",
       "      <th>chlorides</th>\n",
       "      <th>free sulfur dioxide</th>\n",
       "      <th>total sulfur dioxide</th>\n",
       "      <th>density</th>\n",
       "      <th>pH</th>\n",
       "      <th>sulphates</th>\n",
       "      <th>alcohol</th>\n",
       "      <th>quality</th>\n",
       "    </tr>\n",
       "  </thead>\n",
       "  <tbody>\n",
       "    <tr>\n",
       "      <th>0</th>\n",
       "      <td>7.40</td>\n",
       "      <td>0.70</td>\n",
       "      <td>0.00</td>\n",
       "      <td>1.90</td>\n",
       "      <td>0.08</td>\n",
       "      <td>11.00</td>\n",
       "      <td>34.00</td>\n",
       "      <td>1.00</td>\n",
       "      <td>3.51</td>\n",
       "      <td>0.56</td>\n",
       "      <td>9.40</td>\n",
       "      <td>5</td>\n",
       "    </tr>\n",
       "    <tr>\n",
       "      <th>1</th>\n",
       "      <td>7.80</td>\n",
       "      <td>0.88</td>\n",
       "      <td>0.00</td>\n",
       "      <td>2.60</td>\n",
       "      <td>0.10</td>\n",
       "      <td>25.00</td>\n",
       "      <td>67.00</td>\n",
       "      <td>1.00</td>\n",
       "      <td>3.20</td>\n",
       "      <td>0.68</td>\n",
       "      <td>9.80</td>\n",
       "      <td>5</td>\n",
       "    </tr>\n",
       "    <tr>\n",
       "      <th>2</th>\n",
       "      <td>7.80</td>\n",
       "      <td>0.76</td>\n",
       "      <td>0.04</td>\n",
       "      <td>2.30</td>\n",
       "      <td>0.09</td>\n",
       "      <td>15.00</td>\n",
       "      <td>54.00</td>\n",
       "      <td>1.00</td>\n",
       "      <td>3.26</td>\n",
       "      <td>0.65</td>\n",
       "      <td>9.80</td>\n",
       "      <td>5</td>\n",
       "    </tr>\n",
       "    <tr>\n",
       "      <th>3</th>\n",
       "      <td>11.20</td>\n",
       "      <td>0.28</td>\n",
       "      <td>0.56</td>\n",
       "      <td>1.90</td>\n",
       "      <td>0.07</td>\n",
       "      <td>17.00</td>\n",
       "      <td>60.00</td>\n",
       "      <td>1.00</td>\n",
       "      <td>3.16</td>\n",
       "      <td>0.58</td>\n",
       "      <td>9.80</td>\n",
       "      <td>6</td>\n",
       "    </tr>\n",
       "    <tr>\n",
       "      <th>4</th>\n",
       "      <td>7.40</td>\n",
       "      <td>0.70</td>\n",
       "      <td>0.00</td>\n",
       "      <td>1.90</td>\n",
       "      <td>0.08</td>\n",
       "      <td>11.00</td>\n",
       "      <td>34.00</td>\n",
       "      <td>1.00</td>\n",
       "      <td>3.51</td>\n",
       "      <td>0.56</td>\n",
       "      <td>9.40</td>\n",
       "      <td>5</td>\n",
       "    </tr>\n",
       "    <tr>\n",
       "      <th>5</th>\n",
       "      <td>7.40</td>\n",
       "      <td>0.66</td>\n",
       "      <td>0.00</td>\n",
       "      <td>1.80</td>\n",
       "      <td>0.07</td>\n",
       "      <td>13.00</td>\n",
       "      <td>40.00</td>\n",
       "      <td>1.00</td>\n",
       "      <td>3.51</td>\n",
       "      <td>0.56</td>\n",
       "      <td>9.40</td>\n",
       "      <td>5</td>\n",
       "    </tr>\n",
       "    <tr>\n",
       "      <th>6</th>\n",
       "      <td>7.90</td>\n",
       "      <td>0.60</td>\n",
       "      <td>0.06</td>\n",
       "      <td>1.60</td>\n",
       "      <td>0.07</td>\n",
       "      <td>15.00</td>\n",
       "      <td>59.00</td>\n",
       "      <td>1.00</td>\n",
       "      <td>3.30</td>\n",
       "      <td>0.46</td>\n",
       "      <td>9.40</td>\n",
       "      <td>5</td>\n",
       "    </tr>\n",
       "    <tr>\n",
       "      <th>7</th>\n",
       "      <td>7.30</td>\n",
       "      <td>0.65</td>\n",
       "      <td>0.00</td>\n",
       "      <td>1.20</td>\n",
       "      <td>0.07</td>\n",
       "      <td>15.00</td>\n",
       "      <td>21.00</td>\n",
       "      <td>0.99</td>\n",
       "      <td>3.39</td>\n",
       "      <td>0.47</td>\n",
       "      <td>10.00</td>\n",
       "      <td>7</td>\n",
       "    </tr>\n",
       "    <tr>\n",
       "      <th>8</th>\n",
       "      <td>7.80</td>\n",
       "      <td>0.58</td>\n",
       "      <td>0.02</td>\n",
       "      <td>2.00</td>\n",
       "      <td>0.07</td>\n",
       "      <td>9.00</td>\n",
       "      <td>18.00</td>\n",
       "      <td>1.00</td>\n",
       "      <td>3.36</td>\n",
       "      <td>0.57</td>\n",
       "      <td>9.50</td>\n",
       "      <td>7</td>\n",
       "    </tr>\n",
       "    <tr>\n",
       "      <th>9</th>\n",
       "      <td>7.50</td>\n",
       "      <td>0.50</td>\n",
       "      <td>0.36</td>\n",
       "      <td>6.10</td>\n",
       "      <td>0.07</td>\n",
       "      <td>17.00</td>\n",
       "      <td>102.00</td>\n",
       "      <td>1.00</td>\n",
       "      <td>3.35</td>\n",
       "      <td>0.80</td>\n",
       "      <td>10.50</td>\n",
       "      <td>5</td>\n",
       "    </tr>\n",
       "  </tbody>\n",
       "</table>\n",
       "</div>"
      ],
      "text/plain": [
       "   fixed acidity  volatile acidity  citric acid  residual sugar  chlorides  \\\n",
       "0           7.40              0.70         0.00            1.90       0.08   \n",
       "1           7.80              0.88         0.00            2.60       0.10   \n",
       "2           7.80              0.76         0.04            2.30       0.09   \n",
       "3          11.20              0.28         0.56            1.90       0.07   \n",
       "4           7.40              0.70         0.00            1.90       0.08   \n",
       "5           7.40              0.66         0.00            1.80       0.07   \n",
       "6           7.90              0.60         0.06            1.60       0.07   \n",
       "7           7.30              0.65         0.00            1.20       0.07   \n",
       "8           7.80              0.58         0.02            2.00       0.07   \n",
       "9           7.50              0.50         0.36            6.10       0.07   \n",
       "\n",
       "   free sulfur dioxide  total sulfur dioxide  density   pH  sulphates  \\\n",
       "0                11.00                 34.00     1.00 3.51       0.56   \n",
       "1                25.00                 67.00     1.00 3.20       0.68   \n",
       "2                15.00                 54.00     1.00 3.26       0.65   \n",
       "3                17.00                 60.00     1.00 3.16       0.58   \n",
       "4                11.00                 34.00     1.00 3.51       0.56   \n",
       "5                13.00                 40.00     1.00 3.51       0.56   \n",
       "6                15.00                 59.00     1.00 3.30       0.46   \n",
       "7                15.00                 21.00     0.99 3.39       0.47   \n",
       "8                 9.00                 18.00     1.00 3.36       0.57   \n",
       "9                17.00                102.00     1.00 3.35       0.80   \n",
       "\n",
       "   alcohol  quality  \n",
       "0     9.40        5  \n",
       "1     9.80        5  \n",
       "2     9.80        5  \n",
       "3     9.80        6  \n",
       "4     9.40        5  \n",
       "5     9.40        5  \n",
       "6     9.40        5  \n",
       "7    10.00        7  \n",
       "8     9.50        7  \n",
       "9    10.50        5  "
      ]
     },
     "execution_count": 11,
     "metadata": {},
     "output_type": "execute_result"
    }
   ],
   "source": [
    "df_red.head(10)"
   ]
  },
  {
   "cell_type": "code",
   "execution_count": 13,
   "metadata": {},
   "outputs": [],
   "source": [
    "def plot_histogram(data,var):\n",
    "    path_img_hist = \"/home/lalo/Documentos/Diplomado Ciencia de Datos/Modulo 2 Modelaciòn Supervisada/Ejercicios En Equipo/practica 2/\"\n",
    "    ye_s, equis = np.histogram(data[var])\n",
    "    hist = list(zip(ye_s, equis, equis[1:]))\n",
    "    hist_plot = pygal.Histogram()\n",
    "    hist_plot.add(var + \"_dist\", hist)\n",
    "    hist_plot.render_to_png(path_img_hist + var)"
   ]
  },
  {
   "cell_type": "code",
   "execution_count": null,
   "metadata": {},
   "outputs": [],
   "source": [
    "ls_pred = [x for x in df_white.columns if x not in [tgt]]"
   ]
  },
  {
   "cell_type": "code",
   "execution_count": null,
   "metadata": {},
   "outputs": [],
   "source": [
    "for var_cont in ls_cont:\n",
    "   [plot_histogram(train,var_cont)]"
   ]
  }
 ],
 "metadata": {
  "kernelspec": {
   "display_name": "Python 3",
   "language": "python",
   "name": "python3"
  },
  "language_info": {
   "codemirror_mode": {
    "name": "ipython",
    "version": 3
   },
   "file_extension": ".py",
   "mimetype": "text/x-python",
   "name": "python",
   "nbconvert_exporter": "python",
   "pygments_lexer": "ipython3",
   "version": "3.7.3"
  }
 },
 "nbformat": 4,
 "nbformat_minor": 2
}
