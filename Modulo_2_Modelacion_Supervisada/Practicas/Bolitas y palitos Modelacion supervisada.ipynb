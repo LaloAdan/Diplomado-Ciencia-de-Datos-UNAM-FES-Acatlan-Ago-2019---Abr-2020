{
 "cells": [
  {
   "cell_type": "code",
   "execution_count": 1,
   "metadata": {},
   "outputs": [],
   "source": [
    "%config IPCompleter.greedy=True\n",
    "import os\n",
    "import pygal\n",
    "import numpy as np\n",
    "import pandas as pd\n",
    "from pandas.io.json import json_normalize\n",
    "import cairosvg\n",
    "import datetime\n",
    "import matplotlib.pyplot as plt\n",
    "from scipy.stats import ks_2samp\n",
    "from scipy.stats import chisquare\n",
    "from sklearn.linear_model import LinearRegression, LogisticRegression\n",
    "from sklearn.feature_selection import SelectKBest, f_regression\n",
    "from sklearn.metrics import r2_score, roc_auc_score, roc_curve"
   ]
  },
  {
   "cell_type": "code",
   "execution_count": 3,
   "metadata": {},
   "outputs": [],
   "source": [
    "path_datos = \"/home/laloadan/Documentos/Diplomado_Ciencia_de_Datos/Modulo 2 Modelaciòn Supervisada/Bases de Datos/\"\n",
    "df = pd.read_csv(path_datos + \"OnlineNewsPopularity.csv\")\n",
    "\n",
    "df.columns =[x.strip() for x in df.columns]"
   ]
  },
  {
   "cell_type": "code",
   "execution_count": 4,
   "metadata": {},
   "outputs": [],
   "source": [
    "var_cont = ['timedelta', 'n_tokens_title', 'n_tokens_content', 'n_unique_tokens', 'n_non_stop_words', \n",
    "           'n_non_stop_unique_tokens', 'num_hrefs', 'num_self_hrefs', 'num_imgs', 'num_videos', \n",
    "           'average_token_length', 'num_keywords', 'kw_min_min', 'kw_max_min', 'kw_avg_min', \n",
    "           'kw_min_max', 'kw_max_max', 'kw_avg_max', 'kw_min_avg', 'kw_max_avg', 'kw_avg_avg', \n",
    "           'self_reference_min_shares', 'self_reference_max_shares', 'self_reference_avg_sharess', \n",
    "           'LDA_00', 'LDA_01', 'LDA_02', 'LDA_03', 'LDA_04', 'global_subjectivity', \n",
    "           'global_sentiment_polarity', 'global_rate_positive_words', 'global_rate_negative_words',\n",
    "           'rate_positive_words', 'rate_negative_words', 'avg_positive_polarity', 'min_positive_polarity',\n",
    "           'max_positive_polarity', 'avg_negative_polarity', 'min_negative_polarity', \n",
    "           'max_negative_polarity', 'title_subjectivity', 'title_sentiment_polarity', \n",
    "           'abs_title_subjectivity', 'abs_title_sentiment_polarity']\n"
   ]
  },
  {
   "cell_type": "markdown",
   "metadata": {},
   "source": [
    "# --------------------------- Regresión Lineal -------------------------"
   ]
  },
  {
   "cell_type": "code",
   "execution_count": 5,
   "metadata": {},
   "outputs": [],
   "source": [
    "# Se jugarà con las discretas para llegar a una variable objetivo continua\n",
    "# El chiste es minimizar el error \n",
    "# Hay que calcular el coeficiente de relaciòn (r) y si es cercano a 1, ya la hicimos\n",
    "var_disc = ['data_channel_is_lifestyle', 'data_channel_is_entertainment', 'data_channel_is_bus', \n",
    "           'data_channel_is_socmed', 'data_channel_is_tech', 'data_channel_is_world', 'weekday_is_monday',\n",
    "           'weekday_is_tuesday', 'weekday_is_wednesday', 'weekday_is_thursday', 'weekday_is_friday',\n",
    "           'weekday_is_saturday', 'weekday_is_sunday', 'is_weekend']\n"
   ]
  },
  {
   "cell_type": "code",
   "execution_count": 8,
   "metadata": {},
   "outputs": [
    {
     "data": {
      "text/plain": [
       "0     593\n",
       "1     711\n",
       "2    1500\n",
       "3    1200\n",
       "4     505\n",
       "Name: shares, dtype: int64"
      ]
     },
     "execution_count": 8,
     "metadata": {},
     "output_type": "execute_result"
    }
   ],
   "source": [
    "df['shares'].head(5)"
   ]
  },
  {
   "cell_type": "code",
   "execution_count": 6,
   "metadata": {},
   "outputs": [
    {
     "data": {
      "text/plain": [
       "LinearRegression(copy_X=True, fit_intercept=True, n_jobs=None, normalize=False)"
      ]
     },
     "execution_count": 6,
     "metadata": {},
     "output_type": "execute_result"
    }
   ],
   "source": [
    "# Se declara una variable que almacenarà los mètodos y caracteristicas de la regresión lineal\n",
    "mr = LinearRegression()\n",
    "\n",
    "# mr se guarda el modelo, donde se necesita el array con las variables a jugar (X)\n",
    "#  y la variable objetivo (y)\n",
    "mr.fit(X = df[var_cont], y = df['shares'])\n"
   ]
  },
  {
   "cell_type": "code",
   "execution_count": 6,
   "metadata": {},
   "outputs": [
    {
     "data": {
      "text/html": [
       "<div>\n",
       "<style scoped>\n",
       "    .dataframe tbody tr th:only-of-type {\n",
       "        vertical-align: middle;\n",
       "    }\n",
       "\n",
       "    .dataframe tbody tr th {\n",
       "        vertical-align: top;\n",
       "    }\n",
       "\n",
       "    .dataframe thead th {\n",
       "        text-align: right;\n",
       "    }\n",
       "</style>\n",
       "<table border=\"1\" class=\"dataframe\">\n",
       "  <thead>\n",
       "    <tr style=\"text-align: right;\">\n",
       "      <th></th>\n",
       "      <th>shares</th>\n",
       "      <th>y_hat</th>\n",
       "    </tr>\n",
       "  </thead>\n",
       "  <tbody>\n",
       "    <tr>\n",
       "      <th>0</th>\n",
       "      <td>593</td>\n",
       "      <td>-245.539620</td>\n",
       "    </tr>\n",
       "    <tr>\n",
       "      <th>1</th>\n",
       "      <td>711</td>\n",
       "      <td>-806.713086</td>\n",
       "    </tr>\n",
       "    <tr>\n",
       "      <th>2</th>\n",
       "      <td>1500</td>\n",
       "      <td>742.545164</td>\n",
       "    </tr>\n",
       "    <tr>\n",
       "      <th>3</th>\n",
       "      <td>1200</td>\n",
       "      <td>-434.420744</td>\n",
       "    </tr>\n",
       "    <tr>\n",
       "      <th>4</th>\n",
       "      <td>505</td>\n",
       "      <td>-294.709800</td>\n",
       "    </tr>\n",
       "  </tbody>\n",
       "</table>\n",
       "</div>"
      ],
      "text/plain": [
       "   shares       y_hat\n",
       "0     593 -245.539620\n",
       "1     711 -806.713086\n",
       "2    1500  742.545164\n",
       "3    1200 -434.420744\n",
       "4     505 -294.709800"
      ]
     },
     "execution_count": 6,
     "metadata": {},
     "output_type": "execute_result"
    }
   ],
   "source": [
    "# Se crea una variable \"estimada\" ŷ tomando en cuenta las variables continuas\n",
    "\n",
    "df[\"y_hat\"] = mr.predict(X = df[var_cont])\n",
    "\n",
    "# Vemos que tal son los resultados que se calcularon\n",
    "df[[\"shares\", \"y_hat\"]].head(5)"
   ]
  },
  {
   "cell_type": "markdown",
   "metadata": {},
   "source": [
    "Valió barriga... ¡¡¡Están bien culeros!!!"
   ]
  },
  {
   "cell_type": "markdown",
   "metadata": {},
   "source": [
    "## Tal vez haya outlayer, hay que quitarlos"
   ]
  },
  {
   "cell_type": "code",
   "execution_count": 9,
   "metadata": {},
   "outputs": [
    {
     "data": {
      "text/plain": [
       "(39644, 62)"
      ]
     },
     "execution_count": 9,
     "metadata": {},
     "output_type": "execute_result"
    }
   ],
   "source": [
    "df_aux = pd.read_csv(path_datos + \"OnlineNewsPopularity.csv\")\n",
    "df_aux.columns = [x.strip() for x in df_aux.columns]\n",
    "\n",
    "df.shape"
   ]
  },
  {
   "cell_type": "code",
   "execution_count": 10,
   "metadata": {},
   "outputs": [],
   "source": [
    "def New_pob_var_sigma(data_origen,var, enes=3):\n",
    "    data = pd.DataFrame(data_origen)\n",
    "    \n",
    "    sigma = data[var].std()\n",
    "    media = data[var].mean()\n",
    "    lim_inf  = media - enes*sigma\n",
    "    lim_sup = media + enes*sigma\n",
    "    \n",
    "    return lim_inf,lim_sup"
   ]
  },
  {
   "cell_type": "code",
   "execution_count": 11,
   "metadata": {},
   "outputs": [
    {
     "data": {
      "text/plain": [
       "(34307, 61)"
      ]
     },
     "execution_count": 11,
     "metadata": {},
     "output_type": "execute_result"
    }
   ],
   "source": [
    "# Un Dataframe es lo mismo que una tabla\n",
    "\n",
    "for var_cont_i in var_cont:\n",
    "# Se calculan las cotas superiores e inferiores de cada variable de la tabla original  (df)\n",
    "# Asì no afectamos que se haya reducido la poblaciòn\n",
    "    Cota_Inf, Cota_Sup = New_pob_var_sigma(df,var_cont_i,4)\n",
    "    \n",
    "# Se reducirà un dataframe auxiliar, tomando en cuenta los limites del dataframe original\n",
    "    df_aux = df_aux[(Cota_Inf <= df_aux[var_cont_i]) & (df_aux[var_cont_i] <= Cota_Sup)]\n",
    "  \n",
    "\n",
    "df_aux.shape"
   ]
  },
  {
   "cell_type": "code",
   "execution_count": 13,
   "metadata": {},
   "outputs": [
    {
     "data": {
      "text/plain": [
       "(34156, 61)"
      ]
     },
     "execution_count": 13,
     "metadata": {},
     "output_type": "execute_result"
    }
   ],
   "source": [
    "# Hace falta quoitarlos de la variable objetivo\n",
    "var_objetivo = \"shares\"\n",
    "\n",
    "Cota_Inf, Cota_Sup = New_pob_var_sigma(df,var_objetivo,4)\n",
    "\n",
    "df_aux = df_aux[(Cota_Inf <= df_aux[var_objetivo]) & (df_aux[var_objetivo] <= Cota_Sup)]\n",
    "  \n",
    "\n",
    "df_aux.shape\n"
   ]
  },
  {
   "cell_type": "code",
   "execution_count": 14,
   "metadata": {},
   "outputs": [
    {
     "data": {
      "text/html": [
       "<div>\n",
       "<style scoped>\n",
       "    .dataframe tbody tr th:only-of-type {\n",
       "        vertical-align: middle;\n",
       "    }\n",
       "\n",
       "    .dataframe tbody tr th {\n",
       "        vertical-align: top;\n",
       "    }\n",
       "\n",
       "    .dataframe thead th {\n",
       "        text-align: right;\n",
       "    }\n",
       "</style>\n",
       "<table border=\"1\" class=\"dataframe\">\n",
       "  <thead>\n",
       "    <tr style=\"text-align: right;\">\n",
       "      <th></th>\n",
       "      <th>shares</th>\n",
       "      <th>y_hat</th>\n",
       "    </tr>\n",
       "  </thead>\n",
       "  <tbody>\n",
       "    <tr>\n",
       "      <th>0</th>\n",
       "      <td>593</td>\n",
       "      <td>-136.339092</td>\n",
       "    </tr>\n",
       "    <tr>\n",
       "      <th>1</th>\n",
       "      <td>711</td>\n",
       "      <td>-257.403961</td>\n",
       "    </tr>\n",
       "    <tr>\n",
       "      <th>2</th>\n",
       "      <td>1500</td>\n",
       "      <td>550.320412</td>\n",
       "    </tr>\n",
       "    <tr>\n",
       "      <th>3</th>\n",
       "      <td>1200</td>\n",
       "      <td>-319.770683</td>\n",
       "    </tr>\n",
       "    <tr>\n",
       "      <th>5</th>\n",
       "      <td>855</td>\n",
       "      <td>263.979816</td>\n",
       "    </tr>\n",
       "  </tbody>\n",
       "</table>\n",
       "</div>"
      ],
      "text/plain": [
       "   shares       y_hat\n",
       "0     593 -136.339092\n",
       "1     711 -257.403961\n",
       "2    1500  550.320412\n",
       "3    1200 -319.770683\n",
       "5     855  263.979816"
      ]
     },
     "execution_count": 14,
     "metadata": {},
     "output_type": "execute_result"
    }
   ],
   "source": [
    "# A mì no me hace sentido quitar outlyers en las variables continuas si no se toman en cuenta\n",
    "mr_aux = LinearRegression()\n",
    "mr_aux.fit(X = df_aux[var_cont], y = df_aux['shares'])\n",
    "df_aux[\"y_hat\"] = mr_aux.predict(X = df_aux[var_cont])\n",
    "\n",
    "# Vemos que tal son los resultados que se calcularon\n",
    "df_aux[[\"shares\", \"y_hat\"]].head(5)"
   ]
  },
  {
   "cell_type": "markdown",
   "metadata": {},
   "source": [
    "Aunque se redujo un poco la diferencia entre shares y la ŷ, sigue\n",
    "estando bien culeros"
   ]
  },
  {
   "cell_type": "markdown",
   "metadata": {},
   "source": [
    "## 1. Ajuste de la regresión lineal "
   ]
  },
  {
   "cell_type": "code",
   "execution_count": 15,
   "metadata": {},
   "outputs": [
    {
     "name": "stdout",
     "output_type": "stream",
     "text": [
      "0.02258175402466578 0.06342531122250505\n"
     ]
    }
   ],
   "source": [
    "# Hay que ver la calificación que tiene el modelo\n",
    "Score_original = mr.score(df[var_cont], df['shares'])\n",
    "Score_aux = mr_aux.score(df_aux[var_cont], df_aux['shares'])\n",
    "\n",
    "print(Score_original, Score_aux)"
   ]
  },
  {
   "cell_type": "markdown",
   "metadata": {},
   "source": [
    "No hay mucha diferencia entre la tabla original y la auxiliar (Sin Outlyers). A fin de cuentas, estàn como para llorar"
   ]
  },
  {
   "cell_type": "code",
   "execution_count": 16,
   "metadata": {},
   "outputs": [
    {
     "name": "stdout",
     "output_type": "stream",
     "text": [
      "0.02258175402466578 0.06342531122250505\n"
     ]
    }
   ],
   "source": [
    "# Y ahora hay que ver que tanta relaciòn hay entre las variables. Entre màs cercano al 1 mejor.\n",
    "r_original = r2_score(df['shares'], df['y_hat'])\n",
    "r_aux = r2_score(df_aux['shares'], df_aux['y_hat'])\n",
    "\n",
    "print(r_original, r_aux)"
   ]
  },
  {
   "cell_type": "markdown",
   "metadata": {},
   "source": [
    "Sigue sin ser suficiente, la relaciòn es es menor al 10% en ambos casos"
   ]
  },
  {
   "cell_type": "code",
   "execution_count": 17,
   "metadata": {},
   "outputs": [
    {
     "name": "stdout",
     "output_type": "stream",
     "text": [
      "1.9127664846961936 1.286827272852407\n"
     ]
    }
   ],
   "source": [
    "pema = (abs(df['shares'] - df['y_hat'])/df['shares'])*(1/df.shape[0])\n",
    "pema_aux = (abs(df_aux['shares'] - df_aux['y_hat'])/df_aux['shares'])*(1/df_aux.shape[0])\n",
    "\n",
    "print(sum(pema),sum(pema_aux))"
   ]
  },
  {
   "cell_type": "markdown",
   "metadata": {},
   "source": [
    "No sé que es pema, ni para que se usa o que significa ¡¡Maldita sea!!"
   ]
  },
  {
   "cell_type": "markdown",
   "metadata": {},
   "source": [
    "## Encontrar las variables más significativas "
   ]
  },
  {
   "cell_type": "code",
   "execution_count": 18,
   "metadata": {},
   "outputs": [
    {
     "name": "stdout",
     "output_type": "stream",
     "text": [
      "['kw_min_min', 'kw_max_min', 'kw_max_max', 'kw_max_avg', 'kw_avg_avg']\n",
      "['kw_min_min', 'kw_max_min', 'kw_max_max', 'kw_max_avg', 'kw_avg_avg']\n"
     ]
    },
    {
     "name": "stderr",
     "output_type": "stream",
     "text": [
      "/home/lalo/anaconda3/lib/python3.7/site-packages/sklearn/feature_selection/univariate_selection.py:293: RuntimeWarning: invalid value encountered in sqrt\n",
      "  n_samples * X_means ** 2)\n",
      "/home/lalo/anaconda3/lib/python3.7/site-packages/scipy/stats/_distn_infrastructure.py:901: RuntimeWarning: invalid value encountered in greater\n",
      "  return (a < x) & (x < b)\n",
      "/home/lalo/anaconda3/lib/python3.7/site-packages/scipy/stats/_distn_infrastructure.py:901: RuntimeWarning: invalid value encountered in less\n",
      "  return (a < x) & (x < b)\n",
      "/home/lalo/anaconda3/lib/python3.7/site-packages/scipy/stats/_distn_infrastructure.py:1892: RuntimeWarning: invalid value encountered in less_equal\n",
      "  cond2 = cond0 & (x <= _a)\n"
     ]
    }
   ],
   "source": [
    "kb = SelectKBest(k=5, score_func=f_regression)\n",
    "kb.fit(X=df[var_cont], y=df[\"shares\"])\n",
    "k_best = [x for x, y in zip([x for x in df.columns if x != \"shares\"], kb.get_support()) if y]\n",
    "\n",
    "kb_aux = SelectKBest(k=5, score_func=f_regression)\n",
    "kb_aux.fit(X=df_aux[var_cont], y=df_aux[\"shares\"])\n",
    "k_best_aux = [x for x, y in zip([x for x in df_aux.columns if x != \"shares\"], kb.get_support()) if y]\n",
    "\n",
    "\n",
    "print(k_best)\n",
    "print(k_best_aux)"
   ]
  },
  {
   "cell_type": "markdown",
   "metadata": {},
   "source": [
    "Se encontraron las mismas variables significativas."
   ]
  },
  {
   "cell_type": "code",
   "execution_count": 19,
   "metadata": {},
   "outputs": [
    {
     "data": {
      "text/plain": [
       "[('kw_min_min', 1.7784121238524142),\n",
       " ('kw_max_min', 104.89866790374093),\n",
       " ('kw_max_max', 0.5398372364453004),\n",
       " ('kw_max_avg', 3805.882067584673),\n",
       " ('kw_avg_avg', -2063.72960667464)]"
      ]
     },
     "execution_count": 19,
     "metadata": {},
     "output_type": "execute_result"
    }
   ],
   "source": [
    "[(x,y) for x,y in zip(k_best,mr.coef_)]"
   ]
  },
  {
   "cell_type": "code",
   "execution_count": 20,
   "metadata": {},
   "outputs": [
    {
     "data": {
      "text/plain": [
       "[('kw_min_min', 0.5997353468300006),\n",
       " ('kw_max_min', 30.811442359077972),\n",
       " ('kw_max_max', 0.0577602408911356),\n",
       " ('kw_max_avg', -1030.4582642182768),\n",
       " ('kw_avg_avg', -22715793677.247406)]"
      ]
     },
     "execution_count": 20,
     "metadata": {},
     "output_type": "execute_result"
    }
   ],
   "source": [
    "[(x_aux,y_aux) for x_aux,y_aux in zip(k_best_aux,mr_aux.coef_)]"
   ]
  },
  {
   "cell_type": "markdown",
   "metadata": {},
   "source": [
    "La variable kw_avg_avg se disparó bien gacho"
   ]
  },
  {
   "cell_type": "code",
   "execution_count": 21,
   "metadata": {},
   "outputs": [
    {
     "name": "stdout",
     "output_type": "stream",
     "text": [
      "0.014779226693894419 0.04366000490546973\n"
     ]
    }
   ],
   "source": [
    "# Se vuelve a hacer la regresiòn con las nuevas variables y se saca su score\n",
    "mr_2 = LinearRegression()\n",
    "mr_2.fit(X = df[k_best], y = df['shares'])\n",
    "score_1 = mr_2.score(df[k_best], df['shares'])\n",
    "\n",
    "mr_2_aux = LinearRegression()\n",
    "mr_2_aux.fit(X = df_aux[k_best_aux], y = df_aux['shares'])\n",
    "score_2 = mr_2_aux.score(df_aux[k_best_aux], df_aux['shares'])\n",
    "\n",
    "print(score_1,score_2)"
   ]
  },
  {
   "cell_type": "markdown",
   "metadata": {},
   "source": [
    "Quedaron casi igual de culeros jajajaja"
   ]
  },
  {
   "cell_type": "markdown",
   "metadata": {},
   "source": [
    "## Construcción de una variable discreta en función de la original "
   ]
  },
  {
   "cell_type": "code",
   "execution_count": 29,
   "metadata": {},
   "outputs": [
    {
     "name": "stdout",
     "output_type": "stream",
     "text": [
      "3395.3801836343455\n"
     ]
    },
    {
     "data": {
      "text/html": [
       "<div>\n",
       "<style scoped>\n",
       "    .dataframe tbody tr th:only-of-type {\n",
       "        vertical-align: middle;\n",
       "    }\n",
       "\n",
       "    .dataframe tbody tr th {\n",
       "        vertical-align: top;\n",
       "    }\n",
       "\n",
       "    .dataframe thead th {\n",
       "        text-align: right;\n",
       "    }\n",
       "</style>\n",
       "<table border=\"1\" class=\"dataframe\">\n",
       "  <thead>\n",
       "    <tr style=\"text-align: right;\">\n",
       "      <th></th>\n",
       "      <th>tgt</th>\n",
       "      <th>shares</th>\n",
       "    </tr>\n",
       "  </thead>\n",
       "  <tbody>\n",
       "    <tr>\n",
       "      <th>0</th>\n",
       "      <td>0</td>\n",
       "      <td>593</td>\n",
       "    </tr>\n",
       "    <tr>\n",
       "      <th>1</th>\n",
       "      <td>0</td>\n",
       "      <td>711</td>\n",
       "    </tr>\n",
       "    <tr>\n",
       "      <th>2</th>\n",
       "      <td>0</td>\n",
       "      <td>1500</td>\n",
       "    </tr>\n",
       "    <tr>\n",
       "      <th>3</th>\n",
       "      <td>0</td>\n",
       "      <td>1200</td>\n",
       "    </tr>\n",
       "    <tr>\n",
       "      <th>4</th>\n",
       "      <td>0</td>\n",
       "      <td>505</td>\n",
       "    </tr>\n",
       "    <tr>\n",
       "      <th>5</th>\n",
       "      <td>0</td>\n",
       "      <td>855</td>\n",
       "    </tr>\n",
       "    <tr>\n",
       "      <th>6</th>\n",
       "      <td>0</td>\n",
       "      <td>556</td>\n",
       "    </tr>\n",
       "    <tr>\n",
       "      <th>7</th>\n",
       "      <td>0</td>\n",
       "      <td>891</td>\n",
       "    </tr>\n",
       "    <tr>\n",
       "      <th>8</th>\n",
       "      <td>1</td>\n",
       "      <td>3600</td>\n",
       "    </tr>\n",
       "    <tr>\n",
       "      <th>9</th>\n",
       "      <td>0</td>\n",
       "      <td>710</td>\n",
       "    </tr>\n",
       "    <tr>\n",
       "      <th>10</th>\n",
       "      <td>0</td>\n",
       "      <td>2200</td>\n",
       "    </tr>\n",
       "    <tr>\n",
       "      <th>11</th>\n",
       "      <td>0</td>\n",
       "      <td>1900</td>\n",
       "    </tr>\n",
       "    <tr>\n",
       "      <th>12</th>\n",
       "      <td>0</td>\n",
       "      <td>823</td>\n",
       "    </tr>\n",
       "    <tr>\n",
       "      <th>13</th>\n",
       "      <td>1</td>\n",
       "      <td>10000</td>\n",
       "    </tr>\n",
       "    <tr>\n",
       "      <th>14</th>\n",
       "      <td>0</td>\n",
       "      <td>761</td>\n",
       "    </tr>\n",
       "  </tbody>\n",
       "</table>\n",
       "</div>"
      ],
      "text/plain": [
       "    tgt  shares\n",
       "0     0     593\n",
       "1     0     711\n",
       "2     0    1500\n",
       "3     0    1200\n",
       "4     0     505\n",
       "5     0     855\n",
       "6     0     556\n",
       "7     0     891\n",
       "8     1    3600\n",
       "9     0     710\n",
       "10    0    2200\n",
       "11    0    1900\n",
       "12    0     823\n",
       "13    1   10000\n",
       "14    0     761"
      ]
     },
     "execution_count": 29,
     "metadata": {},
     "output_type": "execute_result"
    }
   ],
   "source": [
    "# Lo que se puede hacer es crear una variable binaria donde sea 1 si es mayor al promedio y\n",
    "# 0 en el resto de los casos\n",
    "\n",
    "# Por defecto, nos regresa valores booleanos (T or F) entonces se cambia el tipo a entero\n",
    "# Y nos quedaran 1 para T y 0 para F\n",
    "df[\"tgt\"] = (df[\"shares\"] > df[\"shares\"].mean()).astype(int)\n",
    "print(df[\"shares\"].mean())\n",
    "df[[\"tgt\",\"shares\"]].head(15)\n"
   ]
  },
  {
   "cell_type": "code",
   "execution_count": 30,
   "metadata": {},
   "outputs": [
    {
     "name": "stdout",
     "output_type": "stream",
     "text": [
      "2749.935472537768\n"
     ]
    },
    {
     "data": {
      "text/html": [
       "<div>\n",
       "<style scoped>\n",
       "    .dataframe tbody tr th:only-of-type {\n",
       "        vertical-align: middle;\n",
       "    }\n",
       "\n",
       "    .dataframe tbody tr th {\n",
       "        vertical-align: top;\n",
       "    }\n",
       "\n",
       "    .dataframe thead th {\n",
       "        text-align: right;\n",
       "    }\n",
       "</style>\n",
       "<table border=\"1\" class=\"dataframe\">\n",
       "  <thead>\n",
       "    <tr style=\"text-align: right;\">\n",
       "      <th></th>\n",
       "      <th>tgt</th>\n",
       "      <th>shares</th>\n",
       "    </tr>\n",
       "  </thead>\n",
       "  <tbody>\n",
       "    <tr>\n",
       "      <th>0</th>\n",
       "      <td>0</td>\n",
       "      <td>593</td>\n",
       "    </tr>\n",
       "    <tr>\n",
       "      <th>1</th>\n",
       "      <td>0</td>\n",
       "      <td>711</td>\n",
       "    </tr>\n",
       "    <tr>\n",
       "      <th>2</th>\n",
       "      <td>0</td>\n",
       "      <td>1500</td>\n",
       "    </tr>\n",
       "    <tr>\n",
       "      <th>3</th>\n",
       "      <td>0</td>\n",
       "      <td>1200</td>\n",
       "    </tr>\n",
       "    <tr>\n",
       "      <th>5</th>\n",
       "      <td>0</td>\n",
       "      <td>855</td>\n",
       "    </tr>\n",
       "    <tr>\n",
       "      <th>9</th>\n",
       "      <td>0</td>\n",
       "      <td>710</td>\n",
       "    </tr>\n",
       "    <tr>\n",
       "      <th>10</th>\n",
       "      <td>0</td>\n",
       "      <td>2200</td>\n",
       "    </tr>\n",
       "    <tr>\n",
       "      <th>11</th>\n",
       "      <td>0</td>\n",
       "      <td>1900</td>\n",
       "    </tr>\n",
       "    <tr>\n",
       "      <th>14</th>\n",
       "      <td>0</td>\n",
       "      <td>761</td>\n",
       "    </tr>\n",
       "    <tr>\n",
       "      <th>15</th>\n",
       "      <td>0</td>\n",
       "      <td>1600</td>\n",
       "    </tr>\n",
       "    <tr>\n",
       "      <th>16</th>\n",
       "      <td>1</td>\n",
       "      <td>13600</td>\n",
       "    </tr>\n",
       "    <tr>\n",
       "      <th>17</th>\n",
       "      <td>1</td>\n",
       "      <td>3100</td>\n",
       "    </tr>\n",
       "    <tr>\n",
       "      <th>18</th>\n",
       "      <td>1</td>\n",
       "      <td>5700</td>\n",
       "    </tr>\n",
       "    <tr>\n",
       "      <th>21</th>\n",
       "      <td>0</td>\n",
       "      <td>598</td>\n",
       "    </tr>\n",
       "    <tr>\n",
       "      <th>23</th>\n",
       "      <td>0</td>\n",
       "      <td>1500</td>\n",
       "    </tr>\n",
       "  </tbody>\n",
       "</table>\n",
       "</div>"
      ],
      "text/plain": [
       "    tgt  shares\n",
       "0     0     593\n",
       "1     0     711\n",
       "2     0    1500\n",
       "3     0    1200\n",
       "5     0     855\n",
       "9     0     710\n",
       "10    0    2200\n",
       "11    0    1900\n",
       "14    0     761\n",
       "15    0    1600\n",
       "16    1   13600\n",
       "17    1    3100\n",
       "18    1    5700\n",
       "21    0     598\n",
       "23    0    1500"
      ]
     },
     "execution_count": 30,
     "metadata": {},
     "output_type": "execute_result"
    }
   ],
   "source": [
    "df_aux[\"tgt\"] = (df_aux[\"shares\"] > df_aux[\"shares\"].mean()).astype(int)\n",
    "print(df_aux[\"shares\"].mean())\n",
    "df_aux[[\"tgt\",\"shares\"]].head(15)"
   ]
  },
  {
   "cell_type": "markdown",
   "metadata": {},
   "source": [
    "# Regresión Logistica"
   ]
  },
  {
   "cell_type": "code",
   "execution_count": null,
   "metadata": {},
   "outputs": [],
   "source": []
  }
 ],
 "metadata": {
  "kernelspec": {
   "display_name": "Python 3",
   "language": "python",
   "name": "python3"
  },
  "language_info": {
   "codemirror_mode": {
    "name": "ipython",
    "version": 3
   },
   "file_extension": ".py",
   "mimetype": "text/x-python",
   "name": "python",
   "nbconvert_exporter": "python",
   "pygments_lexer": "ipython3",
   "version": "3.7.4"
  }
 },
 "nbformat": 4,
 "nbformat_minor": 2
}
